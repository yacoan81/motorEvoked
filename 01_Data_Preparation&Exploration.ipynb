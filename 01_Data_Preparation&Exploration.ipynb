{
  "nbformat": 4,
  "nbformat_minor": 0,
  "metadata": {
    "colab": {
      "name": "01_Data_Preparation&Exploration.ipynb",
      "provenance": [],
      "collapsed_sections": [],
      "include_colab_link": true
    },
    "hide_input": false,
    "kernelspec": {
      "display_name": "Python 3",
      "language": "python",
      "name": "python3"
    },
    "language_info": {
      "codemirror_mode": {
        "name": "ipython",
        "version": 3
      },
      "file_extension": ".py",
      "mimetype": "text/x-python",
      "name": "python",
      "nbconvert_exporter": "python",
      "pygments_lexer": "ipython3",
      "version": "3.7.1"
    },
    "toc": {
      "base_numbering": 1,
      "nav_menu": {},
      "number_sections": true,
      "sideBar": true,
      "skip_h1_title": false,
      "title_cell": "Table of Contents",
      "title_sidebar": "Contents",
      "toc_cell": false,
      "toc_position": {},
      "toc_section_display": true,
      "toc_window_display": false
    }
  },
  "cells": [
    {
      "cell_type": "markdown",
      "metadata": {
        "id": "view-in-github",
        "colab_type": "text"
      },
      "source": [
        "<a href=\"https://colab.research.google.com/github/yacoan81/motorEvoked/blob/main/01_Data_Preparation%26Exploration.ipynb\" target=\"_parent\"><img src=\"https://colab.research.google.com/assets/colab-badge.svg\" alt=\"Open In Colab\"/></a>"
      ]
    },
    {
      "cell_type": "markdown",
      "metadata": {
        "id": "acYO7eoDPb2x"
      },
      "source": [
        "# Import and preparation"
      ]
    },
    {
      "cell_type": "code",
      "metadata": {
        "id": "6Gkaw1buBd-p"
      },
      "source": [
        "import numpy as np\n",
        "import pandas as pd\n",
        "import math\n",
        "import warnings\n",
        "import matplotlib.pyplot as plt\n",
        "from IPython.core.display import display, HTML\n",
        "from collections import Counter\n",
        "import random\n",
        "warnings.filterwarnings('ignore')\n",
        "\n",
        "# Code to read csv file into Colaboratory:\n",
        "!pip install -U -q PyDrive\n",
        "from pydrive.auth import GoogleAuth\n",
        "from pydrive.drive import GoogleDrive\n",
        "from google.colab import auth\n",
        "from google.colab import drive\n",
        "from oauth2client.client import GoogleCredentials\n",
        "\n",
        "# Authenticate and create the PyDrive client.\n",
        "auth.authenticate_user()\n",
        "gauth = GoogleAuth()\n",
        "gauth.credentials = GoogleCredentials.get_application_default()\n",
        "Gdrive = GoogleDrive(gauth)\n"
      ],
      "execution_count": null,
      "outputs": []
    },
    {
      "cell_type": "code",
      "metadata": {
        "id": "eBiSZKqaX-ST"
      },
      "source": [
        "def display_side_by_side(dfs:list, captions:list):\n",
        "    \"\"\"Display tables side by side to save vertical space\n",
        "    Input:\n",
        "        dfs: list of pandas.DataFrame\n",
        "        captions: list of table captions\n",
        "    \"\"\"\n",
        "    output = \"\"\n",
        "    combined = dict(zip(captions, dfs))\n",
        "    for caption, df in combined.items():\n",
        "        output += df.style.set_table_attributes(\"style='display:inline'\").set_caption(caption)._repr_html_()\n",
        "        output += \"\\xa0\\xa0\\xa0\"\n",
        "    display(HTML(output))"
      ],
      "execution_count": null,
      "outputs": []
    },
    {
      "cell_type": "code",
      "metadata": {
        "id": "FBIzJdzZBd-s"
      },
      "source": [
        "clinical = '19Q6-A4HTCVrMr65nGVeNCUqknUukqIun'\n",
        "mep = '19SM9RvD5OOmyQ3MOHkjnfNx1JSHZikZZ'\n"
      ],
      "execution_count": null,
      "outputs": []
    },
    {
      "cell_type": "code",
      "metadata": {
        "id": "4GCK3m6FC-XD"
      },
      "source": [
        "downloaded = Gdrive.CreateFile({'id':clinical}) \n",
        "downloaded.GetContentFile('clinical_data.csv')  \n",
        "clinical = pd.read_csv('clinical_data.csv')"
      ],
      "execution_count": null,
      "outputs": []
    },
    {
      "cell_type": "code",
      "metadata": {
        "id": "IC1_Ee0UDwqz"
      },
      "source": [
        "Clinical_Copy = clinical.copy()"
      ],
      "execution_count": null,
      "outputs": []
    },
    {
      "cell_type": "code",
      "metadata": {
        "id": "3ec7Mnt-Dl3A"
      },
      "source": [
        "downloaded = Gdrive.CreateFile({'id':mep}) \n",
        "downloaded.GetContentFile('mep_data.csv')  \n",
        "mep = pd.read_csv('mep_data.csv')"
      ],
      "execution_count": null,
      "outputs": []
    },
    {
      "cell_type": "code",
      "metadata": {
        "id": "2tkkog6ZBd-s"
      },
      "source": [
        "mep_Copy = mep.copy()"
      ],
      "execution_count": null,
      "outputs": []
    },
    {
      "cell_type": "markdown",
      "metadata": {
        "id": "UKtkK9-dBd-s"
      },
      "source": [
        "# Clinical Data dataset"
      ]
    },
    {
      "cell_type": "code",
      "metadata": {
        "colab": {
          "base_uri": "https://localhost:8080/"
        },
        "id": "GL5zq768Bd-s",
        "outputId": "d4f1cae6-b1f2-4092-e5b1-de6d6c28ecd6"
      },
      "source": [
        "print(\"Clinical data: {} rows and {} columns\".format(clinical.shape[0],clinical.shape[1]))"
      ],
      "execution_count": null,
      "outputs": [
        {
          "output_type": "stream",
          "text": [
            "Clinical data: 7414 rows and 4 columns\n"
          ],
          "name": "stdout"
        }
      ]
    },
    {
      "cell_type": "code",
      "metadata": {
        "colab": {
          "base_uri": "https://localhost:8080/"
        },
        "id": "g9d1QmyPQDbN",
        "outputId": "07892f2c-4e51-494a-c752-4bfcfcb6df81"
      },
      "source": [
        "print(\"Motor Evoked data: {} rows and {} columns\".format(mep.shape[0],mep.shape[1]))"
      ],
      "execution_count": null,
      "outputs": [
        {
          "output_type": "stream",
          "text": [
            "Motor Evoked data: 13304 rows and 13 columns\n"
          ],
          "name": "stdout"
        }
      ]
    },
    {
      "cell_type": "code",
      "metadata": {
        "id": "RjcKlLw5Bd-t"
      },
      "source": [
        "#removing unnecessary column(s)\n",
        "clinical.drop('Unnamed: 0', axis=1, inplace=True)"
      ],
      "execution_count": null,
      "outputs": []
    },
    {
      "cell_type": "code",
      "metadata": {
        "colab": {
          "base_uri": "https://localhost:8080/"
        },
        "id": "rKGyxKxVBd-u",
        "outputId": "7d9b1c4f-8b7e-4cd3-bdd1-16293cc641f9"
      },
      "source": [
        "print(\"Number of unique patients: {}\".format(clinical['patient_uid'].nunique()))"
      ],
      "execution_count": null,
      "outputs": [
        {
          "output_type": "stream",
          "text": [
            "Number of unique patients: 582\n"
          ],
          "name": "stdout"
        }
      ]
    },
    {
      "cell_type": "code",
      "metadata": {
        "colab": {
          "base_uri": "https://localhost:8080/"
        },
        "id": "xcLRMfHijukG",
        "outputId": "aa11a4af-e96f-464b-8f11-780d2e31a836"
      },
      "source": [
        "print(\"Number of unique patients: {}\".format(mep['patient_uid'].nunique()))"
      ],
      "execution_count": null,
      "outputs": [
        {
          "output_type": "stream",
          "text": [
            "Number of unique patients: 520\n"
          ],
          "name": "stdout"
        }
      ]
    },
    {
      "cell_type": "code",
      "metadata": {
        "id": "4UPs8yVVBd-u"
      },
      "source": [
        "# convert to date to date format to calculate the differences btw dates\n",
        "clinical['date'] = pd.to_datetime(clinical['date'],dayfirst=True, format='%d/%m/%Y')\n",
        "#%Y Year, with century\n",
        "#%m Month number, zero-padded\n",
        "#%d Day of month, zero-padded"
      ],
      "execution_count": null,
      "outputs": []
    },
    {
      "cell_type": "code",
      "metadata": {
        "colab": {
          "base_uri": "https://localhost:8080/"
        },
        "id": "uqyQli_BBd-u",
        "outputId": "3f4199d9-f1a5-44b0-9c80-201fe0c15ed2"
      },
      "source": [
        "clinical[clinical.isnull()].count()"
      ],
      "execution_count": null,
      "outputs": [
        {
          "output_type": "execute_result",
          "data": {
            "text/plain": [
              "date           0\n",
              "edss           0\n",
              "patient_uid    0\n",
              "dtype: int64"
            ]
          },
          "metadata": {
            "tags": []
          },
          "execution_count": 341
        }
      ]
    },
    {
      "cell_type": "code",
      "metadata": {
        "id": "ySLKcpsNBd-v"
      },
      "source": [
        "# Sorting by ascending by patient_uid and descending by date. We start with the most recent visit for each patient\n",
        "clinical.sort_values(by=['patient_uid','date'], inplace=True, ascending=[True, False])\n",
        "clinical.reset_index(drop=True, inplace=True)\n",
        "clinical = clinical[['patient_uid', 'date', 'edss']]"
      ],
      "execution_count": null,
      "outputs": []
    },
    {
      "cell_type": "code",
      "metadata": {
        "colab": {
          "base_uri": "https://localhost:8080/"
        },
        "id": "PR2vSc6aBd-v",
        "outputId": "78bdfedf-b07c-4b66-d59c-1439a89c6a2e"
      },
      "source": [
        "clinical.shape"
      ],
      "execution_count": null,
      "outputs": [
        {
          "output_type": "execute_result",
          "data": {
            "text/plain": [
              "(7414, 3)"
            ]
          },
          "metadata": {
            "tags": []
          },
          "execution_count": 345
        }
      ]
    },
    {
      "cell_type": "code",
      "metadata": {
        "id": "UEpoqQs_Bd-w"
      },
      "source": [
        "# Difference between 2 consecutive visits\n",
        "clinical['diff'] = clinical.groupby('patient_uid')['date'].diff().abs().fillna(pd.Timedelta(days=0))\n",
        "# cummulated sum of days per patient\n",
        "clinical['diff_num'] = clinical['diff'].astype('timedelta64[D]')\n",
        "clinical['cumsum'] = clinical.groupby(['patient_uid'])['diff_num'].cumsum()"
      ],
      "execution_count": null,
      "outputs": []
    },
    {
      "cell_type": "code",
      "metadata": {
        "id": "8qUh1lgZBd-x"
      },
      "source": [
        "# create patient's group\n",
        "byPatient = clinical.groupby('patient_uid') "
      ],
      "execution_count": null,
      "outputs": []
    },
    {
      "cell_type": "code",
      "metadata": {
        "id": "4dxjoWn-Bd-y",
        "scrolled": false
      },
      "source": [
        "# Resulting dataframe\n",
        "dfObj = pd.DataFrame(columns=['patient_uid', 'dateT1', 'dateT0', 'edss1', 'edss0', 'index1', 'index0', 'diff' ])\n",
        "\n",
        "# Two loops, the first goes between patients, second within patients.\n",
        "# group contains all the individual patient visits\n",
        "\n",
        "for g_uid, group in byPatient:\n",
        "\n",
        "    group_2 = group\n",
        "    period = 2 * 365\n",
        "    patient_uid = g_uid\n",
        "    \n",
        "    for r_uid, row in group.iterrows():\n",
        "        center = clinical.loc[r_uid,'cumsum'] \n",
        "        index1 = r_uid\n",
        "        # for each visit row, we center with the current cummulative sum for each visit of the group, and substract the period,\n",
        "        # the take abs and sort so we can select the closest to 0.\n",
        "        index2 = (group_2['cumsum']-period-center).abs().sort_values().head(1).index[0]\n",
        "\n",
        "        group_2 = group_2.drop([r_uid])\n",
        "        indexes = [index1,index2]\n",
        "        \n",
        "        date1 = clinical.loc[[indexes[0]],['date']].values[0][0]\n",
        "        edss1 =  clinical.loc[[indexes[0]],['edss']].values[0][0]\n",
        "        date2 = clinical.loc[[indexes[1]],['date']].values[0][0]\n",
        "        edss2 =  clinical.loc[[indexes[1]],['edss']].values[0][0]\n",
        "        diff = (date1 - date2)\n",
        "        dfObj = dfObj.append({'patient_uid': patient_uid, 'dateT1': date1, 'dateT0': date2, \n",
        "                              'edss1': edss1, 'edss0':edss2, 'index1': indexes[0], 'index0': indexes[1],\n",
        "                             'diff': diff}, ignore_index=True)\n",
        "\n",
        "        \n",
        "   "
      ],
      "execution_count": null,
      "outputs": []
    },
    {
      "cell_type": "code",
      "metadata": {
        "id": "_dkrs1ioBd-0",
        "colab": {
          "base_uri": "https://localhost:8080/"
        },
        "outputId": "c56c82c3-72ba-4219-8a52-55a43f199ba6"
      },
      "source": [
        "# limiting to +-6 months \n",
        "limitUp = math.ceil(365/2)\n",
        "# limitUp"
      ],
      "execution_count": null,
      "outputs": [
        {
          "output_type": "execute_result",
          "data": {
            "text/plain": [
              "183"
            ]
          },
          "metadata": {
            "tags": []
          },
          "execution_count": 382
        }
      ]
    },
    {
      "cell_type": "code",
      "metadata": {
        "colab": {
          "base_uri": "https://localhost:8080/",
          "height": 235
        },
        "id": "DUaMJ4gFBd-2",
        "outputId": "f264b641-34b7-4d8f-c1df-5a25108c11f2"
      },
      "source": [
        "# We need to keep visits that are the closest to 2 years time. We substract two years(365*2) and then keep the ones closes to 0\n",
        "dfObj['diff_centered'] = (dfObj['diff'] - pd.to_timedelta(365*2, unit='d') ).abs()\n",
        "# dfObj.head(6)"
      ],
      "execution_count": null,
      "outputs": [
        {
          "output_type": "execute_result",
          "data": {
            "text/html": [
              "<div>\n",
              "<style scoped>\n",
              "    .dataframe tbody tr th:only-of-type {\n",
              "        vertical-align: middle;\n",
              "    }\n",
              "\n",
              "    .dataframe tbody tr th {\n",
              "        vertical-align: top;\n",
              "    }\n",
              "\n",
              "    .dataframe thead th {\n",
              "        text-align: right;\n",
              "    }\n",
              "</style>\n",
              "<table border=\"1\" class=\"dataframe\">\n",
              "  <thead>\n",
              "    <tr style=\"text-align: right;\">\n",
              "      <th></th>\n",
              "      <th>patient_uid</th>\n",
              "      <th>dateT1</th>\n",
              "      <th>dateT0</th>\n",
              "      <th>edss1</th>\n",
              "      <th>edss0</th>\n",
              "      <th>index1</th>\n",
              "      <th>index0</th>\n",
              "      <th>diff</th>\n",
              "      <th>diff_centered</th>\n",
              "    </tr>\n",
              "  </thead>\n",
              "  <tbody>\n",
              "    <tr>\n",
              "      <th>0</th>\n",
              "      <td>2</td>\n",
              "      <td>1988-12-01</td>\n",
              "      <td>1986-11-29</td>\n",
              "      <td>1.0</td>\n",
              "      <td>2.5</td>\n",
              "      <td>0</td>\n",
              "      <td>5</td>\n",
              "      <td>733 days</td>\n",
              "      <td>3 days</td>\n",
              "    </tr>\n",
              "    <tr>\n",
              "      <th>1</th>\n",
              "      <td>2</td>\n",
              "      <td>1988-05-29</td>\n",
              "      <td>1986-11-29</td>\n",
              "      <td>1.0</td>\n",
              "      <td>2.5</td>\n",
              "      <td>1</td>\n",
              "      <td>5</td>\n",
              "      <td>547 days</td>\n",
              "      <td>183 days</td>\n",
              "    </tr>\n",
              "    <tr>\n",
              "      <th>2</th>\n",
              "      <td>2</td>\n",
              "      <td>1987-11-25</td>\n",
              "      <td>1986-11-29</td>\n",
              "      <td>1.0</td>\n",
              "      <td>2.5</td>\n",
              "      <td>2</td>\n",
              "      <td>5</td>\n",
              "      <td>361 days</td>\n",
              "      <td>369 days</td>\n",
              "    </tr>\n",
              "    <tr>\n",
              "      <th>3</th>\n",
              "      <td>2</td>\n",
              "      <td>1987-06-03</td>\n",
              "      <td>1986-11-29</td>\n",
              "      <td>1.0</td>\n",
              "      <td>2.5</td>\n",
              "      <td>3</td>\n",
              "      <td>5</td>\n",
              "      <td>186 days</td>\n",
              "      <td>544 days</td>\n",
              "    </tr>\n",
              "    <tr>\n",
              "      <th>4</th>\n",
              "      <td>2</td>\n",
              "      <td>1987-01-01</td>\n",
              "      <td>1986-11-29</td>\n",
              "      <td>1.0</td>\n",
              "      <td>2.5</td>\n",
              "      <td>4</td>\n",
              "      <td>5</td>\n",
              "      <td>33 days</td>\n",
              "      <td>697 days</td>\n",
              "    </tr>\n",
              "    <tr>\n",
              "      <th>5</th>\n",
              "      <td>2</td>\n",
              "      <td>1986-11-29</td>\n",
              "      <td>1986-11-29</td>\n",
              "      <td>2.5</td>\n",
              "      <td>2.5</td>\n",
              "      <td>5</td>\n",
              "      <td>5</td>\n",
              "      <td>0 days</td>\n",
              "      <td>730 days</td>\n",
              "    </tr>\n",
              "  </tbody>\n",
              "</table>\n",
              "</div>"
            ],
            "text/plain": [
              "  patient_uid     dateT1     dateT0  edss1  ...  index1 index0     diff diff_centered\n",
              "0           2 1988-12-01 1986-11-29    1.0  ...       0      5 733 days        3 days\n",
              "1           2 1988-05-29 1986-11-29    1.0  ...       1      5 547 days      183 days\n",
              "2           2 1987-11-25 1986-11-29    1.0  ...       2      5 361 days      369 days\n",
              "3           2 1987-06-03 1986-11-29    1.0  ...       3      5 186 days      544 days\n",
              "4           2 1987-01-01 1986-11-29    1.0  ...       4      5  33 days      697 days\n",
              "5           2 1986-11-29 1986-11-29    2.5  ...       5      5   0 days      730 days\n",
              "\n",
              "[6 rows x 9 columns]"
            ]
          },
          "metadata": {
            "tags": []
          },
          "execution_count": 361
        }
      ]
    },
    {
      "cell_type": "code",
      "metadata": {
        "id": "t-l9Re3JMg7W"
      },
      "source": [
        "dfObj['diff_centered'] = dfObj['diff_centered'].dt.days\n"
      ],
      "execution_count": null,
      "outputs": []
    },
    {
      "cell_type": "code",
      "metadata": {
        "colab": {
          "base_uri": "https://localhost:8080/"
        },
        "id": "7ICzji_qBd-3",
        "outputId": "bded0bbe-36e8-4c42-95ed-3592a03342a4"
      },
      "source": [
        "print('Number of observations: {}'.format(len(dfObj)))"
      ],
      "execution_count": null,
      "outputs": [
        {
          "output_type": "stream",
          "text": [
            "Number of observations: 7414\n"
          ],
          "name": "stdout"
        }
      ]
    },
    {
      "cell_type": "code",
      "metadata": {
        "id": "Y4oZfjjMBd-3"
      },
      "source": [
        "#Remove rows that are outside of the +-6 month difference boundaries\n",
        "# this step below removes rows with a diff_centered larger than +-6 months\n",
        "# dfObj = dfObj[dfObj['diff_centered'] <= pd.to_timedelta(limitUp, unit='d')]\n",
        "dfObj = dfObj[dfObj['diff_centered'] <= limitUp]\n"
      ],
      "execution_count": null,
      "outputs": []
    },
    {
      "cell_type": "code",
      "metadata": {
        "id": "2wb4cc_VBd-4"
      },
      "source": [
        "# and then from the duplicate T0 visits, we keep only the closest date to 2 years (or the min diff_centered)\n",
        "idx = dfObj.groupby(['patient_uid','index0'])['diff_centered'].transform(min) == dfObj['diff_centered']\n",
        "dfObj_ = dfObj[idx]\n"
      ],
      "execution_count": null,
      "outputs": []
    },
    {
      "cell_type": "code",
      "metadata": {
        "colab": {
          "base_uri": "https://localhost:8080/"
        },
        "id": "Oho25-8dBd-4",
        "outputId": "2b22bf20-5347-4c8a-fbb6-423f204c3e8f"
      },
      "source": [
        "print(\"Output: {} | rows Removed: {}\".format(dfObj_.shape[0], dfObj.shape[0] - dfObj_.shape[0]))"
      ],
      "execution_count": null,
      "outputs": [
        {
          "output_type": "stream",
          "text": [
            "Output: 3854 | rows Removed: 786\n"
          ],
          "name": "stdout"
        }
      ]
    },
    {
      "cell_type": "code",
      "metadata": {
        "colab": {
          "base_uri": "https://localhost:8080/"
        },
        "id": "YcV2zhZWLlyI",
        "outputId": "3c7f678d-5dab-4763-8ac6-75346c6a3512"
      },
      "source": [
        "dfObj_['diff_'] = dfObj_['diff'].dt.days\n",
        "dfObj_['diff_'].max(), 2*365 + limitUp"
      ],
      "execution_count": null,
      "outputs": [
        {
          "output_type": "execute_result",
          "data": {
            "text/plain": [
              "(910, 913)"
            ]
          },
          "metadata": {
            "tags": []
          },
          "execution_count": 406
        }
      ]
    },
    {
      "cell_type": "code",
      "metadata": {
        "colab": {
          "base_uri": "https://localhost:8080/",
          "height": 279
        },
        "id": "gSCayDc2rieq",
        "outputId": "580f925f-5ae5-42d0-f30f-53628f74f1c1"
      },
      "source": [
        "# dfObj_['diffx'] = dfObj_['diff_centered'].dt.days\n",
        "\n",
        "# plt.hist(dfObj_['diff'])\n",
        "# dfObj_.diff.hist(bins=10)\n",
        "\n",
        "# plt.hist(dfObj_['diff2'], 10, density=True,  alpha=0.75)\n",
        "\n",
        "n, bins, patches =  plt.hist(dfObj_['diff_'], 10, density=True,  alpha=0.75)\n",
        "\n",
        "plt.xlabel('Separation between two consecutive visits (centered at 2 years)')\n",
        "plt.ylabel('Density')\n",
        "# plt.title('Histogram of IQ')\n",
        "# plt.xlim(40, 160)\n",
        "# plt.ylim(0, 50)\n",
        "plt.grid(True)\n",
        "plt.show()"
      ],
      "execution_count": null,
      "outputs": [
        {
          "output_type": "display_data",
          "data": {
            "image/png": "[encoded data removed]",
            "text/plain": [
              "<Figure size 432x288 with 1 Axes>"
            ]
          },
          "metadata": {
            "tags": [],
            "needs_background": "light"
          }
        }
      ]
    },
    {
      "cell_type": "code",
      "metadata": {
        "id": "-8fvPbUvuie2"
      },
      "source": [
        "dfObj_.drop(columns=['diff_centered','index1','index0'], inplace=True)"
      ],
      "execution_count": null,
      "outputs": []
    },
    {
      "cell_type": "code",
      "metadata": {
        "id": "oTG15oAtBd-4"
      },
      "source": [
        "# adding the incr/decr in the edss status\n",
        "dfObj_['delta_edss'] = dfObj_['edss1'] - dfObj_['edss0']"
      ],
      "execution_count": null,
      "outputs": []
    },
    {
      "cell_type": "markdown",
      "metadata": {
        "id": "28QfB6SoBd-5"
      },
      "source": [
        "Disability progression:\n",
        "\n",
        "$$w_i=\\begin{equation}\n",
        "\\left\\{ \n",
        "  \\begin{aligned}\n",
        "    & 1 & & if & \\Delta_{EDSS} \\geq 1.5 & & \\& & & EDSS_{T0} = 0\\\\\n",
        "    & 1 & & if & \\Delta_{EDSS} \\geq 1   & & \\& & & EDSS_{T0} \\leq 5.5\\\\\n",
        "    & 1 & & if & \\Delta_{EDSS} \\geq 0.5 & & \\& & & EDSS_{T0} \\gt 5.5\\\\\n",
        "    & 0 & & otherwise & \\\\\n",
        "  \\end{aligned}\n",
        "  \\right.\n",
        "\\end{equation}\n",
        "$$"
      ]
    },
    {
      "cell_type": "code",
      "metadata": {
        "id": "Fn_U6v4zBd-5"
      },
      "source": [
        "def conditions(s):\n",
        "    if ((s['delta_edss'] >= 1.5) and (s['edss0'] == 0)) or \\\n",
        "       ((s['delta_edss'] >= 1) and (s['edss0'] <= 5.5)) or \\\n",
        "       ((s['delta_edss'] >= 0.5) and (s['edss0'] > 5.5)):\n",
        "        return 1\n",
        "    else:\n",
        "        return 0"
      ],
      "execution_count": null,
      "outputs": []
    },
    {
      "cell_type": "code",
      "metadata": {
        "id": "8vQSUy9FBd-5"
      },
      "source": [
        "dfObj_['w'] = dfObj_.apply(conditions, axis=1)"
      ],
      "execution_count": null,
      "outputs": []
    },
    {
      "cell_type": "code",
      "metadata": {
        "colab": {
          "base_uri": "https://localhost:8080/"
        },
        "id": "jY8GL1BYBd-5",
        "outputId": "fbfeab39-9976-41e1-e456-7dcc89930151"
      },
      "source": [
        "print(\"proportion of positive outcomes: {}\".format(dfObj_[(dfObj_[\"w\"]==1)].size / dfObj_.size * 100))"
      ],
      "execution_count": null,
      "outputs": [
        {
          "output_type": "stream",
          "text": [
            "proportion of positive outcomes: 11.883757135443695\n"
          ],
          "name": "stdout"
        }
      ]
    },
    {
      "cell_type": "code",
      "metadata": {
        "id": "R8tV5lU1Bd-6"
      },
      "source": [
        "clinical_ = dfObj_.copy()"
      ],
      "execution_count": null,
      "outputs": []
    },
    {
      "cell_type": "code",
      "metadata": {
        "id": "6hgIWt-0RVtt"
      },
      "source": [
        "# clinical_['disease_progression'] = clinical_['w'].astype('str')"
      ],
      "execution_count": null,
      "outputs": []
    },
    {
      "cell_type": "code",
      "metadata": {
        "id": "ebWtnck6QtPa"
      },
      "source": [
        "# clinical_.groupby('patient_uid')['disease_progression'].apply(''.join).reset_index()"
      ],
      "execution_count": null,
      "outputs": []
    },
    {
      "cell_type": "code",
      "metadata": {
        "id": "AwBBgdRDR-CS"
      },
      "source": [
        "# clinical_.head()"
      ],
      "execution_count": null,
      "outputs": []
    },
    {
      "cell_type": "markdown",
      "metadata": {
        "id": "RHUdhE1fBd-6"
      },
      "source": [
        "# Motor Evoked dataset"
      ]
    },
    {
      "cell_type": "code",
      "metadata": {
        "colab": {
          "base_uri": "https://localhost:8080/"
        },
        "id": "NkmjRvj9Bd-7",
        "outputId": "b5390eb8-841c-4f72-d881-d8b1864c5223"
      },
      "source": [
        "mep.columns"
      ],
      "execution_count": null,
      "outputs": [
        {
          "output_type": "execute_result",
          "data": {
            "text/plain": [
              "Index(['anatomy', 'date_of_birth', 'marker_1_latency(ms)', 'measurement_uid',\n",
              "       'patient_uid', 'test_uid', 'visit_uid', 'visit_date', 'sex', 'side',\n",
              "       'machine', 'team', 'age'],\n",
              "      dtype='object')"
            ]
          },
          "metadata": {
            "tags": []
          },
          "execution_count": 423
        }
      ]
    },
    {
      "cell_type": "markdown",
      "metadata": {
        "id": "5nzyV_93Bd-7"
      },
      "source": [
        "- anatomy: The muscle on which the measurement is performed. Possible values: 133 APB (50.71%), AH (49.29%)\n",
        "- side: The side on which the measurement was performed, e.g., left or right arm. R (50.45%), L (49.55%)\n",
        "- machine: Indicates which of the two machines the measurement was performed on. B (74.81%), A (25.19%)\n",
        "- team: Indicates which team performed the measurements. Possible values: B (52.22%), A (47.78%)\n",
        "- marker_1_latency(ms): the latency of marker 1, which were placed by nurses in the clinic.\n",
        "- measurement_uid: unique identifier for a measurement. It is only unique in conjunction with the patient, visit, and test uid. Range: 0 - 16\n",
        "- test_uid: A unique identifier for a test. It is only unique in conjunction with the patient, and visit uid. Range: 0 - 6\n",
        "- visit_uid: A unique identifier for a visit. It is only unique in conjunction with the patient uid. Range: 0 - 25\n"
      ]
    },
    {
      "cell_type": "code",
      "metadata": {
        "colab": {
          "base_uri": "https://localhost:8080/",
          "height": 204
        },
        "id": "lIovjsylBd-7",
        "outputId": "0ae5ac7c-78b1-4129-ad5c-984485e7b10f"
      },
      "source": [
        "mep[mep['patient_uid']==11].head()"
      ],
      "execution_count": null,
      "outputs": [
        {
          "output_type": "execute_result",
          "data": {
            "text/html": [
              "<div>\n",
              "<style scoped>\n",
              "    .dataframe tbody tr th:only-of-type {\n",
              "        vertical-align: middle;\n",
              "    }\n",
              "\n",
              "    .dataframe tbody tr th {\n",
              "        vertical-align: top;\n",
              "    }\n",
              "\n",
              "    .dataframe thead th {\n",
              "        text-align: right;\n",
              "    }\n",
              "</style>\n",
              "<table border=\"1\" class=\"dataframe\">\n",
              "  <thead>\n",
              "    <tr style=\"text-align: right;\">\n",
              "      <th></th>\n",
              "      <th>anatomy</th>\n",
              "      <th>date_of_birth</th>\n",
              "      <th>marker_1_latency(ms)</th>\n",
              "      <th>measurement_uid</th>\n",
              "      <th>patient_uid</th>\n",
              "      <th>test_uid</th>\n",
              "      <th>visit_uid</th>\n",
              "      <th>visit_date</th>\n",
              "      <th>sex</th>\n",
              "      <th>side</th>\n",
              "      <th>machine</th>\n",
              "      <th>team</th>\n",
              "      <th>age</th>\n",
              "    </tr>\n",
              "  </thead>\n",
              "  <tbody>\n",
              "    <tr>\n",
              "      <th>88</th>\n",
              "      <td>APB</td>\n",
              "      <td>02/06/1927</td>\n",
              "      <td>22.35</td>\n",
              "      <td>1</td>\n",
              "      <td>11</td>\n",
              "      <td>0</td>\n",
              "      <td>0</td>\n",
              "      <td>30/08/2006</td>\n",
              "      <td>Male</td>\n",
              "      <td>R</td>\n",
              "      <td>A</td>\n",
              "      <td>B</td>\n",
              "      <td>79.244353</td>\n",
              "    </tr>\n",
              "    <tr>\n",
              "      <th>89</th>\n",
              "      <td>APB</td>\n",
              "      <td>02/06/1927</td>\n",
              "      <td>21.75</td>\n",
              "      <td>3</td>\n",
              "      <td>11</td>\n",
              "      <td>1</td>\n",
              "      <td>0</td>\n",
              "      <td>30/08/2006</td>\n",
              "      <td>Male</td>\n",
              "      <td>L</td>\n",
              "      <td>A</td>\n",
              "      <td>B</td>\n",
              "      <td>79.244353</td>\n",
              "    </tr>\n",
              "    <tr>\n",
              "      <th>90</th>\n",
              "      <td>AH</td>\n",
              "      <td>02/06/1927</td>\n",
              "      <td>49.00</td>\n",
              "      <td>3</td>\n",
              "      <td>11</td>\n",
              "      <td>2</td>\n",
              "      <td>0</td>\n",
              "      <td>30/08/2006</td>\n",
              "      <td>Male</td>\n",
              "      <td>R</td>\n",
              "      <td>A</td>\n",
              "      <td>B</td>\n",
              "      <td>79.244353</td>\n",
              "    </tr>\n",
              "    <tr>\n",
              "      <th>91</th>\n",
              "      <td>AH</td>\n",
              "      <td>02/06/1927</td>\n",
              "      <td>46.80</td>\n",
              "      <td>3</td>\n",
              "      <td>11</td>\n",
              "      <td>3</td>\n",
              "      <td>0</td>\n",
              "      <td>30/08/2006</td>\n",
              "      <td>Male</td>\n",
              "      <td>L</td>\n",
              "      <td>A</td>\n",
              "      <td>B</td>\n",
              "      <td>79.244353</td>\n",
              "    </tr>\n",
              "    <tr>\n",
              "      <th>92</th>\n",
              "      <td>APB</td>\n",
              "      <td>02/06/1927</td>\n",
              "      <td>24.30</td>\n",
              "      <td>4</td>\n",
              "      <td>11</td>\n",
              "      <td>0</td>\n",
              "      <td>1</td>\n",
              "      <td>31/01/2005</td>\n",
              "      <td>Male</td>\n",
              "      <td>R</td>\n",
              "      <td>A</td>\n",
              "      <td>A</td>\n",
              "      <td>77.667351</td>\n",
              "    </tr>\n",
              "  </tbody>\n",
              "</table>\n",
              "</div>"
            ],
            "text/plain": [
              "   anatomy date_of_birth  marker_1_latency(ms)  ...  machine  team        age\n",
              "88     APB    02/06/1927                 22.35  ...        A     B  79.244353\n",
              "89     APB    02/06/1927                 21.75  ...        A     B  79.244353\n",
              "90      AH    02/06/1927                 49.00  ...        A     B  79.244353\n",
              "91      AH    02/06/1927                 46.80  ...        A     B  79.244353\n",
              "92     APB    02/06/1927                 24.30  ...        A     A  77.667351\n",
              "\n",
              "[5 rows x 13 columns]"
            ]
          },
          "metadata": {
            "tags": []
          },
          "execution_count": 424
        }
      ]
    },
    {
      "cell_type": "code",
      "metadata": {
        "id": "YD09_tCfUh1S"
      },
      "source": [
        "# mep.groupby(['patient_uid']).agg({'visit_date': ['count']}).max()\n"
      ],
      "execution_count": null,
      "outputs": []
    },
    {
      "cell_type": "code",
      "metadata": {
        "id": "vy3mk4SWkESR"
      },
      "source": [
        "# mep.groupby(['patient_uid','visit_date']).nunique()"
      ],
      "execution_count": null,
      "outputs": []
    },
    {
      "cell_type": "code",
      "metadata": {
        "id": "f2C8g23RVIqo"
      },
      "source": [
        "#  mep.groupby('patient_uid')['visit_date'].nunique().max()"
      ],
      "execution_count": null,
      "outputs": []
    },
    {
      "cell_type": "code",
      "metadata": {
        "id": "v-ZEzkigk746"
      },
      "source": [
        "# mep.groupby('patient_uid').agg({'visit_date': ['min']}).min()"
      ],
      "execution_count": null,
      "outputs": []
    },
    {
      "cell_type": "code",
      "metadata": {
        "colab": {
          "base_uri": "https://localhost:8080/"
        },
        "id": "CLB-OoVLT__L",
        "outputId": "ce043851-5aba-4a4b-b7c5-5bdcf9e5c8d7"
      },
      "source": [
        "mep['visit_date'].min(), mep['visit_date'].max()"
      ],
      "execution_count": null,
      "outputs": [
        {
          "output_type": "execute_result",
          "data": {
            "text/plain": [
              "('01/01/1992', '31/12/2002')"
            ]
          },
          "metadata": {
            "tags": []
          },
          "execution_count": 434
        }
      ]
    },
    {
      "cell_type": "code",
      "metadata": {
        "id": "X18n6truBd-8"
      },
      "source": [
        "mep['anatomy_side'] = mep['anatomy'] + '-' + mep['side']"
      ],
      "execution_count": null,
      "outputs": []
    },
    {
      "cell_type": "code",
      "metadata": {
        "colab": {
          "base_uri": "https://localhost:8080/"
        },
        "id": "1qEy30lvBd-8",
        "outputId": "c1fc388b-4658-4e5f-e80c-f8c174ce227a"
      },
      "source": [
        "mep['anatomy_side'].value_counts()"
      ],
      "execution_count": null,
      "outputs": [
        {
          "output_type": "execute_result",
          "data": {
            "text/plain": [
              "AH-R     3326\n",
              "APB-R    3326\n",
              "AH-L     3326\n",
              "APB-L    3326\n",
              "Name: anatomy_side, dtype: int64"
            ]
          },
          "metadata": {
            "tags": []
          },
          "execution_count": 436
        }
      ]
    },
    {
      "cell_type": "code",
      "metadata": {
        "id": "EsDrW2-GBd-8"
      },
      "source": [
        "mep['date_of_birth'] = pd.to_datetime(mep[\"date_of_birth\"], dayfirst=True, format='%d/%m/%Y')"
      ],
      "execution_count": null,
      "outputs": []
    },
    {
      "cell_type": "code",
      "metadata": {
        "id": "5Q_Q4NELBd-8"
      },
      "source": [
        "mep['visit_date'] = pd.to_datetime(mep[\"visit_date\"], dayfirst=True, format='%d/%m/%Y')"
      ],
      "execution_count": null,
      "outputs": []
    },
    {
      "cell_type": "code",
      "metadata": {
        "id": "NH5uy-tvBd-8"
      },
      "source": [
        "mep_ = mep[[\n",
        "'patient_uid',\n",
        "'visit_date',\n",
        "# 'test_uid',\n",
        "'anatomy_side',\n",
        "# 'anatomy',\n",
        "'marker_1_latency(ms)',\n",
        "# 'measurement_uid',\n",
        "'visit_uid',\n",
        "'sex',\n",
        "# 'side',\n",
        "# 'machine',\n",
        "# 'team',\n",
        "'age',\n",
        "'date_of_birth',\n",
        "]]"
      ],
      "execution_count": null,
      "outputs": []
    },
    {
      "cell_type": "code",
      "metadata": {
        "id": "WrxLEWORBd-9"
      },
      "source": [
        "# This step transform the table from long to wide format, grouped by patient_uid. reset and rename_axis unstack the table \n",
        "# and removes the name of the index\n",
        "mep_ = mep_.pivot_table(index=['patient_uid','visit_date','visit_uid','sex','age','date_of_birth'],\n",
        "                   columns='anatomy_side',values='marker_1_latency(ms)').reset_index().rename_axis(None, axis=1)"
      ],
      "execution_count": null,
      "outputs": []
    },
    {
      "cell_type": "markdown",
      "metadata": {
        "id": "NZd3JUooBd-9"
      },
      "source": [
        "Every row is a visit with the 4 measurements. Sorted ascending by patient and date. \n",
        "Next is to merge with the clinical data. "
      ]
    },
    {
      "cell_type": "code",
      "metadata": {
        "id": "BJDnfsUXfCVb"
      },
      "source": [
        "clinical['diff'] = clinical.groupby('patient_uid')['date'].diff().abs().fillna(pd.Timedelta(days=0))\n",
        "\n",
        "clinical['diff_num'] = clinical['diff'].astype('timedelta64[D]')\n",
        "clinical['cumsum'] = clinical.groupby(['patient_uid'])['diff_num'].cumsum()"
      ],
      "execution_count": null,
      "outputs": []
    },
    {
      "cell_type": "code",
      "metadata": {
        "id": "oqZeVheFf1Ev"
      },
      "source": [
        "# mep_test = mep_.copy()"
      ],
      "execution_count": null,
      "outputs": []
    },
    {
      "cell_type": "code",
      "metadata": {
        "colab": {
          "base_uri": "https://localhost:8080/",
          "height": 204
        },
        "id": "OflHfxoTfT-V",
        "outputId": "152d29f6-51f6-4d2a-e51f-1bd034d423e1"
      },
      "source": [
        "mep_['diff_AH-L'] = mep_.groupby('patient_uid')['AH-L'].diff().fillna(0)\n",
        "mep_['diff_AH-R'] = mep_.groupby('patient_uid')['AH-R'].diff().fillna(0)\n",
        "mep_['diff_APB-L'] = mep_.groupby('patient_uid')['APB-L'].diff().fillna(0)\n",
        "mep_['diff_APB-R'] = mep_.groupby('patient_uid')['APB-R'].diff().fillna(0)\n",
        "mep_.head()"
      ],
      "execution_count": null,
      "outputs": [
        {
          "output_type": "execute_result",
          "data": {
            "text/html": [
              "<div>\n",
              "<style scoped>\n",
              "    .dataframe tbody tr th:only-of-type {\n",
              "        vertical-align: middle;\n",
              "    }\n",
              "\n",
              "    .dataframe tbody tr th {\n",
              "        vertical-align: top;\n",
              "    }\n",
              "\n",
              "    .dataframe thead th {\n",
              "        text-align: right;\n",
              "    }\n",
              "</style>\n",
              "<table border=\"1\" class=\"dataframe\">\n",
              "  <thead>\n",
              "    <tr style=\"text-align: right;\">\n",
              "      <th></th>\n",
              "      <th>patient_uid</th>\n",
              "      <th>visit_date</th>\n",
              "      <th>visit_uid</th>\n",
              "      <th>sex</th>\n",
              "      <th>age</th>\n",
              "      <th>date_of_birth</th>\n",
              "      <th>AH-L</th>\n",
              "      <th>AH-R</th>\n",
              "      <th>APB-L</th>\n",
              "      <th>APB-R</th>\n",
              "      <th>diff_AH-L</th>\n",
              "      <th>diff_AH-R</th>\n",
              "      <th>diff_APB-L</th>\n",
              "      <th>diff_APB-R</th>\n",
              "    </tr>\n",
              "  </thead>\n",
              "  <tbody>\n",
              "    <tr>\n",
              "      <th>0</th>\n",
              "      <td>2</td>\n",
              "      <td>1987-06-04</td>\n",
              "      <td>2</td>\n",
              "      <td>Female</td>\n",
              "      <td>25.002053</td>\n",
              "      <td>1962-06-03</td>\n",
              "      <td>33.958333</td>\n",
              "      <td>34.427083</td>\n",
              "      <td>16.770833</td>\n",
              "      <td>17.187500</td>\n",
              "      <td>0.000000</td>\n",
              "      <td>0.000000</td>\n",
              "      <td>0.000000</td>\n",
              "      <td>0.000000</td>\n",
              "    </tr>\n",
              "    <tr>\n",
              "      <th>1</th>\n",
              "      <td>2</td>\n",
              "      <td>1987-11-26</td>\n",
              "      <td>3</td>\n",
              "      <td>Female</td>\n",
              "      <td>25.481177</td>\n",
              "      <td>1962-06-03</td>\n",
              "      <td>35.312500</td>\n",
              "      <td>33.229167</td>\n",
              "      <td>17.604167</td>\n",
              "      <td>18.489583</td>\n",
              "      <td>1.354167</td>\n",
              "      <td>-1.197916</td>\n",
              "      <td>0.833334</td>\n",
              "      <td>1.302083</td>\n",
              "    </tr>\n",
              "    <tr>\n",
              "      <th>2</th>\n",
              "      <td>2</td>\n",
              "      <td>1988-05-30</td>\n",
              "      <td>4</td>\n",
              "      <td>Female</td>\n",
              "      <td>25.990418</td>\n",
              "      <td>1962-06-03</td>\n",
              "      <td>35.312500</td>\n",
              "      <td>34.791667</td>\n",
              "      <td>17.500000</td>\n",
              "      <td>17.916667</td>\n",
              "      <td>0.000000</td>\n",
              "      <td>1.562500</td>\n",
              "      <td>-0.104167</td>\n",
              "      <td>-0.572916</td>\n",
              "    </tr>\n",
              "    <tr>\n",
              "      <th>3</th>\n",
              "      <td>2</td>\n",
              "      <td>1988-12-02</td>\n",
              "      <td>0</td>\n",
              "      <td>Female</td>\n",
              "      <td>26.499658</td>\n",
              "      <td>1962-06-03</td>\n",
              "      <td>33.958333</td>\n",
              "      <td>33.854167</td>\n",
              "      <td>17.812500</td>\n",
              "      <td>17.187500</td>\n",
              "      <td>-1.354167</td>\n",
              "      <td>-0.937500</td>\n",
              "      <td>0.312500</td>\n",
              "      <td>-0.729167</td>\n",
              "    </tr>\n",
              "    <tr>\n",
              "      <th>4</th>\n",
              "      <td>7</td>\n",
              "      <td>2004-07-06</td>\n",
              "      <td>1</td>\n",
              "      <td>Female</td>\n",
              "      <td>68.577687</td>\n",
              "      <td>1935-12-08</td>\n",
              "      <td>44.700000</td>\n",
              "      <td>42.450000</td>\n",
              "      <td>24.250000</td>\n",
              "      <td>21.450000</td>\n",
              "      <td>0.000000</td>\n",
              "      <td>0.000000</td>\n",
              "      <td>0.000000</td>\n",
              "      <td>0.000000</td>\n",
              "    </tr>\n",
              "  </tbody>\n",
              "</table>\n",
              "</div>"
            ],
            "text/plain": [
              "   patient_uid visit_date  visit_uid  ... diff_AH-R  diff_APB-L diff_APB-R\n",
              "0            2 1987-06-04          2  ...  0.000000    0.000000   0.000000\n",
              "1            2 1987-11-26          3  ... -1.197916    0.833334   1.302083\n",
              "2            2 1988-05-30          4  ...  1.562500   -0.104167  -0.572916\n",
              "3            2 1988-12-02          0  ... -0.937500    0.312500  -0.729167\n",
              "4            7 2004-07-06          1  ...  0.000000    0.000000   0.000000\n",
              "\n",
              "[5 rows x 14 columns]"
            ]
          },
          "metadata": {
            "tags": []
          },
          "execution_count": 445
        }
      ]
    },
    {
      "cell_type": "code",
      "metadata": {
        "id": "VhcKcVkpBd--"
      },
      "source": [
        "clinical_.sort_values(by=['patient_uid','dateT1'], inplace=True, ascending=[True, True])"
      ],
      "execution_count": null,
      "outputs": []
    },
    {
      "cell_type": "code",
      "metadata": {
        "id": "LZotgKYaBd--"
      },
      "source": [
        "clinical_.reset_index(inplace=True, drop=True)"
      ],
      "execution_count": null,
      "outputs": []
    },
    {
      "cell_type": "code",
      "metadata": {
        "id": "dNoClcaMWeWy"
      },
      "source": [
        ""
      ],
      "execution_count": null,
      "outputs": []
    },
    {
      "cell_type": "code",
      "metadata": {
        "id": "LumVEx0WBd_A"
      },
      "source": [
        "#Split clinical outcomes dataset with mathching (and not) in mep \n",
        "clinical_Out = clinical_[~clinical_['patient_uid'].isin(mep_['patient_uid'])].dropna()"
      ],
      "execution_count": null,
      "outputs": []
    },
    {
      "cell_type": "code",
      "metadata": {
        "id": "I24RC_ZMBd_B"
      },
      "source": [
        "clinical_In = clinical_[clinical_['patient_uid'].isin(mep_['patient_uid'])].dropna()"
      ],
      "execution_count": null,
      "outputs": []
    },
    {
      "cell_type": "code",
      "metadata": {
        "colab": {
          "base_uri": "https://localhost:8080/"
        },
        "id": "RtbrVOLFBd_B",
        "outputId": "53be1a32-611d-4da7-a9af-b7417be53bab"
      },
      "source": [
        "print(\"Number of obs: {}, number of unique patients: {}\".format(len(clinical_In), clinical_In['patient_uid'].nunique()))"
      ],
      "execution_count": null,
      "outputs": [
        {
          "output_type": "stream",
          "text": [
            "Number of obs: 3500, number of unique patients: 440\n"
          ],
          "name": "stdout"
        }
      ]
    },
    {
      "cell_type": "code",
      "metadata": {
        "id": "w1aOBuneBd_B",
        "colab": {
          "base_uri": "https://localhost:8080/"
        },
        "outputId": "1dc42b46-7971-4732-fd1a-65241a2f67a0"
      },
      "source": [
        "print(\"Number of obs: {}, number unique patients: {}\".format(len(clinical_Out), clinical_Out['patient_uid'].nunique()))"
      ],
      "execution_count": null,
      "outputs": [
        {
          "output_type": "stream",
          "text": [
            "Number of obs: 354, number unique patients: 51\n"
          ],
          "name": "stdout"
        }
      ]
    },
    {
      "cell_type": "code",
      "metadata": {
        "id": "LtFmPAQdaa5a"
      },
      "source": [
        "mep_bk = mep_.copy()\n",
        "clinical_In_bk = clinical_In.copy()\n",
        "\n",
        "# mep_ = mep_bk.copy()\n",
        "# clinical_In = clinical_In_bk.copy()"
      ],
      "execution_count": null,
      "outputs": []
    },
    {
      "cell_type": "code",
      "metadata": {
        "id": "rYrVjSrsYDD4"
      },
      "source": [
        "# Only for testing! (change n to include more patients)\n",
        "# n = 1\n",
        "# test = random.choices(clinical_In['patient_uid'].unique().tolist(),k=n)"
      ],
      "execution_count": null,
      "outputs": []
    },
    {
      "cell_type": "code",
      "metadata": {
        "id": "cjkqJX_7Y7Jf"
      },
      "source": [
        "# Only for testing!\n",
        "# clinical_In = clinical_In_bk[clinical_In_bk['patient_uid'].isin(test)]\n",
        "# mep_ = mep_bk[mep_bk['patient_uid'].isin(test)]"
      ],
      "execution_count": null,
      "outputs": []
    },
    {
      "cell_type": "markdown",
      "metadata": {
        "id": "-obXK7L1lFQi"
      },
      "source": [
        "# Merge"
      ]
    },
    {
      "cell_type": "code",
      "metadata": {
        "id": "4EiJYqyRCugv"
      },
      "source": [
        "dfObj_ = pd.DataFrame(columns= (clinical_In.columns.tolist() + mep_.columns[1:].tolist() + ['xdiff'] + ['flag']) )\n",
        "\n",
        "for r_uid, row in clinical_In.iterrows():\n",
        "    # \n",
        "    dateT0 = row['dateT0']\n",
        "    patientID = row['patient_uid']\n",
        "    \n",
        "    xx_dif = (mep_[mep_['patient_uid']==patientID]['visit_date'] -  dateT0)\n",
        "    xx_abs = xx_dif.abs().sort_values().head(1)\n",
        "    xx_abs_idx = xx_abs.index[0]\n",
        "\n",
        "    # Absolute closest date to each clinical visit.\n",
        "    xdiff = (mep_.loc[[xx_abs_idx],'visit_date']  -  dateT0).values.astype('timedelta64[D]')[0]\n",
        "    \n",
        "    # flag variable to find out which case we're dealing with.\n",
        "    flag = 0\n",
        "\n",
        "    # mep visit that are too far away from clinical visits are replaced by a previous \n",
        "    # visit if that is available, regarless of the (time) distance, \n",
        "    # if none is available, we leave the distance visit.\n",
        "\n",
        "    if abs(xdiff) > np.timedelta64(365,'D'):\n",
        "      flag = 1\n",
        "      if np.any(xx_dif < np.timedelta64(0,'D')):\n",
        "        # cases where the closest is furter away than 1 year and they have negative date values\n",
        "        flag = 2\n",
        "        # we select the closes negative value\n",
        "        xx_neg = xx_dif[xx_dif < np.timedelta64(0,'D')].sort_values(ascending=False).head(1)\n",
        "        # print(xx_neg,xdiff)\n",
        "        xx_abs_idx = xx_neg.index[0]\n",
        "        xdiff = xx_neg.values.astype('timedelta64[D]')[0]\n",
        "\n",
        "      else:\n",
        "        # continue\n",
        "        flag = 3\n",
        "\n",
        "    xdiff = abs(xdiff)\n",
        "    dicts_c = {}\n",
        "    for column in  clinical_In.columns.tolist():\n",
        "        dicts_c[column] = row[column]\n",
        "   \n",
        "    dicts_m = {}\n",
        "    for column in  mep_.columns[1:].tolist():\n",
        "        dicts_m[column] = mep_.loc[xx_abs_idx,column]\n",
        "\n",
        "    z = {**dicts_c, **dicts_m, 'xdiff': xdiff, 'flag': flag}\n",
        "    dfObj_ = dfObj_.append(z, ignore_index=True)"
      ],
      "execution_count": null,
      "outputs": []
    },
    {
      "cell_type": "markdown",
      "metadata": {
        "id": "b9GM3aElfc4b"
      },
      "source": [
        "dateT0 should match the closest visit_date from the Motor Evoked Dataset. \\\\\n",
        "The output dataset (dfObj_) should have as many rows as the clinical dataset. "
      ]
    },
    {
      "cell_type": "code",
      "metadata": {
        "colab": {
          "base_uri": "https://localhost:8080/",
          "height": 419
        },
        "id": "OVFBKvPng5Y8",
        "outputId": "ce3d298c-69e1-4114-a674-d179dde98de4"
      },
      "source": [
        "dfObj_[dfObj_['w']==1]"
      ],
      "execution_count": null,
      "outputs": [
        {
          "output_type": "execute_result",
          "data": {
            "text/html": [
              "<div>\n",
              "<style scoped>\n",
              "    .dataframe tbody tr th:only-of-type {\n",
              "        vertical-align: middle;\n",
              "    }\n",
              "\n",
              "    .dataframe tbody tr th {\n",
              "        vertical-align: top;\n",
              "    }\n",
              "\n",
              "    .dataframe thead th {\n",
              "        text-align: right;\n",
              "    }\n",
              "</style>\n",
              "<table border=\"1\" class=\"dataframe\">\n",
              "  <thead>\n",
              "    <tr style=\"text-align: right;\">\n",
              "      <th></th>\n",
              "      <th>patient_uid</th>\n",
              "      <th>dateT1</th>\n",
              "      <th>dateT0</th>\n",
              "      <th>edss1</th>\n",
              "      <th>edss0</th>\n",
              "      <th>diff</th>\n",
              "      <th>diff_</th>\n",
              "      <th>delta_edss</th>\n",
              "      <th>w</th>\n",
              "      <th>visit_date</th>\n",
              "      <th>visit_uid</th>\n",
              "      <th>sex</th>\n",
              "      <th>age</th>\n",
              "      <th>date_of_birth</th>\n",
              "      <th>AH-L</th>\n",
              "      <th>AH-R</th>\n",
              "      <th>APB-L</th>\n",
              "      <th>APB-R</th>\n",
              "      <th>diff_AH-L</th>\n",
              "      <th>diff_AH-R</th>\n",
              "      <th>diff_APB-L</th>\n",
              "      <th>diff_APB-R</th>\n",
              "      <th>xdiff</th>\n",
              "      <th>flag</th>\n",
              "    </tr>\n",
              "  </thead>\n",
              "  <tbody>\n",
              "    <tr>\n",
              "      <th>22</th>\n",
              "      <td>10</td>\n",
              "      <td>1993-01-30</td>\n",
              "      <td>1991-03-20</td>\n",
              "      <td>3.5</td>\n",
              "      <td>2.5</td>\n",
              "      <td>682 days</td>\n",
              "      <td>682</td>\n",
              "      <td>1.0</td>\n",
              "      <td>1</td>\n",
              "      <td>1991-03-21</td>\n",
              "      <td>0</td>\n",
              "      <td>Female</td>\n",
              "      <td>38.428474</td>\n",
              "      <td>1952-10-15</td>\n",
              "      <td>46.500000</td>\n",
              "      <td>43.500000</td>\n",
              "      <td>23.350000</td>\n",
              "      <td>21.650000</td>\n",
              "      <td>6.239583</td>\n",
              "      <td>-1.343750</td>\n",
              "      <td>1.683333</td>\n",
              "      <td>1.441667</td>\n",
              "      <td>1 days</td>\n",
              "      <td>0</td>\n",
              "    </tr>\n",
              "    <tr>\n",
              "      <th>23</th>\n",
              "      <td>10</td>\n",
              "      <td>1993-09-18</td>\n",
              "      <td>1991-09-04</td>\n",
              "      <td>3.5</td>\n",
              "      <td>2.5</td>\n",
              "      <td>745 days</td>\n",
              "      <td>745</td>\n",
              "      <td>1.0</td>\n",
              "      <td>1</td>\n",
              "      <td>1991-09-05</td>\n",
              "      <td>8</td>\n",
              "      <td>Female</td>\n",
              "      <td>38.888433</td>\n",
              "      <td>1952-10-15</td>\n",
              "      <td>41.197917</td>\n",
              "      <td>42.604167</td>\n",
              "      <td>24.166667</td>\n",
              "      <td>19.739583</td>\n",
              "      <td>-5.302083</td>\n",
              "      <td>-0.895833</td>\n",
              "      <td>0.816667</td>\n",
              "      <td>-1.910417</td>\n",
              "      <td>1 days</td>\n",
              "      <td>0</td>\n",
              "    </tr>\n",
              "    <tr>\n",
              "      <th>28</th>\n",
              "      <td>11</td>\n",
              "      <td>2004-07-10</td>\n",
              "      <td>2002-05-22</td>\n",
              "      <td>4.5</td>\n",
              "      <td>3.5</td>\n",
              "      <td>780 days</td>\n",
              "      <td>780</td>\n",
              "      <td>1.0</td>\n",
              "      <td>1</td>\n",
              "      <td>2002-05-22</td>\n",
              "      <td>2</td>\n",
              "      <td>Male</td>\n",
              "      <td>74.970568</td>\n",
              "      <td>1927-06-02</td>\n",
              "      <td>47.135417</td>\n",
              "      <td>49.375000</td>\n",
              "      <td>22.187500</td>\n",
              "      <td>24.270833</td>\n",
              "      <td>0.000000</td>\n",
              "      <td>0.000000</td>\n",
              "      <td>0.000000</td>\n",
              "      <td>0.000000</td>\n",
              "      <td>0 days</td>\n",
              "      <td>0</td>\n",
              "    </tr>\n",
              "    <tr>\n",
              "      <th>29</th>\n",
              "      <td>11</td>\n",
              "      <td>2004-09-04</td>\n",
              "      <td>2002-09-04</td>\n",
              "      <td>4.5</td>\n",
              "      <td>3.5</td>\n",
              "      <td>731 days</td>\n",
              "      <td>731</td>\n",
              "      <td>1.0</td>\n",
              "      <td>1</td>\n",
              "      <td>2002-09-05</td>\n",
              "      <td>9</td>\n",
              "      <td>Male</td>\n",
              "      <td>75.260780</td>\n",
              "      <td>1927-06-02</td>\n",
              "      <td>46.822917</td>\n",
              "      <td>48.281250</td>\n",
              "      <td>22.031250</td>\n",
              "      <td>23.385417</td>\n",
              "      <td>-0.312500</td>\n",
              "      <td>-1.093750</td>\n",
              "      <td>-0.156250</td>\n",
              "      <td>-0.885416</td>\n",
              "      <td>1 days</td>\n",
              "      <td>0</td>\n",
              "    </tr>\n",
              "    <tr>\n",
              "      <th>30</th>\n",
              "      <td>11</td>\n",
              "      <td>2005-01-26</td>\n",
              "      <td>2003-01-04</td>\n",
              "      <td>5.5</td>\n",
              "      <td>3.5</td>\n",
              "      <td>753 days</td>\n",
              "      <td>753</td>\n",
              "      <td>2.0</td>\n",
              "      <td>1</td>\n",
              "      <td>2003-01-05</td>\n",
              "      <td>8</td>\n",
              "      <td>Male</td>\n",
              "      <td>75.594798</td>\n",
              "      <td>1927-06-02</td>\n",
              "      <td>47.500000</td>\n",
              "      <td>49.583333</td>\n",
              "      <td>22.135417</td>\n",
              "      <td>21.562500</td>\n",
              "      <td>0.677083</td>\n",
              "      <td>1.302083</td>\n",
              "      <td>0.104167</td>\n",
              "      <td>-1.822917</td>\n",
              "      <td>1 days</td>\n",
              "      <td>0</td>\n",
              "    </tr>\n",
              "    <tr>\n",
              "      <th>...</th>\n",
              "      <td>...</td>\n",
              "      <td>...</td>\n",
              "      <td>...</td>\n",
              "      <td>...</td>\n",
              "      <td>...</td>\n",
              "      <td>...</td>\n",
              "      <td>...</td>\n",
              "      <td>...</td>\n",
              "      <td>...</td>\n",
              "      <td>...</td>\n",
              "      <td>...</td>\n",
              "      <td>...</td>\n",
              "      <td>...</td>\n",
              "      <td>...</td>\n",
              "      <td>...</td>\n",
              "      <td>...</td>\n",
              "      <td>...</td>\n",
              "      <td>...</td>\n",
              "      <td>...</td>\n",
              "      <td>...</td>\n",
              "      <td>...</td>\n",
              "      <td>...</td>\n",
              "      <td>...</td>\n",
              "      <td>...</td>\n",
              "    </tr>\n",
              "    <tr>\n",
              "      <th>3460</th>\n",
              "      <td>950</td>\n",
              "      <td>2011-08-30</td>\n",
              "      <td>2009-06-02</td>\n",
              "      <td>6.5</td>\n",
              "      <td>6.0</td>\n",
              "      <td>819 days</td>\n",
              "      <td>819</td>\n",
              "      <td>0.5</td>\n",
              "      <td>1</td>\n",
              "      <td>2010-03-09</td>\n",
              "      <td>0</td>\n",
              "      <td>Male</td>\n",
              "      <td>64.172485</td>\n",
              "      <td>1946-01-05</td>\n",
              "      <td>42.450000</td>\n",
              "      <td>60.100000</td>\n",
              "      <td>28.750000</td>\n",
              "      <td>26.500000</td>\n",
              "      <td>-1.612500</td>\n",
              "      <td>8.172917</td>\n",
              "      <td>-1.666667</td>\n",
              "      <td>-1.468750</td>\n",
              "      <td>280 days</td>\n",
              "      <td>0</td>\n",
              "    </tr>\n",
              "    <tr>\n",
              "      <th>3472</th>\n",
              "      <td>953</td>\n",
              "      <td>2010-09-06</td>\n",
              "      <td>2008-08-31</td>\n",
              "      <td>4.5</td>\n",
              "      <td>3.0</td>\n",
              "      <td>736 days</td>\n",
              "      <td>736</td>\n",
              "      <td>1.5</td>\n",
              "      <td>1</td>\n",
              "      <td>2008-08-31</td>\n",
              "      <td>0</td>\n",
              "      <td>Female</td>\n",
              "      <td>63.923340</td>\n",
              "      <td>1944-09-28</td>\n",
              "      <td>33.950000</td>\n",
              "      <td>35.100000</td>\n",
              "      <td>18.350000</td>\n",
              "      <td>18.700000</td>\n",
              "      <td>0.000000</td>\n",
              "      <td>0.000000</td>\n",
              "      <td>0.000000</td>\n",
              "      <td>0.000000</td>\n",
              "      <td>0 days</td>\n",
              "      <td>0</td>\n",
              "    </tr>\n",
              "    <tr>\n",
              "      <th>3488</th>\n",
              "      <td>962</td>\n",
              "      <td>1992-03-22</td>\n",
              "      <td>1990-07-18</td>\n",
              "      <td>1.0</td>\n",
              "      <td>0.0</td>\n",
              "      <td>613 days</td>\n",
              "      <td>613</td>\n",
              "      <td>1.0</td>\n",
              "      <td>1</td>\n",
              "      <td>1991-03-25</td>\n",
              "      <td>4</td>\n",
              "      <td>Female</td>\n",
              "      <td>33.889117</td>\n",
              "      <td>1957-05-04</td>\n",
              "      <td>35.468750</td>\n",
              "      <td>34.687500</td>\n",
              "      <td>18.489583</td>\n",
              "      <td>17.604167</td>\n",
              "      <td>-0.833333</td>\n",
              "      <td>-2.812500</td>\n",
              "      <td>-2.031250</td>\n",
              "      <td>-2.395833</td>\n",
              "      <td>250 days</td>\n",
              "      <td>0</td>\n",
              "    </tr>\n",
              "    <tr>\n",
              "      <th>3494</th>\n",
              "      <td>962</td>\n",
              "      <td>1995-09-10</td>\n",
              "      <td>1993-09-19</td>\n",
              "      <td>2.0</td>\n",
              "      <td>1.0</td>\n",
              "      <td>721 days</td>\n",
              "      <td>721</td>\n",
              "      <td>1.0</td>\n",
              "      <td>1</td>\n",
              "      <td>1993-09-19</td>\n",
              "      <td>1</td>\n",
              "      <td>Female</td>\n",
              "      <td>36.377823</td>\n",
              "      <td>1957-05-04</td>\n",
              "      <td>35.781250</td>\n",
              "      <td>33.437500</td>\n",
              "      <td>17.500000</td>\n",
              "      <td>17.239583</td>\n",
              "      <td>0.885417</td>\n",
              "      <td>1.822917</td>\n",
              "      <td>-0.104167</td>\n",
              "      <td>1.822916</td>\n",
              "      <td>0 days</td>\n",
              "      <td>0</td>\n",
              "    </tr>\n",
              "    <tr>\n",
              "      <th>3495</th>\n",
              "      <td>962</td>\n",
              "      <td>1995-12-10</td>\n",
              "      <td>1993-10-12</td>\n",
              "      <td>2.0</td>\n",
              "      <td>1.0</td>\n",
              "      <td>789 days</td>\n",
              "      <td>789</td>\n",
              "      <td>1.0</td>\n",
              "      <td>1</td>\n",
              "      <td>1993-09-19</td>\n",
              "      <td>1</td>\n",
              "      <td>Female</td>\n",
              "      <td>36.377823</td>\n",
              "      <td>1957-05-04</td>\n",
              "      <td>35.781250</td>\n",
              "      <td>33.437500</td>\n",
              "      <td>17.500000</td>\n",
              "      <td>17.239583</td>\n",
              "      <td>0.885417</td>\n",
              "      <td>1.822917</td>\n",
              "      <td>-0.104167</td>\n",
              "      <td>1.822916</td>\n",
              "      <td>23 days</td>\n",
              "      <td>0</td>\n",
              "    </tr>\n",
              "  </tbody>\n",
              "</table>\n",
              "<p>385 rows × 24 columns</p>\n",
              "</div>"
            ],
            "text/plain": [
              "     patient_uid     dateT1     dateT0  ...  diff_APB-R    xdiff flag\n",
              "22            10 1993-01-30 1991-03-20  ...    1.441667   1 days    0\n",
              "23            10 1993-09-18 1991-09-04  ...   -1.910417   1 days    0\n",
              "28            11 2004-07-10 2002-05-22  ...    0.000000   0 days    0\n",
              "29            11 2004-09-04 2002-09-04  ...   -0.885416   1 days    0\n",
              "30            11 2005-01-26 2003-01-04  ...   -1.822917   1 days    0\n",
              "...          ...        ...        ...  ...         ...      ...  ...\n",
              "3460         950 2011-08-30 2009-06-02  ...   -1.468750 280 days    0\n",
              "3472         953 2010-09-06 2008-08-31  ...    0.000000   0 days    0\n",
              "3488         962 1992-03-22 1990-07-18  ...   -2.395833 250 days    0\n",
              "3494         962 1995-09-10 1993-09-19  ...    1.822916   0 days    0\n",
              "3495         962 1995-12-10 1993-10-12  ...    1.822916  23 days    0\n",
              "\n",
              "[385 rows x 24 columns]"
            ]
          },
          "metadata": {
            "tags": []
          },
          "execution_count": 460
        }
      ]
    },
    {
      "cell_type": "code",
      "metadata": {
        "id": "dD-zeiiqZzw_"
      },
      "source": [
        "# display_side_by_side([clinical_In[clinical_In['patient_uid'].isin(test)], mep_[mep_['patient_uid'].isin(test)]], ['Clinical data', 'Motor Evoked'])"
      ],
      "execution_count": null,
      "outputs": []
    },
    {
      "cell_type": "code",
      "metadata": {
        "colab": {
          "base_uri": "https://localhost:8080/"
        },
        "id": "fIb1JwrDHy7u",
        "outputId": "11853d68-93f7-4f61-e69d-e19373d064ab"
      },
      "source": [
        "print(\"proportion of positive outcomes: {}\".format(dfObj_[(dfObj_[\"w\"]==1)].size / dfObj_.size * 100))"
      ],
      "execution_count": null,
      "outputs": [
        {
          "output_type": "stream",
          "text": [
            "proportion of positive outcomes: 11.0\n"
          ],
          "name": "stdout"
        }
      ]
    },
    {
      "cell_type": "code",
      "metadata": {
        "colab": {
          "base_uri": "https://localhost:8080/"
        },
        "id": "znKgYCODPY_0",
        "outputId": "576ab344-4b5a-4454-9974-78c2f785d857"
      },
      "source": [
        "Counter(dfObj_[\"w\"])"
      ],
      "execution_count": null,
      "outputs": [
        {
          "output_type": "execute_result",
          "data": {
            "text/plain": [
              "Counter({0: 3115, 1: 385})"
            ]
          },
          "metadata": {
            "tags": []
          },
          "execution_count": 473
        }
      ]
    },
    {
      "cell_type": "code",
      "metadata": {
        "colab": {
          "base_uri": "https://localhost:8080/"
        },
        "id": "ntXxYMcNQ6Kj",
        "outputId": "9f9304a4-644b-461a-d634-fc7384ca3b00"
      },
      "source": [
        "len(dfObj_[dfObj_['flag']==2]) + len(dfObj_[dfObj_['flag']==3]) "
      ],
      "execution_count": null,
      "outputs": [
        {
          "output_type": "execute_result",
          "data": {
            "text/plain": [
              "717"
            ]
          },
          "metadata": {
            "tags": []
          },
          "execution_count": 474
        }
      ]
    },
    {
      "cell_type": "code",
      "metadata": {
        "colab": {
          "base_uri": "https://localhost:8080/",
          "height": 204
        },
        "id": "_tIOYi54OPeN",
        "outputId": "025b4a32-7a51-4f3b-88ce-2487c85cf983"
      },
      "source": [
        "duplicateRowsDF = dfObj_[dfObj_.duplicated(['patient_uid','visit_date'])]['patient_uid'].tolist()\n",
        "duplicate_list = set(duplicateRowsDF)\n",
        "\n",
        "# duplicateRowsDF = dfObj_[dfObj_.duplicated(['patient_uid','visit_date'])]\n",
        "dfObj_[dfObj_['patient_uid'].isin(duplicate_list)].head()"
      ],
      "execution_count": null,
      "outputs": [
        {
          "output_type": "execute_result",
          "data": {
            "text/html": [
              "<div>\n",
              "<style scoped>\n",
              "    .dataframe tbody tr th:only-of-type {\n",
              "        vertical-align: middle;\n",
              "    }\n",
              "\n",
              "    .dataframe tbody tr th {\n",
              "        vertical-align: top;\n",
              "    }\n",
              "\n",
              "    .dataframe thead th {\n",
              "        text-align: right;\n",
              "    }\n",
              "</style>\n",
              "<table border=\"1\" class=\"dataframe\">\n",
              "  <thead>\n",
              "    <tr style=\"text-align: right;\">\n",
              "      <th></th>\n",
              "      <th>patient_uid</th>\n",
              "      <th>dateT1</th>\n",
              "      <th>dateT0</th>\n",
              "      <th>edss1</th>\n",
              "      <th>edss0</th>\n",
              "      <th>diff</th>\n",
              "      <th>diff_</th>\n",
              "      <th>delta_edss</th>\n",
              "      <th>w</th>\n",
              "      <th>visit_date</th>\n",
              "      <th>visit_uid</th>\n",
              "      <th>sex</th>\n",
              "      <th>age</th>\n",
              "      <th>date_of_birth</th>\n",
              "      <th>AH-L</th>\n",
              "      <th>AH-R</th>\n",
              "      <th>APB-L</th>\n",
              "      <th>APB-R</th>\n",
              "      <th>diff_AH-L</th>\n",
              "      <th>diff_AH-R</th>\n",
              "      <th>diff_APB-L</th>\n",
              "      <th>diff_APB-R</th>\n",
              "      <th>xdiff</th>\n",
              "      <th>flag</th>\n",
              "    </tr>\n",
              "  </thead>\n",
              "  <tbody>\n",
              "    <tr>\n",
              "      <th>1</th>\n",
              "      <td>7</td>\n",
              "      <td>2005-05-04</td>\n",
              "      <td>2003-05-28</td>\n",
              "      <td>3.5</td>\n",
              "      <td>4.0</td>\n",
              "      <td>707 days</td>\n",
              "      <td>707</td>\n",
              "      <td>-0.5</td>\n",
              "      <td>0</td>\n",
              "      <td>2004-07-06</td>\n",
              "      <td>1</td>\n",
              "      <td>Female</td>\n",
              "      <td>68.577687</td>\n",
              "      <td>1935-12-08</td>\n",
              "      <td>44.700000</td>\n",
              "      <td>42.450000</td>\n",
              "      <td>24.25000</td>\n",
              "      <td>21.450000</td>\n",
              "      <td>0.000000</td>\n",
              "      <td>0.000000</td>\n",
              "      <td>0.00000</td>\n",
              "      <td>0.000000</td>\n",
              "      <td>405 days</td>\n",
              "      <td>3</td>\n",
              "    </tr>\n",
              "    <tr>\n",
              "      <th>2</th>\n",
              "      <td>7</td>\n",
              "      <td>2005-11-29</td>\n",
              "      <td>2004-05-28</td>\n",
              "      <td>3.5</td>\n",
              "      <td>4.0</td>\n",
              "      <td>550 days</td>\n",
              "      <td>550</td>\n",
              "      <td>-0.5</td>\n",
              "      <td>0</td>\n",
              "      <td>2004-07-06</td>\n",
              "      <td>1</td>\n",
              "      <td>Female</td>\n",
              "      <td>68.577687</td>\n",
              "      <td>1935-12-08</td>\n",
              "      <td>44.700000</td>\n",
              "      <td>42.450000</td>\n",
              "      <td>24.25000</td>\n",
              "      <td>21.450000</td>\n",
              "      <td>0.000000</td>\n",
              "      <td>0.000000</td>\n",
              "      <td>0.00000</td>\n",
              "      <td>0.000000</td>\n",
              "      <td>39 days</td>\n",
              "      <td>0</td>\n",
              "    </tr>\n",
              "    <tr>\n",
              "      <th>3</th>\n",
              "      <td>7</td>\n",
              "      <td>2006-07-29</td>\n",
              "      <td>2004-08-27</td>\n",
              "      <td>3.5</td>\n",
              "      <td>4.0</td>\n",
              "      <td>701 days</td>\n",
              "      <td>701</td>\n",
              "      <td>-0.5</td>\n",
              "      <td>0</td>\n",
              "      <td>2004-07-06</td>\n",
              "      <td>1</td>\n",
              "      <td>Female</td>\n",
              "      <td>68.577687</td>\n",
              "      <td>1935-12-08</td>\n",
              "      <td>44.700000</td>\n",
              "      <td>42.450000</td>\n",
              "      <td>24.25000</td>\n",
              "      <td>21.450000</td>\n",
              "      <td>0.000000</td>\n",
              "      <td>0.000000</td>\n",
              "      <td>0.00000</td>\n",
              "      <td>0.000000</td>\n",
              "      <td>52 days</td>\n",
              "      <td>0</td>\n",
              "    </tr>\n",
              "    <tr>\n",
              "      <th>4</th>\n",
              "      <td>7</td>\n",
              "      <td>2007-01-26</td>\n",
              "      <td>2005-02-25</td>\n",
              "      <td>3.5</td>\n",
              "      <td>3.5</td>\n",
              "      <td>700 days</td>\n",
              "      <td>700</td>\n",
              "      <td>0.0</td>\n",
              "      <td>0</td>\n",
              "      <td>2005-08-05</td>\n",
              "      <td>4</td>\n",
              "      <td>Female</td>\n",
              "      <td>69.659138</td>\n",
              "      <td>1935-12-08</td>\n",
              "      <td>45.260417</td>\n",
              "      <td>42.239583</td>\n",
              "      <td>23.28125</td>\n",
              "      <td>19.895833</td>\n",
              "      <td>0.560417</td>\n",
              "      <td>-0.210417</td>\n",
              "      <td>-0.96875</td>\n",
              "      <td>-1.554167</td>\n",
              "      <td>161 days</td>\n",
              "      <td>0</td>\n",
              "    </tr>\n",
              "    <tr>\n",
              "      <th>5</th>\n",
              "      <td>7</td>\n",
              "      <td>2007-07-28</td>\n",
              "      <td>2005-08-05</td>\n",
              "      <td>4.0</td>\n",
              "      <td>3.5</td>\n",
              "      <td>722 days</td>\n",
              "      <td>722</td>\n",
              "      <td>0.5</td>\n",
              "      <td>0</td>\n",
              "      <td>2005-08-05</td>\n",
              "      <td>4</td>\n",
              "      <td>Female</td>\n",
              "      <td>69.659138</td>\n",
              "      <td>1935-12-08</td>\n",
              "      <td>45.260417</td>\n",
              "      <td>42.239583</td>\n",
              "      <td>23.28125</td>\n",
              "      <td>19.895833</td>\n",
              "      <td>0.560417</td>\n",
              "      <td>-0.210417</td>\n",
              "      <td>-0.96875</td>\n",
              "      <td>-1.554167</td>\n",
              "      <td>0 days</td>\n",
              "      <td>0</td>\n",
              "    </tr>\n",
              "  </tbody>\n",
              "</table>\n",
              "</div>"
            ],
            "text/plain": [
              "  patient_uid     dateT1     dateT0  ...  diff_APB-R    xdiff flag\n",
              "1           7 2005-05-04 2003-05-28  ...    0.000000 405 days    3\n",
              "2           7 2005-11-29 2004-05-28  ...    0.000000  39 days    0\n",
              "3           7 2006-07-29 2004-08-27  ...    0.000000  52 days    0\n",
              "4           7 2007-01-26 2005-02-25  ...   -1.554167 161 days    0\n",
              "5           7 2007-07-28 2005-08-05  ...   -1.554167   0 days    0\n",
              "\n",
              "[5 rows x 24 columns]"
            ]
          },
          "metadata": {
            "tags": []
          },
          "execution_count": 475
        }
      ]
    },
    {
      "cell_type": "code",
      "metadata": {
        "id": "lPFuI_a2vtyz"
      },
      "source": [
        "# Remove duplicates visit_date \n",
        "dfObj_1 = dfObj_.loc[dfObj_.groupby(['patient_uid','visit_date'])['xdiff'].idxmin()]"
      ],
      "execution_count": null,
      "outputs": []
    },
    {
      "cell_type": "code",
      "metadata": {
        "id": "e27ZPLtiQA7A"
      },
      "source": [
        "# print(\"proportion of positive outcomes: {}\".format(dfObj_1[(dfObj_1[\"w\"]==1)].size / dfObj_1.size * 100))"
      ],
      "execution_count": null,
      "outputs": []
    },
    {
      "cell_type": "code",
      "metadata": {
        "id": "hMoIAF_LhWfV"
      },
      "source": [
        "# Counter(dfObj_1[\"w\"])"
      ],
      "execution_count": null,
      "outputs": []
    },
    {
      "cell_type": "code",
      "metadata": {
        "colab": {
          "base_uri": "https://localhost:8080/"
        },
        "id": "G2iLdKipilYe",
        "outputId": "21351cbe-8655-4d32-b80b-84d8f9c72917"
      },
      "source": [
        "print(\"{} rows were removed, there are now {} left\".format(len(dfObj_)- len(dfObj_1),len(dfObj_1)))"
      ],
      "execution_count": null,
      "outputs": [
        {
          "output_type": "stream",
          "text": [
            "1444 rows were removed, there are now 2056 left\n"
          ],
          "name": "stdout"
        }
      ]
    },
    {
      "cell_type": "code",
      "metadata": {
        "colab": {
          "base_uri": "https://localhost:8080/"
        },
        "id": "hpFewpaviqHI",
        "outputId": "000e1ea8-9087-4658-a5e3-c3eaaefac5d8"
      },
      "source": [
        "print(\"|| No disease progression(0): {} || Disease progression(1) :{} ||\".format(Counter(dfObj_1[\"w\"])[0] , Counter(dfObj_1[\"w\"])[1]))"
      ],
      "execution_count": null,
      "outputs": [
        {
          "output_type": "stream",
          "text": [
            "|| No disease progression(0): 1826 || Disease progression(1) :230 ||\n"
          ],
          "name": "stdout"
        }
      ]
    },
    {
      "cell_type": "code",
      "metadata": {
        "colab": {
          "base_uri": "https://localhost:8080/"
        },
        "id": "V7bxFDa4gzyz",
        "outputId": "007c6d8a-afbf-43e1-a770-c0a75a44feeb"
      },
      "source": [
        "print(\"From {} to {} cases (duplicated cases), proportion is {} and was {}\".format(Counter(dfObj_[\"w\"])[1],Counter(dfObj_1[\"w\"])[1], dfObj_[(dfObj_[\"w\"]==1)].size / dfObj_.size * 100, dfObj_1[(dfObj_1[\"w\"]==1)].size / dfObj_1.size * 100))"
      ],
      "execution_count": null,
      "outputs": [
        {
          "output_type": "stream",
          "text": [
            "From 417 to 254 cases (duplicated cases), proportion is 11.409028727770178 and was 11.737523105360443\n"
          ],
          "name": "stdout"
        }
      ]
    },
    {
      "cell_type": "code",
      "metadata": {
        "id": "Np8oSG4r0zv6"
      },
      "source": [
        "# change sign of the negative dates (flag=2)\n",
        "dfObj_1['xdiff'] = np.where((dfObj_1.flag == 2),dfObj_1.xdiff * -1,dfObj_1.xdiff)"
      ],
      "execution_count": null,
      "outputs": []
    },
    {
      "cell_type": "code",
      "metadata": {
        "colab": {
          "base_uri": "https://localhost:8080/"
        },
        "id": "mVTfWJfKMyBk",
        "outputId": "a56f5d1e-dfd9-469a-d590-f089e2432cb1"
      },
      "source": [
        "dfObj_1[dfObj_1['flag']==3]['patient_uid'].nunique()"
      ],
      "execution_count": null,
      "outputs": [
        {
          "output_type": "execute_result",
          "data": {
            "text/plain": [
              "15"
            ]
          },
          "metadata": {
            "tags": []
          },
          "execution_count": 282
        }
      ]
    },
    {
      "cell_type": "code",
      "metadata": {
        "id": "qqoUPiBOBd_D"
      },
      "source": [
        "final = dfObj_2.copy()"
      ],
      "execution_count": null,
      "outputs": []
    },
    {
      "cell_type": "code",
      "metadata": {
        "id": "_WOV2CocBd_G"
      },
      "source": [
        "final.sort_values(by=['patient_uid','visit_date'], inplace=True, ascending=[True, False])"
      ],
      "execution_count": null,
      "outputs": []
    },
    {
      "cell_type": "code",
      "metadata": {
        "id": "398MVCzEBd_G"
      },
      "source": [
        "final.reset_index(inplace=True, drop=True)"
      ],
      "execution_count": null,
      "outputs": []
    },
    {
      "cell_type": "code",
      "metadata": {
        "colab": {
          "base_uri": "https://localhost:8080/"
        },
        "id": "uDL0VLTaBd_H",
        "outputId": "e2335b50-9987-4183-8e29-2ff9cf9fa5fc"
      },
      "source": [
        "final.shape"
      ],
      "execution_count": null,
      "outputs": [
        {
          "output_type": "execute_result",
          "data": {
            "text/plain": [
              "(2139, 24)"
            ]
          },
          "metadata": {
            "tags": []
          },
          "execution_count": 482
        }
      ]
    },
    {
      "cell_type": "code",
      "metadata": {
        "colab": {
          "base_uri": "https://localhost:8080/"
        },
        "id": "_6S6ioJ_yUHw",
        "outputId": "56599680-89b0-44b8-ab73-29498ec67628"
      },
      "source": [
        "print(\"|| No disease progression(0): {} || Disease progression(1) :{} ||\".format(Counter(final[\"w\"])[0] , Counter(final[\"w\"])[1]))"
      ],
      "execution_count": null,
      "outputs": [
        {
          "output_type": "stream",
          "text": [
            "|| No disease progression(0): 1889 || Disease progression(1) :250 ||\n"
          ],
          "name": "stdout"
        }
      ]
    },
    {
      "cell_type": "code",
      "metadata": {
        "id": "FsJlTH8TViVd"
      },
      "source": [
        "# format timedelta days to int\n",
        "final['xdiff'] = final['xdiff'].dt.days\n",
        "final['diff'] = final['diff'].dt.days"
      ],
      "execution_count": null,
      "outputs": []
    },
    {
      "cell_type": "code",
      "metadata": {
        "id": "MOUW4EDyV1QA",
        "colab": {
          "base_uri": "https://localhost:8080/",
          "height": 204
        },
        "outputId": "39034db2-bc48-43f6-c525-9227a7922af6"
      },
      "source": [
        "final.tail()"
      ],
      "execution_count": null,
      "outputs": [
        {
          "output_type": "execute_result",
          "data": {
            "text/html": [
              "<div>\n",
              "<style scoped>\n",
              "    .dataframe tbody tr th:only-of-type {\n",
              "        vertical-align: middle;\n",
              "    }\n",
              "\n",
              "    .dataframe tbody tr th {\n",
              "        vertical-align: top;\n",
              "    }\n",
              "\n",
              "    .dataframe thead th {\n",
              "        text-align: right;\n",
              "    }\n",
              "</style>\n",
              "<table border=\"1\" class=\"dataframe\">\n",
              "  <thead>\n",
              "    <tr style=\"text-align: right;\">\n",
              "      <th></th>\n",
              "      <th>patient_uid</th>\n",
              "      <th>dateT1</th>\n",
              "      <th>dateT0</th>\n",
              "      <th>edss1</th>\n",
              "      <th>edss0</th>\n",
              "      <th>diff</th>\n",
              "      <th>diff2</th>\n",
              "      <th>delta_edss</th>\n",
              "      <th>w</th>\n",
              "      <th>visit_date</th>\n",
              "      <th>visit_uid</th>\n",
              "      <th>sex</th>\n",
              "      <th>age</th>\n",
              "      <th>date_of_birth</th>\n",
              "      <th>AH-L</th>\n",
              "      <th>AH-R</th>\n",
              "      <th>APB-L</th>\n",
              "      <th>APB-R</th>\n",
              "      <th>diff_AH-L</th>\n",
              "      <th>diff_AH-R</th>\n",
              "      <th>diff_APB-L</th>\n",
              "      <th>diff_APB-R</th>\n",
              "      <th>xdiff</th>\n",
              "      <th>flag</th>\n",
              "    </tr>\n",
              "  </thead>\n",
              "  <tbody>\n",
              "    <tr>\n",
              "      <th>2134</th>\n",
              "      <td>962</td>\n",
              "      <td>1995-09-10</td>\n",
              "      <td>1993-09-19</td>\n",
              "      <td>2.0</td>\n",
              "      <td>1.0</td>\n",
              "      <td>721</td>\n",
              "      <td>9</td>\n",
              "      <td>1.0</td>\n",
              "      <td>1</td>\n",
              "      <td>1993-09-19</td>\n",
              "      <td>1</td>\n",
              "      <td>Female</td>\n",
              "      <td>36.377823</td>\n",
              "      <td>1957-05-04</td>\n",
              "      <td>35.781250</td>\n",
              "      <td>33.437500</td>\n",
              "      <td>17.500000</td>\n",
              "      <td>17.239583</td>\n",
              "      <td>0.885417</td>\n",
              "      <td>1.822917</td>\n",
              "      <td>-0.104167</td>\n",
              "      <td>1.822916</td>\n",
              "      <td>0</td>\n",
              "      <td>0</td>\n",
              "    </tr>\n",
              "    <tr>\n",
              "      <th>2135</th>\n",
              "      <td>962</td>\n",
              "      <td>1995-03-12</td>\n",
              "      <td>1993-03-21</td>\n",
              "      <td>1.0</td>\n",
              "      <td>1.0</td>\n",
              "      <td>721</td>\n",
              "      <td>9</td>\n",
              "      <td>0.0</td>\n",
              "      <td>0</td>\n",
              "      <td>1993-03-22</td>\n",
              "      <td>13</td>\n",
              "      <td>Female</td>\n",
              "      <td>35.882272</td>\n",
              "      <td>1957-05-04</td>\n",
              "      <td>34.895833</td>\n",
              "      <td>31.614583</td>\n",
              "      <td>17.604167</td>\n",
              "      <td>15.416667</td>\n",
              "      <td>0.416666</td>\n",
              "      <td>-2.864584</td>\n",
              "      <td>-0.312500</td>\n",
              "      <td>-2.760416</td>\n",
              "      <td>1</td>\n",
              "      <td>0</td>\n",
              "    </tr>\n",
              "    <tr>\n",
              "      <th>2136</th>\n",
              "      <td>962</td>\n",
              "      <td>1994-03-28</td>\n",
              "      <td>1992-03-22</td>\n",
              "      <td>1.0</td>\n",
              "      <td>1.0</td>\n",
              "      <td>736</td>\n",
              "      <td>6</td>\n",
              "      <td>0.0</td>\n",
              "      <td>0</td>\n",
              "      <td>1992-03-23</td>\n",
              "      <td>2</td>\n",
              "      <td>Female</td>\n",
              "      <td>34.885695</td>\n",
              "      <td>1957-05-04</td>\n",
              "      <td>36.197917</td>\n",
              "      <td>35.416667</td>\n",
              "      <td>18.489583</td>\n",
              "      <td>16.614583</td>\n",
              "      <td>2.083334</td>\n",
              "      <td>0.625000</td>\n",
              "      <td>1.666666</td>\n",
              "      <td>-0.312500</td>\n",
              "      <td>1</td>\n",
              "      <td>0</td>\n",
              "    </tr>\n",
              "    <tr>\n",
              "      <th>2137</th>\n",
              "      <td>962</td>\n",
              "      <td>1993-10-12</td>\n",
              "      <td>1991-10-03</td>\n",
              "      <td>1.0</td>\n",
              "      <td>1.0</td>\n",
              "      <td>740</td>\n",
              "      <td>10</td>\n",
              "      <td>0.0</td>\n",
              "      <td>0</td>\n",
              "      <td>1991-10-03</td>\n",
              "      <td>8</td>\n",
              "      <td>Female</td>\n",
              "      <td>34.414784</td>\n",
              "      <td>1957-05-04</td>\n",
              "      <td>34.114583</td>\n",
              "      <td>34.791667</td>\n",
              "      <td>16.822917</td>\n",
              "      <td>16.927083</td>\n",
              "      <td>-1.093750</td>\n",
              "      <td>-0.885416</td>\n",
              "      <td>-0.989583</td>\n",
              "      <td>-0.260417</td>\n",
              "      <td>0</td>\n",
              "      <td>0</td>\n",
              "    </tr>\n",
              "    <tr>\n",
              "      <th>2138</th>\n",
              "      <td>962</td>\n",
              "      <td>1993-03-21</td>\n",
              "      <td>1991-03-24</td>\n",
              "      <td>1.0</td>\n",
              "      <td>1.0</td>\n",
              "      <td>728</td>\n",
              "      <td>2</td>\n",
              "      <td>0.0</td>\n",
              "      <td>0</td>\n",
              "      <td>1991-03-25</td>\n",
              "      <td>4</td>\n",
              "      <td>Female</td>\n",
              "      <td>33.889117</td>\n",
              "      <td>1957-05-04</td>\n",
              "      <td>35.468750</td>\n",
              "      <td>34.687500</td>\n",
              "      <td>18.489583</td>\n",
              "      <td>17.604167</td>\n",
              "      <td>-0.833333</td>\n",
              "      <td>-2.812500</td>\n",
              "      <td>-2.031250</td>\n",
              "      <td>-2.395833</td>\n",
              "      <td>1</td>\n",
              "      <td>0</td>\n",
              "    </tr>\n",
              "  </tbody>\n",
              "</table>\n",
              "</div>"
            ],
            "text/plain": [
              "     patient_uid     dateT1     dateT0  ...  diff_APB-R  xdiff  flag\n",
              "2134         962 1995-09-10 1993-09-19  ...    1.822916      0     0\n",
              "2135         962 1995-03-12 1993-03-21  ...   -2.760416      1     0\n",
              "2136         962 1994-03-28 1992-03-22  ...   -0.312500      1     0\n",
              "2137         962 1993-10-12 1991-10-03  ...   -0.260417      0     0\n",
              "2138         962 1993-03-21 1991-03-24  ...   -2.395833      1     0\n",
              "\n",
              "[5 rows x 24 columns]"
            ]
          },
          "metadata": {
            "tags": []
          },
          "execution_count": 293
        }
      ]
    },
    {
      "cell_type": "code",
      "metadata": {
        "id": "1RhBH3AbbK_-"
      },
      "source": [
        "final_X = final.copy()\n",
        "final_X['edss_class'] = np.where(final_X['edss0'] >= 6, 'edss>=6', 'edss<6' ) \n",
        "\n",
        "# final_X.head(50)"
      ],
      "execution_count": null,
      "outputs": []
    },
    {
      "cell_type": "code",
      "metadata": {
        "colab": {
          "base_uri": "https://localhost:8080/"
        },
        "id": "L9MX5pOGi5PI",
        "outputId": "b7c822b4-b40e-4c11-9efb-7677d47309aa"
      },
      "source": [
        "final_minus = final_X[final_X['edss0'] < 6]\n",
        "final_plus = final_X[final_X['edss0'] >= 6]\n",
        "# final_minus.shape,final_plus.shape,final_X.shape\n",
        "# ((1877, 25), (262, 25), (2139, 25))\n",
        "final_minus['AH-R'].mean(),final_plus['AH-R'].mean()"
      ],
      "execution_count": null,
      "outputs": [
        {
          "output_type": "execute_result",
          "data": {
            "text/plain": [
              "(40.95370493340436, 48.890195606870265)"
            ]
          },
          "metadata": {
            "tags": []
          },
          "execution_count": 295
        }
      ]
    },
    {
      "cell_type": "code",
      "metadata": {
        "colab": {
          "base_uri": "https://localhost:8080/"
        },
        "id": "ueaIfYPZkPPO",
        "outputId": "9a4c887b-21bd-4e19-f42a-fafd0f1c4a1e"
      },
      "source": [
        "final_minus['AH-L'].mean(),final_plus['AH-L'].mean()"
      ],
      "execution_count": null,
      "outputs": [
        {
          "output_type": "execute_result",
          "data": {
            "text/plain": [
              "(41.19289202503994, 47.73480440839694)"
            ]
          },
          "metadata": {
            "tags": []
          },
          "execution_count": 296
        }
      ]
    },
    {
      "cell_type": "code",
      "metadata": {
        "colab": {
          "base_uri": "https://localhost:8080/"
        },
        "id": "X9Sp1OSpjx3F",
        "outputId": "5005ae1c-f447-4e73-e0af-9a93bf361203"
      },
      "source": [
        "final_minus['APB-R'].mean(),final_plus['APB-R'].mean()"
      ],
      "execution_count": null,
      "outputs": [
        {
          "output_type": "execute_result",
          "data": {
            "text/plain": [
              "(20.585347861481097, 24.10042940839695)"
            ]
          },
          "metadata": {
            "tags": []
          },
          "execution_count": 297
        }
      ]
    },
    {
      "cell_type": "code",
      "metadata": {
        "colab": {
          "base_uri": "https://localhost:8080/"
        },
        "id": "3G-xfV0xlIhc",
        "outputId": "d0035a2f-3e91-4c0f-b9eb-72cccee7aed5"
      },
      "source": [
        "final_minus['APB-L'].mean(),final_plus['APB-L'].mean()"
      ],
      "execution_count": null,
      "outputs": [
        {
          "output_type": "execute_result",
          "data": {
            "text/plain": [
              "(20.415313676611596, 23.98893128625955)"
            ]
          },
          "metadata": {
            "tags": []
          },
          "execution_count": 298
        }
      ]
    },
    {
      "cell_type": "code",
      "metadata": {
        "colab": {
          "base_uri": "https://localhost:8080/"
        },
        "id": "yU60_dYH-7rw",
        "outputId": "fa16f21d-7689-4d08-b588-c656e6609c5c"
      },
      "source": [
        "# import seaborn as sns\n",
        "!pip install joypy\n",
        "import joypy "
      ],
      "execution_count": null,
      "outputs": [
        {
          "output_type": "stream",
          "text": [
            "Collecting joypy\n",
            "  Downloading https://files.pythonhosted.org/packages/a8/94/2fd59e3e443ca0ad0212a0a8cc9c887f7405f86ffc2028f825767c6f4528/joypy-0.2.5-py2.py3-none-any.whl\n",
            "Requirement already satisfied: numpy>=1.16.5 in /usr/local/lib/python3.7/dist-packages (from joypy) (1.19.5)\n",
            "Requirement already satisfied: scipy>=0.11.0 in /usr/local/lib/python3.7/dist-packages (from joypy) (1.4.1)\n",
            "Requirement already satisfied: pandas>=0.20.0 in /usr/local/lib/python3.7/dist-packages (from joypy) (1.1.5)\n",
            "Requirement already satisfied: matplotlib in /usr/local/lib/python3.7/dist-packages (from joypy) (3.2.2)\n",
            "Requirement already satisfied: pytz>=2017.2 in /usr/local/lib/python3.7/dist-packages (from pandas>=0.20.0->joypy) (2018.9)\n",
            "Requirement already satisfied: python-dateutil>=2.7.3 in /usr/local/lib/python3.7/dist-packages (from pandas>=0.20.0->joypy) (2.8.1)\n",
            "Requirement already satisfied: kiwisolver>=1.0.1 in /usr/local/lib/python3.7/dist-packages (from matplotlib->joypy) (1.3.1)\n",
            "Requirement already satisfied: cycler>=0.10 in /usr/local/lib/python3.7/dist-packages (from matplotlib->joypy) (0.10.0)\n",
            "Requirement already satisfied: pyparsing!=2.0.4,!=2.1.2,!=2.1.6,>=2.0.1 in /usr/local/lib/python3.7/dist-packages (from matplotlib->joypy) (2.4.7)\n",
            "Requirement already satisfied: six>=1.5 in /usr/local/lib/python3.7/dist-packages (from python-dateutil>=2.7.3->pandas>=0.20.0->joypy) (1.15.0)\n",
            "Installing collected packages: joypy\n",
            "Successfully installed joypy-0.2.5\n"
          ],
          "name": "stdout"
        }
      ]
    },
    {
      "cell_type": "code",
      "metadata": {
        "colab": {
          "base_uri": "https://localhost:8080/"
        },
        "id": "YQHh4rOdMXy8",
        "outputId": "cb2162ff-c014-4d5e-c703-ef0c81a9f0d6"
      },
      "source": [
        "# df[(df['Salary_in_1000']>=100) & (df['Age']<60) & df['FT_Team'].str.startswith('S')][['Name','Age','Salary_in_1000']]\n",
        "\n",
        "final_R = final_X[(final_X['AH-R']>=19) & (final_X['AH-R']<80) & (final_X['APB-R']>19)  & (final_X['APB-R']<80) ] \n",
        "# final_AHR = final_X[(final_X['AH-R']>20)  & (final_X['AH-R']<81)] \n",
        "final_L = final_X[(final_X['AH-L']>19) & (final_X['AH-L']<80) & (final_X['APB-L']>19) & (final_X['APB-L']<80)] \n",
        "# final_APBR = final_X[(final_X['APB-R']>20) & (final_X['APB-R']<81)] \n",
        "\n",
        "# x_range = list(range(15,80))\n",
        "# range(15,80,5)\n",
        "final_R['AH-R'].min(),final_R['AH-R'].max()"
      ],
      "execution_count": null,
      "outputs": [
        {
          "output_type": "execute_result",
          "data": {
            "text/plain": [
              "(19.7, 77.65625)"
            ]
          },
          "metadata": {
            "tags": []
          },
          "execution_count": 300
        }
      ]
    },
    {
      "cell_type": "code",
      "metadata": {
        "colab": {
          "base_uri": "https://localhost:8080/",
          "height": 314
        },
        "id": "APS1JAT4bJtx",
        "outputId": "ea9b6b7c-2b07-49d6-87ff-981039e6fe8e"
      },
      "source": [
        "%matplotlib inline\n",
        "x_range = list(range(20,80,5))\n",
        "plt.figure(figsize=(16,10), dpi= 80)\n",
        "# fig, axes = joypy.joyplot(mep_, column=['AH-L', 'APB-L','AH-R','APB-R'], by=\"sex\", ylim='own', figsize=(14,10))\n",
        "# fig, axes = joypy.joyplot(final_X, column=['AH-L', 'APB-L'],by=\"edss_class\", overlap=3,grid=False, legend=True, kind=\"counts\")\n",
        "fig, axes = joypy.joyplot(final_R, column=['AH-R', 'APB-R'],by=\"edss_class\", overlap=3,grid=False, legend=True, kind=\"normalized_counts\",bins=60)\n",
        "# fig, axes = joypy.joyplot(final_L, column=['AH-L', 'APB-L'],by=\"edss_class\", overlap=3,grid=False, legend=True, kind=\"normalized_counts\",bins=60)\n",
        "# axes[-1].set_xticks(x_range);\n",
        "# axes[-1].set_xticklabels(x_range)\n",
        "\n",
        "# fig, axes = joypy.joyplot(final_X, column=['AH-R', 'APB-R'],by=\"edss_class\", overlap=3,grid=False, legend=True, kind=\"normalized_counts\",bins=60)\n",
        "# fig, axes = joypy.joyplot(mep_, column=['AH-L', 'AH-R','APB-L','APB-R'],hist=\"True\", bins=50, overlap=0,grid=False, legend=False)\n",
        "# fig, axes = joypy.joyplot(mep_, column=['AH-L', 'APB-L','AH-R','APB-R'], by='sex', overlap=1)\n",
        "# Decoration\n",
        "# plt.title('Anatomy distribution of latencies for patients with EDSS>5', fontsize=22)\n",
        "plt.show()"
      ],
      "execution_count": null,
      "outputs": [
        {
          "output_type": "display_data",
          "data": {
            "text/plain": [
              "<Figure size 1280x800 with 0 Axes>"
            ]
          },
          "metadata": {
            "tags": []
          }
        },
        {
          "output_type": "display_data",
          "data": {
            "image/png": "[encoded data removed]",
            "text/plain": [
              "<Figure size 432x288 with 3 Axes>"
            ]
          },
          "metadata": {
            "tags": [],
            "needs_background": "light"
          }
        }
      ]
    },
    {
      "cell_type": "code",
      "metadata": {
        "colab": {
          "base_uri": "https://localhost:8080/",
          "height": 279
        },
        "id": "h5J78BtV1GGm",
        "outputId": "ea469fea-31ec-4014-93e2-4671a2881ca6"
      },
      "source": [
        "# dfObj_['diff2'] = dfObj_['diff_centered'].dt.days\n",
        "\n",
        "# plt.hist(dfObj_['diff'])\n",
        "# dfObj_.diff.hist(bins=10)\n",
        "\n",
        "# plt.hist(dfObj_['diff2'], 10, density=True,  alpha=0.75)\n",
        "\n",
        "# n, bins, patches =  plt.hist(final['xdiff'], 10, density=True,  alpha=0.75)\n",
        "n, bins, patches =  plt.hist(final['diff'], 30, density=True,  alpha=0.75)\n",
        "# plt.xlabel('Separation (in days) between clinical and MEP visits')\n",
        "plt.xlabel('Separation (in days) between first and follow up visit')\n",
        "plt.ylabel('Density')\n",
        "\n",
        "plt.grid(True)\n",
        "plt.show()"
      ],
      "execution_count": null,
      "outputs": [
        {
          "output_type": "display_data",
          "data": {
            "image/png": "[encoded data removed]",
            "text/plain": [
              "<Figure size 432x288 with 1 Axes>"
            ]
          },
          "metadata": {
            "tags": [],
            "needs_background": "light"
          }
        }
      ]
    },
    {
      "cell_type": "code",
      "metadata": {
        "id": "D_19D_cjBiJd"
      },
      "source": [
        "final_ = final[[\n",
        " 'patient_uid',\n",
        " 'sex',\n",
        " 'age',\n",
        " 'date_of_birth',\n",
        " 'visit_uid',\n",
        " 'visit_date',\n",
        " 'dateT0',\n",
        " 'edss0',\n",
        " 'dateT1',\n",
        " 'edss1',\n",
        " 'delta_edss',\n",
        " 'AH-L',\n",
        " 'diff_AH-L',\n",
        " 'AH-R',\n",
        " 'diff_AH-R',\n",
        " 'APB-L',\n",
        " 'diff_APB-L',\n",
        " 'APB-R',\n",
        " 'diff_APB-R',\n",
        " 'w'\n",
        " ]]"
      ],
      "execution_count": null,
      "outputs": []
    },
    {
      "cell_type": "code",
      "metadata": {
        "colab": {
          "base_uri": "https://localhost:8080/",
          "height": 204
        },
        "id": "be6TErWjk_8M",
        "outputId": "f16241d1-f588-4a74-dc51-2d3c556a2884"
      },
      "source": [
        "final_.tail()"
      ],
      "execution_count": null,
      "outputs": [
        {
          "output_type": "execute_result",
          "data": {
            "text/html": [
              "<div>\n",
              "<style scoped>\n",
              "    .dataframe tbody tr th:only-of-type {\n",
              "        vertical-align: middle;\n",
              "    }\n",
              "\n",
              "    .dataframe tbody tr th {\n",
              "        vertical-align: top;\n",
              "    }\n",
              "\n",
              "    .dataframe thead th {\n",
              "        text-align: right;\n",
              "    }\n",
              "</style>\n",
              "<table border=\"1\" class=\"dataframe\">\n",
              "  <thead>\n",
              "    <tr style=\"text-align: right;\">\n",
              "      <th></th>\n",
              "      <th>patient_uid</th>\n",
              "      <th>sex</th>\n",
              "      <th>age</th>\n",
              "      <th>date_of_birth</th>\n",
              "      <th>visit_uid</th>\n",
              "      <th>visit_date</th>\n",
              "      <th>dateT0</th>\n",
              "      <th>edss0</th>\n",
              "      <th>dateT1</th>\n",
              "      <th>edss1</th>\n",
              "      <th>delta_edss</th>\n",
              "      <th>AH-L</th>\n",
              "      <th>diff_AH-L</th>\n",
              "      <th>AH-R</th>\n",
              "      <th>diff_AH-R</th>\n",
              "      <th>APB-L</th>\n",
              "      <th>diff_APB-L</th>\n",
              "      <th>APB-R</th>\n",
              "      <th>diff_APB-R</th>\n",
              "      <th>w</th>\n",
              "    </tr>\n",
              "  </thead>\n",
              "  <tbody>\n",
              "    <tr>\n",
              "      <th>2134</th>\n",
              "      <td>962</td>\n",
              "      <td>Female</td>\n",
              "      <td>36.377823</td>\n",
              "      <td>1957-05-04</td>\n",
              "      <td>1</td>\n",
              "      <td>1993-09-19</td>\n",
              "      <td>1993-09-19</td>\n",
              "      <td>1.0</td>\n",
              "      <td>1995-09-10</td>\n",
              "      <td>2.0</td>\n",
              "      <td>1.0</td>\n",
              "      <td>35.781250</td>\n",
              "      <td>0.885417</td>\n",
              "      <td>33.437500</td>\n",
              "      <td>1.822917</td>\n",
              "      <td>17.500000</td>\n",
              "      <td>-0.104167</td>\n",
              "      <td>17.239583</td>\n",
              "      <td>1.822916</td>\n",
              "      <td>1</td>\n",
              "    </tr>\n",
              "    <tr>\n",
              "      <th>2135</th>\n",
              "      <td>962</td>\n",
              "      <td>Female</td>\n",
              "      <td>35.882272</td>\n",
              "      <td>1957-05-04</td>\n",
              "      <td>13</td>\n",
              "      <td>1993-03-22</td>\n",
              "      <td>1993-03-21</td>\n",
              "      <td>1.0</td>\n",
              "      <td>1995-03-12</td>\n",
              "      <td>1.0</td>\n",
              "      <td>0.0</td>\n",
              "      <td>34.895833</td>\n",
              "      <td>0.416666</td>\n",
              "      <td>31.614583</td>\n",
              "      <td>-2.864584</td>\n",
              "      <td>17.604167</td>\n",
              "      <td>-0.312500</td>\n",
              "      <td>15.416667</td>\n",
              "      <td>-2.760416</td>\n",
              "      <td>0</td>\n",
              "    </tr>\n",
              "    <tr>\n",
              "      <th>2136</th>\n",
              "      <td>962</td>\n",
              "      <td>Female</td>\n",
              "      <td>34.885695</td>\n",
              "      <td>1957-05-04</td>\n",
              "      <td>2</td>\n",
              "      <td>1992-03-23</td>\n",
              "      <td>1992-03-22</td>\n",
              "      <td>1.0</td>\n",
              "      <td>1994-03-28</td>\n",
              "      <td>1.0</td>\n",
              "      <td>0.0</td>\n",
              "      <td>36.197917</td>\n",
              "      <td>2.083334</td>\n",
              "      <td>35.416667</td>\n",
              "      <td>0.625000</td>\n",
              "      <td>18.489583</td>\n",
              "      <td>1.666666</td>\n",
              "      <td>16.614583</td>\n",
              "      <td>-0.312500</td>\n",
              "      <td>0</td>\n",
              "    </tr>\n",
              "    <tr>\n",
              "      <th>2137</th>\n",
              "      <td>962</td>\n",
              "      <td>Female</td>\n",
              "      <td>34.414784</td>\n",
              "      <td>1957-05-04</td>\n",
              "      <td>8</td>\n",
              "      <td>1991-10-03</td>\n",
              "      <td>1991-10-03</td>\n",
              "      <td>1.0</td>\n",
              "      <td>1993-10-12</td>\n",
              "      <td>1.0</td>\n",
              "      <td>0.0</td>\n",
              "      <td>34.114583</td>\n",
              "      <td>-1.093750</td>\n",
              "      <td>34.791667</td>\n",
              "      <td>-0.885416</td>\n",
              "      <td>16.822917</td>\n",
              "      <td>-0.989583</td>\n",
              "      <td>16.927083</td>\n",
              "      <td>-0.260417</td>\n",
              "      <td>0</td>\n",
              "    </tr>\n",
              "    <tr>\n",
              "      <th>2138</th>\n",
              "      <td>962</td>\n",
              "      <td>Female</td>\n",
              "      <td>33.889117</td>\n",
              "      <td>1957-05-04</td>\n",
              "      <td>4</td>\n",
              "      <td>1991-03-25</td>\n",
              "      <td>1991-03-24</td>\n",
              "      <td>1.0</td>\n",
              "      <td>1993-03-21</td>\n",
              "      <td>1.0</td>\n",
              "      <td>0.0</td>\n",
              "      <td>35.468750</td>\n",
              "      <td>-0.833333</td>\n",
              "      <td>34.687500</td>\n",
              "      <td>-2.812500</td>\n",
              "      <td>18.489583</td>\n",
              "      <td>-2.031250</td>\n",
              "      <td>17.604167</td>\n",
              "      <td>-2.395833</td>\n",
              "      <td>0</td>\n",
              "    </tr>\n",
              "  </tbody>\n",
              "</table>\n",
              "</div>"
            ],
            "text/plain": [
              "     patient_uid     sex        age  ...      APB-R diff_APB-R  w\n",
              "2134         962  Female  36.377823  ...  17.239583   1.822916  1\n",
              "2135         962  Female  35.882272  ...  15.416667  -2.760416  0\n",
              "2136         962  Female  34.885695  ...  16.614583  -0.312500  0\n",
              "2137         962  Female  34.414784  ...  16.927083  -0.260417  0\n",
              "2138         962  Female  33.889117  ...  17.604167  -2.395833  0\n",
              "\n",
              "[5 rows x 20 columns]"
            ]
          },
          "metadata": {
            "tags": []
          },
          "execution_count": 305
        }
      ]
    },
    {
      "cell_type": "code",
      "metadata": {
        "colab": {
          "base_uri": "https://localhost:8080/"
        },
        "id": "KyCXwCUxVSOJ",
        "outputId": "c8a2dfa3-a29d-4818-d339-c5d7647e9e0d"
      },
      "source": [
        "final_.dtypes"
      ],
      "execution_count": null,
      "outputs": [
        {
          "output_type": "execute_result",
          "data": {
            "text/plain": [
              "patient_uid              object\n",
              "sex                      object\n",
              "age                     float64\n",
              "date_of_birth    datetime64[ns]\n",
              "visit_uid                object\n",
              "visit_date       datetime64[ns]\n",
              "dateT0           datetime64[ns]\n",
              "edss0                   float64\n",
              "dateT1           datetime64[ns]\n",
              "edss1                   float64\n",
              "delta_edss              float64\n",
              "AH-L                    float64\n",
              "diff_AH-L               float64\n",
              "AH-R                    float64\n",
              "diff_AH-R               float64\n",
              "APB-L                   float64\n",
              "diff_APB-L              float64\n",
              "APB-R                   float64\n",
              "diff_APB-R              float64\n",
              "w                        object\n",
              "dtype: object"
            ]
          },
          "metadata": {
            "tags": []
          },
          "execution_count": 306
        }
      ]
    },
    {
      "cell_type": "code",
      "metadata": {
        "colab": {
          "base_uri": "https://localhost:8080/"
        },
        "id": "gflR8EXQBd_I",
        "outputId": "581e6a93-5ad7-4a51-a26b-b61c5dfd273b"
      },
      "source": [
        "final_.isnull().sum()\n"
      ],
      "execution_count": null,
      "outputs": [
        {
          "output_type": "execute_result",
          "data": {
            "text/plain": [
              "patient_uid      0\n",
              "sex              0\n",
              "age              0\n",
              "date_of_birth    0\n",
              "visit_uid        0\n",
              "visit_date       0\n",
              "dateT0           0\n",
              "edss0            0\n",
              "dateT1           0\n",
              "edss1            0\n",
              "delta_edss       0\n",
              "AH-L             0\n",
              "diff_AH-L        0\n",
              "AH-R             0\n",
              "diff_AH-R        0\n",
              "APB-L            0\n",
              "diff_APB-L       0\n",
              "APB-R            0\n",
              "diff_APB-R       0\n",
              "w                0\n",
              "dtype: int64"
            ]
          },
          "metadata": {
            "tags": []
          },
          "execution_count": 307
        }
      ]
    },
    {
      "cell_type": "code",
      "metadata": {
        "colab": {
          "base_uri": "https://localhost:8080/"
        },
        "id": "IEZQ_Ei-lJKK",
        "outputId": "961dd562-54d4-4850-f720-e1b0ba8394db"
      },
      "source": [
        "drive.mount('/drive')\n"
      ],
      "execution_count": null,
      "outputs": [
        {
          "output_type": "stream",
          "text": [
            "Mounted at /drive\n"
          ],
          "name": "stdout"
        }
      ]
    },
    {
      "cell_type": "code",
      "metadata": {
        "id": "j04jsVEeubWb"
      },
      "source": [
        "# final_.to_csv('/drive/My Drive/Javier/Data/final.csv')"
      ],
      "execution_count": null,
      "outputs": []
    },
    {
      "cell_type": "code",
      "metadata": {
        "id": "Efs2sNhInMlI"
      },
      "source": [
        "final_.to_csv('/drive/My Drive/Javier/Data/final_wider.csv')"
      ],
      "execution_count": null,
      "outputs": []
    },
    {
      "cell_type": "markdown",
      "metadata": {
        "id": "Od8hpHfByd0C"
      },
      "source": [
        "# Histograms"
      ]
    },
    {
      "cell_type": "code",
      "metadata": {
        "colab": {
          "base_uri": "https://localhost:8080/"
        },
        "id": "60o2ZOBNBd_I",
        "outputId": "9599741a-735d-4fef-9adf-001350b7efa6"
      },
      "source": [
        "final_['AH-L'].describe()"
      ],
      "execution_count": null,
      "outputs": [
        {
          "output_type": "execute_result",
          "data": {
            "text/plain": [
              "count    2139.000000\n",
              "mean       41.994192\n",
              "std         6.089811\n",
              "min         9.843750\n",
              "25%        38.229167\n",
              "50%        40.500000\n",
              "75%        44.464584\n",
              "max        78.593750\n",
              "Name: AH-L, dtype: float64"
            ]
          },
          "metadata": {
            "tags": []
          },
          "execution_count": 312
        }
      ]
    },
    {
      "cell_type": "code",
      "metadata": {
        "colab": {
          "base_uri": "https://localhost:8080/"
        },
        "id": "VTlqOe4VBd_J",
        "outputId": "10f599d8-d1f9-4667-906f-520405dd99b5"
      },
      "source": [
        "final_['AH-R'].describe()"
      ],
      "execution_count": null,
      "outputs": [
        {
          "output_type": "execute_result",
          "data": {
            "text/plain": [
              "count    2139.000000\n",
              "mean       41.925823\n",
              "std         6.476733\n",
              "min         1.875000\n",
              "25%        38.072917\n",
              "50%        40.572917\n",
              "75%        44.322917\n",
              "max        87.600000\n",
              "Name: AH-R, dtype: float64"
            ]
          },
          "metadata": {
            "tags": []
          },
          "execution_count": 313
        }
      ]
    },
    {
      "cell_type": "code",
      "metadata": {
        "colab": {
          "base_uri": "https://localhost:8080/"
        },
        "id": "zld7-5P-Bd_J",
        "outputId": "91681b5e-82ce-45a4-9219-2a075eeeebf6"
      },
      "source": [
        "final_['APB-L'].describe()"
      ],
      "execution_count": null,
      "outputs": [
        {
          "output_type": "execute_result",
          "data": {
            "text/plain": [
              "count    2139.000000\n",
              "mean       20.853036\n",
              "std         3.149264\n",
              "min        14.427083\n",
              "25%        19.132292\n",
              "50%        20.156250\n",
              "75%        21.785417\n",
              "max        61.550000\n",
              "Name: APB-L, dtype: float64"
            ]
          },
          "metadata": {
            "tags": []
          },
          "execution_count": 314
        }
      ]
    },
    {
      "cell_type": "code",
      "metadata": {
        "colab": {
          "base_uri": "https://localhost:8080/"
        },
        "id": "HHdQT9yFBd_J",
        "outputId": "ee46f294-7481-4a49-f5b2-5d2417dbede6"
      },
      "source": [
        "final_['APB-R'].describe()"
      ],
      "execution_count": null,
      "outputs": [
        {
          "output_type": "execute_result",
          "data": {
            "text/plain": [
              "count    2139.000000\n",
              "mean       21.015900\n",
              "std         3.166079\n",
              "min        14.479167\n",
              "25%        19.375000\n",
              "50%        20.260417\n",
              "75%        21.900000\n",
              "max        69.750000\n",
              "Name: APB-R, dtype: float64"
            ]
          },
          "metadata": {
            "tags": []
          },
          "execution_count": 315
        }
      ]
    },
    {
      "cell_type": "code",
      "metadata": {
        "colab": {
          "base_uri": "https://localhost:8080/",
          "height": 279
        },
        "id": "W5Tsjv01Bd_K",
        "outputId": "004b16ba-c583-4ac0-ecf7-78cbe0d71062"
      },
      "source": [
        "ax = final_[\"APB-R\"].hist(bins=15, density=True, stacked=True, color='teal', alpha=0.6)\n",
        "final_[\"APB-R\"].plot(kind='density', color='teal')\n",
        "ax.set(xlabel='APB-R')\n",
        "ax.set(xlabel='APB-R')\n",
        "plt.xlim(9,85)\n",
        "plt.show()"
      ],
      "execution_count": null,
      "outputs": [
        {
          "output_type": "display_data",
          "data": {
            "image/png": "[encoded data removed]",
            "text/plain": [
              "<Figure size 432x288 with 1 Axes>"
            ]
          },
          "metadata": {
            "tags": [],
            "needs_background": "light"
          }
        }
      ]
    },
    {
      "cell_type": "code",
      "metadata": {
        "colab": {
          "base_uri": "https://localhost:8080/",
          "height": 279
        },
        "id": "iIMZtSN-Tuij",
        "outputId": "dba1c87d-d2d6-4e86-e797-1271ddcd1848"
      },
      "source": [
        "ax = final_[\"APB-L\"].hist(bins=15, density=True, stacked=True, color='teal', alpha=0.6)\n",
        "final_[\"APB-L\"].plot(kind='density', color='teal')\n",
        "ax.set(xlabel='APB-L')\n",
        "ax.set(xlabel='APB-L')\n",
        "plt.xlim(9,85)\n",
        "plt.show()"
      ],
      "execution_count": null,
      "outputs": [
        {
          "output_type": "display_data",
          "data": {
            "image/png": "[encoded data removed]",
            "text/plain": [
              "<Figure size 432x288 with 1 Axes>"
            ]
          },
          "metadata": {
            "tags": [],
            "needs_background": "light"
          }
        }
      ]
    },
    {
      "cell_type": "code",
      "metadata": {
        "id": "8kCx5BzHTxgZ",
        "colab": {
          "base_uri": "https://localhost:8080/",
          "height": 279
        },
        "outputId": "8fb59243-b2d1-46a5-a2ab-123feaa10ea9"
      },
      "source": [
        "ax = final_[\"AH-R\"].hist(bins=15, density=True, stacked=True, color='teal', alpha=0.6)\n",
        "final_[\"AH-R\"].plot(kind='density', color='teal')\n",
        "ax.set(xlabel='AH-R')\n",
        "plt.xlim(9,85)\n",
        "plt.show()"
      ],
      "execution_count": null,
      "outputs": [
        {
          "output_type": "display_data",
          "data": {
            "image/png": "[encoded data removed]",
            "text/plain": [
              "<Figure size 432x288 with 1 Axes>"
            ]
          },
          "metadata": {
            "tags": [],
            "needs_background": "light"
          }
        }
      ]
    },
    {
      "cell_type": "code",
      "metadata": {
        "id": "r0fBUnMlTyF2",
        "colab": {
          "base_uri": "https://localhost:8080/",
          "height": 279
        },
        "outputId": "9d449978-33de-4b41-8441-46b81cf9a428"
      },
      "source": [
        "ax = final_[\"AH-L\"].hist(bins=15, density=True, stacked=True, color='teal', alpha=0.6)\n",
        "final_[\"AH-L\"].plot(kind='density', color='teal')\n",
        "ax.set(xlabel='AH-L')\n",
        "plt.xlim(9,85)\n",
        "plt.show()"
      ],
      "execution_count": null,
      "outputs": [
        {
          "output_type": "display_data",
          "data": {
            "image/png": "[encoded data removed]",
            "text/plain": [
              "<Figure size 432x288 with 1 Axes>"
            ]
          },
          "metadata": {
            "tags": [],
            "needs_background": "light"
          }
        }
      ]
    }
  ]
}