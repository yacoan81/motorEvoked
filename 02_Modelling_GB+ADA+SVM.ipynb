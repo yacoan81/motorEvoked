{
  "nbformat": 4,
  "nbformat_minor": 0,
  "metadata": {
    "colab": {
      "name": "02_Modelling_GB+ADA+SVM.ipynb",
      "provenance": [],
      "collapsed_sections": [],
      "toc_visible": true,
      "include_colab_link": true
    },
    "hide_input": false,
    "kernelspec": {
      "display_name": "Python 3",
      "language": "python",
      "name": "python3"
    },
    "language_info": {
      "codemirror_mode": {
        "name": "ipython",
        "version": 3
      },
      "file_extension": ".py",
      "mimetype": "text/x-python",
      "name": "python",
      "nbconvert_exporter": "python",
      "pygments_lexer": "ipython3",
      "version": "3.7.1"
    },
    "toc": {
      "base_numbering": 1,
      "nav_menu": {},
      "number_sections": true,
      "sideBar": true,
      "skip_h1_title": false,
      "title_cell": "Table of Contents",
      "title_sidebar": "Contents",
      "toc_cell": false,
      "toc_position": {},
      "toc_section_display": true,
      "toc_window_display": false
    },
    "accelerator": "TPU"
  },
  "cells": [
    {
      "cell_type": "markdown",
      "metadata": {
        "id": "view-in-github",
        "colab_type": "text"
      },
      "source": [
        "<a href=\"https://colab.research.google.com/github/yacoan81/motorEvoked/blob/main/02_Modelling_GB%2BADA%2BSVM.ipynb\" target=\"_parent\"><img src=\"https://colab.research.google.com/assets/colab-badge.svg\" alt=\"Open In Colab\"/></a>"
      ]
    },
    {
      "cell_type": "markdown",
      "metadata": {
        "id": "6GKatcar7wqH"
      },
      "source": [
        "# Dependencies and Packages"
      ]
    },
    {
      "cell_type": "markdown",
      "metadata": {
        "id": "VY83OYKZBd-f"
      },
      "source": [
        "https://scikit-learn.org/stable/modules/calibration.html\n",
        "https://scikit-learn.org/stable/auto_examples/calibration/plot_calibration_curve.html#sphx-glr-auto-examples-calibration-plot-calibration-curve-py\n",
        "\n",
        "https://www.kaggle.com/residentmario/notes-on-classification-probability-calibration\n",
        "https://www.kaggle.com/cbourguignat/why-calibration-works\n",
        "https://www.kaggle.com/dowakin/probability-calibration-0-005-to-lb\n",
        "https://www.kaggle.com/vbmokin/cfec-probability-calibration\n",
        "https://www.kaggle.com/kkhandekar/what-is-probability-calibration-sklearn"
      ]
    },
    {
      "cell_type": "code",
      "metadata": {
        "colab": {
          "base_uri": "https://localhost:8080/"
        },
        "id": "iUyxjIWGrAR6",
        "outputId": "9d07a117-b46a-42aa-bfa6-9146e9f19414"
      },
      "source": [
        "# Run once, to be able to use oversampling\n",
        "# pip install -U imbalanced-learn\n",
        "!pip install ml_insights\n"
      ],
      "execution_count": null,
      "outputs": [
        {
          "output_type": "stream",
          "text": [
            "Collecting ml_insights\n",
            "  Downloading https://files.pythonhosted.org/packages/eb/26/63ddee9fc302947c3b6782ceefee8163fd5fb1bae86ab8eefcfde457bae9/ml_insights-0.1.6-py2.py3-none-any.whl\n",
            "Requirement already satisfied: numpy>=1.16.0 in /usr/local/lib/python3.7/dist-packages (from ml_insights) (1.19.5)\n",
            "Requirement already satisfied: pandas>=0.23 in /usr/local/lib/python3.7/dist-packages (from ml_insights) (1.1.5)\n",
            "Requirement already satisfied: matplotlib>=2.0.0scikit-learn>=0.18.0 in /usr/local/lib/python3.7/dist-packages (from ml_insights) (3.2.2)\n",
            "Requirement already satisfied: scipy>=1.0 in /usr/local/lib/python3.7/dist-packages (from ml_insights) (1.4.1)\n",
            "Requirement already satisfied: python-dateutil>=2.7.3 in /usr/local/lib/python3.7/dist-packages (from pandas>=0.23->ml_insights) (2.8.1)\n",
            "Requirement already satisfied: pytz>=2017.2 in /usr/local/lib/python3.7/dist-packages (from pandas>=0.23->ml_insights) (2018.9)\n",
            "Requirement already satisfied: pyparsing!=2.0.4,!=2.1.2,!=2.1.6,>=2.0.1 in /usr/local/lib/python3.7/dist-packages (from matplotlib>=2.0.0scikit-learn>=0.18.0->ml_insights) (2.4.7)\n",
            "Requirement already satisfied: kiwisolver>=1.0.1 in /usr/local/lib/python3.7/dist-packages (from matplotlib>=2.0.0scikit-learn>=0.18.0->ml_insights) (1.3.1)\n",
            "Requirement already satisfied: cycler>=0.10 in /usr/local/lib/python3.7/dist-packages (from matplotlib>=2.0.0scikit-learn>=0.18.0->ml_insights) (0.10.0)\n",
            "Requirement already satisfied: six>=1.5 in /usr/local/lib/python3.7/dist-packages (from python-dateutil>=2.7.3->pandas>=0.23->ml_insights) (1.15.0)\n",
            "Installing collected packages: ml-insights\n",
            "Successfully installed ml-insights-0.1.6\n"
          ],
          "name": "stdout"
        }
      ]
    },
    {
      "cell_type": "code",
      "metadata": {
        "colab": {
          "base_uri": "https://localhost:8080/"
        },
        "id": "PBno8gCOz55a",
        "outputId": "b22562ec-bdc8-4522-a31d-ae2de0969943"
      },
      "source": [
        "# sampling with imbalance data\n",
        "# https://github.com/scikit-learn-contrib/imbalanced-learn#id32\n",
        "from imblearn.over_sampling import RandomOverSampler\n",
        "from imblearn import FunctionSampler  # to use a idendity sampler\n",
        "from collections import Counter\n",
        "import warnings\n",
        "warnings.filterwarnings('ignore')\n",
        "\n",
        "import numpy as np\n",
        "import pandas as pd\n",
        "import scipy as sp\n",
        "import math\n",
        "import warnings\n",
        "import matplotlib.pyplot as plt \n",
        "import ml_insights as mli\n",
        "\n",
        "warnings.filterwarnings('ignore')\n",
        "\n",
        "from sklearn.dummy import DummyClassifier\n",
        "from sklearn.model_selection import (train_test_split, GroupShuffleSplit, \n",
        "                                     GroupKFold, GridSearchCV, cross_val_predict,\n",
        "                                     LeaveOneGroupOut, RandomizedSearchCV)\n",
        "from sklearn.linear_model import LogisticRegression\n",
        "from sklearn.ensemble import (RandomForestClassifier, AdaBoostClassifier, \n",
        "                              GradientBoostingClassifier)\n",
        "from sklearn.naive_bayes import GaussianNB\n",
        "from sklearn.svm import LinearSVC\n",
        "from sklearn.svm import NuSVC\n",
        "from sklearn.metrics import (brier_score_loss, precision_score, recall_score,\n",
        "                             f1_score, balanced_accuracy_score, roc_auc_score,\n",
        "                             log_loss, make_scorer, accuracy_score, roc_curve,\n",
        "                             auc)\n",
        "from sklearn.calibration import CalibratedClassifierCV, calibration_curve\n",
        "from sklearn.preprocessing import StandardScaler\n",
        "\n",
        "from imblearn.ensemble import BalancedRandomForestClassifier\n",
        "\n"
      ],
      "execution_count": null,
      "outputs": [
        {
          "output_type": "stream",
          "text": [
            "/usr/local/lib/python3.7/dist-packages/sklearn/externals/six.py:31: FutureWarning: The module is deprecated in version 0.21 and will be removed in version 0.23 since we've dropped support for Python 2.7. Please rely on the official version of six (https://pypi.org/project/six/).\n",
            "  \"(https://pypi.org/project/six/).\", FutureWarning)\n",
            "/usr/local/lib/python3.7/dist-packages/sklearn/utils/deprecation.py:144: FutureWarning: The sklearn.neighbors.base module is  deprecated in version 0.22 and will be removed in version 0.24. The corresponding classes / functions should instead be imported from sklearn.neighbors. Anything that cannot be imported from sklearn.neighbors is now part of the private API.\n",
            "  warnings.warn(message, FutureWarning)\n"
          ],
          "name": "stderr"
        }
      ]
    },
    {
      "cell_type": "code",
      "metadata": {
        "id": "WLlHVoIJ75SD"
      },
      "source": [
        "# Functions\n",
        "\n",
        "def bins(prob,nbin):\n",
        "  val= []\n",
        "  for low in np.linspace(0,1,nbin):\n",
        "    valz = prob[:,1][(prob[:,1]>= low) & (prob[:,1]<= low+(1/nbin))]\n",
        "    val.append(len(valz))\n",
        "  # print(\"Boundaries: {} - {} | freq: {}\".format(low,low+0.1,len(val)))\n",
        "  return val;\n",
        "\n",
        "def reliability(name,y,probabilities,bins,strategy='uniform'):\n",
        "  fraction_of_positives, mean_predicted_value = calibration_curve(y, probabilities[:,1], n_bins=bins, strategy=strategy)\n",
        "  # bins_cal = len(fraction_of_positives)\n",
        "  # bin_counts = pd.cut(probabilities[:,1], bins=bins_cal).value_counts()\n",
        "  # ece = np.sum(np.abs(fraction_of_positives - mean_predicted_value) * (bin_counts / len(y_test)))\n",
        "  ece = expected_calibration_error(y=y, proba=probabilities[:,1], bins=bins)\n",
        "\n",
        "  fig = plt.figure(figsize=(10, 10))\n",
        "  ax1 = plt.subplot2grid((3, 1), (0, 0), rowspan=2)\n",
        "  ax2 = plt.subplot2grid((3, 1), (2, 0))\n",
        "  \n",
        "  ax1.plot(mean_predicted_value, fraction_of_positives, \"s-\",label=\"%s | ECE: (%1.3f)\" % (name, ece))\n",
        "\n",
        "  ax2.hist(probabilities[:,1], range=(0, 1), bins=bins, label=name,histtype=\"step\", lw=2)\n",
        "  # ax2.hist(probabilities[:,1], range=(probabilities[:,1].min(), probabilities[:,1].max()), bins=bins, label=name,histtype=\"step\", lw=2)\n",
        "  ax1.plot([0, 1], [0, 1], \"k:\", label=\"Perfectly calibrated\")\n",
        "  \n",
        "  ax1.set_ylabel(\"Fraction of positives\")\n",
        "  # ax1.set_xlim([probabilities[:,1].min(), probabilities[:,1].max()])\n",
        "  ax1.set_ylim([-0.05, 1.05])\n",
        "  ax1.legend(loc=\"lower right\")\n",
        "  ax1.set_title('Calibration plots  (reliability curve)')\n",
        "\n",
        "  ax2.set_xlabel(\"Mean predicted value\")\n",
        "  ax2.set_ylabel(\"Count\")\n",
        "  ax2.legend(loc=\"upper center\", ncol=2)\n",
        "\n",
        "  plt.tight_layout()\n",
        "\n",
        "\n",
        "def expected_calibration_error(y, proba, bins):\n",
        "  bin_count, bin_edges = np.histogram(proba, bins = bins)\n",
        "  n_bins = len(bin_count)\n",
        "  bin_edges[0] -= 1e-8 # because left edge is not included\n",
        "  bin_id = np.digitize(proba, bin_edges, right = True) - 1\n",
        "  bin_ysum = np.bincount(bin_id, weights = y, minlength = n_bins)\n",
        "  bin_probasum = np.bincount(bin_id, weights = proba, minlength = n_bins)\n",
        "  bin_ymean = np.divide(bin_ysum, bin_count, out = np.zeros(n_bins), where = bin_count > 0)\n",
        "  bin_probamean = np.divide(bin_probasum, bin_count, out = np.zeros(n_bins), where = bin_count > 0)\n",
        "  ece = np.abs((bin_probamean - bin_ymean) * bin_count).sum() / len(proba)\n",
        "  return ece\n",
        "\n",
        "def get_group_split(groupvector, test_size):\n",
        "    \"\"\"split items according to their group label\n",
        "    Input:\n",
        "         groupvector  -- labels of the item groups\n",
        "         test_size        -- desired size of the test set\n",
        "    Output:\n",
        "        train_keys      -- group labels of the items in the train set\n",
        "        test_keys       -- group labels of the items in the test set\n",
        "    \"\"\"\n",
        "    if type(test_size) is float:\n",
        "        test_size = round(test_size*len(groupvector))\n",
        "\n",
        "    # count number of items in each group\n",
        "    gr_counts = Counter(groupvector)\n",
        "    # randomly shuffle group keys\n",
        "    gr_keys = np.random.choice(np.asarray(list(gr_counts.keys())), \n",
        "                                                    size = len(gr_counts), replace=False)\n",
        "\n",
        "    # find the index of the group in the list `gr_keys` that optimally splits the set \n",
        "    # according to the specified `test_size`\n",
        "    # to this end: \n",
        "    #   (1) calculate cumulative sum of items in the ordered list of groups\n",
        "    cum_num_items = np.cumsum(np.array([gr_counts[x] for x in gr_keys]))\n",
        "    # (2) find the group index so that the splitting yields the set of the size that is closest to the specified\n",
        "    ind = np.argmin(abs(cum_num_items - test_size))\n",
        "    if ind > (len(gr_counts) -1):\n",
        "        print(\"split index\", ind)\n",
        "        print(\n",
        "            abs(np.cumsum(np.array([gr_counts[x] for x in gr_keys])) - test_size)\n",
        "            )\n",
        "        raise ValueError(\"Unable to split\")\n",
        "\n",
        "    # split groups according to the obtained index\n",
        "    test_keys = [kk for nn, kk in enumerate(gr_keys) if nn<=ind]\n",
        "    train_keys = [kk for nn, kk in enumerate(gr_keys) if nn>ind]\n",
        "    return train_keys, test_keys\n",
        "\n",
        "def iterate_models(model,n,testSize):\n",
        "  n = n\n",
        "  brier = np.zeros(n)\n",
        "  logloss = np.zeros(n)\n",
        "  ece =  np.zeros(n)\n",
        "  auc =  np.zeros(n)\n",
        "\n",
        "  brier_iso = np.zeros(n)\n",
        "  logloss_iso = np.zeros(n)\n",
        "  ece_iso =  np.zeros(n)\n",
        "  auc_iso =  np.zeros(n)\n",
        "\n",
        "  brier_sig = np.zeros(n)\n",
        "  logloss_sig = np.zeros(n)\n",
        "  ece_sig =  np.zeros(n)\n",
        "  auc_sig =  np.zeros(n)\n",
        "\n",
        "  proportion_train = np.zeros(n)\n",
        "  proportion_test = np.zeros(n)\n",
        "  for i in range(n):\n",
        "    train_keys,test_keys =  get_group_split(groups_all, test_size = testSize)\n",
        "\n",
        "    test_mask = [x in set(test_keys) for x in groups_all]\n",
        "    X_test_all =  X[test_mask]\n",
        "    X_test_ = X_test_all.iloc[:,1:]\n",
        "    xxtest = X_test_all.patient_uid.nunique()\n",
        "    y_test_ =  y[test_mask]\n",
        "\n",
        "    train_mask = [x in set(train_keys) for x in groups_all]\n",
        "    X_train_all =  X[train_mask]\n",
        "    X_train_ = X_train_all.iloc[:,1:]\n",
        "    xxtrain = X_train_all.patient_uid.nunique()\n",
        "    y_train_ =  y[train_mask]\n",
        "    \n",
        "    clf = model.fit(X_train_, y_train_)\n",
        "\n",
        "    ########################Isotonic Calibration################################\n",
        "    clf_iso = CalibratedClassifierCV(base_estimator=model, cv=4, method='isotonic')\n",
        "    clf_iso.fit(X_train_, y_train_)\n",
        "    proba_iso = clf_iso.predict_proba(X_test_)\n",
        "\n",
        "    auc_iso[i] = roc_auc_score(y_test_, proba_iso[:,1])\n",
        "    logloss_iso[i] = log_loss(y_test_, proba_iso)\n",
        "    brier_iso[i] = brier_score_loss(y_test_, proba_iso[:,1])\n",
        "    ece_iso[i] = expected_calibration_error(y_test_, proba_iso[:,1],10)\n",
        "    ########################sigmoid Calibration################################\n",
        "    clf_sig = CalibratedClassifierCV(base_estimator=model, cv=4, method='sigmoid')\n",
        "    clf_sig.fit(X_train_, y_train_)\n",
        "    proba_sig = clf_sig.predict_proba(X_test_)\n",
        "\n",
        "    auc_sig[i] = roc_auc_score(y_test_, proba_sig[:,1])\n",
        "    logloss_sig[i] = log_loss(y_test_, proba_sig)\n",
        "    brier_sig[i] = brier_score_loss(y_test_, proba_sig[:,1])\n",
        "    ece_sig[i] = expected_calibration_error(y_test_, proba_sig[:,1],10)\n",
        "    ############################################################################\n",
        "    y_pred = clf.predict(X_test_)\n",
        "    proba = clf.predict_proba(X_test_)\n",
        "\n",
        "    brier[i] = brier_score_loss(y_test_, proba[:,1])\n",
        "    logloss[i] = log_loss(y_test_, proba)\n",
        "    ece[i] = expected_calibration_error(y_test_, proba[:,1],10)\n",
        "    auc[i] = roc_auc_score(y_test_, proba[:,1])\n",
        "    \n",
        "    proportion_train[i] = xxtest/groups_all.nunique()\n",
        "    proportion_test[i]  = xxtrain/groups_all.nunique()\n",
        "  return auc, logloss, brier, ece, proportion_train, proportion_test,\\\n",
        "         auc_iso,logloss_iso,brier_iso,ece_iso,\\\n",
        "         auc_sig,logloss_sig,brier_sig,ece_sig\n"
      ],
      "execution_count": null,
      "outputs": []
    },
    {
      "cell_type": "markdown",
      "metadata": {
        "id": "GBDyKobH75qA"
      },
      "source": [
        "# Import Data"
      ]
    },
    {
      "cell_type": "code",
      "metadata": {
        "id": "HSo_J6qJCIuv"
      },
      "source": [
        "\n",
        "# Code to read csv file into Colaboratory:\n",
        "!pip install -U -q PyDrive\n",
        "from pydrive.auth import GoogleAuth\n",
        "from pydrive.drive import GoogleDrive\n",
        "from google.colab import auth\n",
        "from oauth2client.client import GoogleCredentials\n",
        "# Authenticate and create the PyDrive client.\n",
        "auth.authenticate_user()\n",
        "gauth = GoogleAuth()\n",
        "gauth.credentials = GoogleCredentials.get_application_default()\n",
        "drive = GoogleDrive(gauth)\n",
        "\n",
        "final = '18ItiyhgcSV61_OHKV8tMCiXDnGXPYPBa'"
      ],
      "execution_count": null,
      "outputs": []
    },
    {
      "cell_type": "code",
      "metadata": {
        "id": "4GCK3m6FC-XD"
      },
      "source": [
        "downloaded = drive.CreateFile({'id':final}) \n",
        "downloaded.GetContentFile('final.csv')  \n",
        "final = pd.read_csv('final.csv')"
      ],
      "execution_count": null,
      "outputs": []
    },
    {
      "cell_type": "code",
      "metadata": {
        "id": "IC1_Ee0UDwqz"
      },
      "source": [
        "final_Copy = final.copy()"
      ],
      "execution_count": null,
      "outputs": []
    },
    {
      "cell_type": "code",
      "metadata": {
        "id": "GL5zq768Bd-s"
      },
      "source": [
        "final.shape"
      ],
      "execution_count": null,
      "outputs": []
    },
    {
      "cell_type": "code",
      "metadata": {
        "id": "rkGCcIBaDkYb"
      },
      "source": [
        "# final.head()"
      ],
      "execution_count": null,
      "outputs": []
    },
    {
      "cell_type": "code",
      "metadata": {
        "id": "LUC4mlWkMCU0"
      },
      "source": [
        "#removing imported column\n",
        "final.drop('Unnamed: 0', axis=1, inplace=True)"
      ],
      "execution_count": null,
      "outputs": []
    },
    {
      "cell_type": "code",
      "metadata": {
        "id": "wJYXik-0D5Up"
      },
      "source": [
        "Counter(final['w'])"
      ],
      "execution_count": null,
      "outputs": []
    },
    {
      "cell_type": "code",
      "metadata": {
        "id": "Sa6SHhuVREHs"
      },
      "source": [
        "print(\"proportion of positive outcomes: {}\".format(final[(final[\"w\"]==1)].size / final.size * 100))"
      ],
      "execution_count": null,
      "outputs": []
    },
    {
      "cell_type": "code",
      "metadata": {
        "id": "WNJq_rc7-cAt"
      },
      "source": [
        "final.corr()"
      ],
      "execution_count": null,
      "outputs": []
    },
    {
      "cell_type": "markdown",
      "metadata": {
        "id": "anxSLJxGTjaH"
      },
      "source": [
        "# Preparation"
      ]
    },
    {
      "cell_type": "code",
      "metadata": {
        "id": "7VTGu8-7Bd_L"
      },
      "source": [
        "final.columns"
      ],
      "execution_count": null,
      "outputs": []
    },
    {
      "cell_type": "code",
      "metadata": {
        "id": "tI9uW6DkBd_L"
      },
      "source": [
        "final_=pd.get_dummies(final, columns=[\"sex\"])\n",
        "final_.drop('sex_Female', axis=1, inplace=True)"
      ],
      "execution_count": null,
      "outputs": []
    },
    {
      "cell_type": "code",
      "metadata": {
        "id": "GxTidhGIoSgx"
      },
      "source": [
        "final_['visit_date'] = pd.to_datetime(final_['visit_date'], format='%Y/%m/%d', errors='coerce')\n",
        "final_['dateT0'] = pd.to_datetime(final_['dateT0'], format='%Y/%m/%d', errors='coerce')\n",
        "final_['dateT1'] = pd.to_datetime(final_['dateT1'], format='%Y/%m/%d', errors='coerce')\n",
        "final_['date_of_birth'] = pd.to_datetime(final_['date_of_birth'], format='%Y/%m/%d', errors='coerce')"
      ],
      "execution_count": null,
      "outputs": []
    },
    {
      "cell_type": "code",
      "metadata": {
        "id": "9a8z6DzNRXiB"
      },
      "source": [
        "final_.dtypes"
      ],
      "execution_count": null,
      "outputs": []
    },
    {
      "cell_type": "code",
      "metadata": {
        "id": "wJtOYofaW28y"
      },
      "source": [
        "# how much visits disappear if you filter on \"MEP visit outside 1 year of EDSS visit\" \n",
        "Counter((final_['dateT0'] - final_['visit_date']).dt.days.abs() > 365)"
      ],
      "execution_count": null,
      "outputs": []
    },
    {
      "cell_type": "code",
      "metadata": {
        "id": "ETTlg909Bd_M"
      },
      "source": [
        "cols = ['patient_uid','age','edss0','sex_Male','AH-L','AH-R','APB-L','APB-R','diff_AH-L','diff_AH-R','diff_APB-L','diff_APB-R']"
      ],
      "execution_count": null,
      "outputs": []
    },
    {
      "cell_type": "code",
      "metadata": {
        "id": "x3wUcEB0Bd_M"
      },
      "source": [
        "X = final_[cols]\n",
        "y = final_['w'].astype('int')"
      ],
      "execution_count": null,
      "outputs": []
    },
    {
      "cell_type": "code",
      "metadata": {
        "id": "XJtg3eymer6n"
      },
      "source": [
        "X.head()"
      ],
      "execution_count": null,
      "outputs": []
    },
    {
      "cell_type": "markdown",
      "metadata": {
        "id": "XzkgGOgjXzNK"
      },
      "source": [
        "## Split Train and Test Sets\n",
        "\n",
        "We need to split between train and test sosame  patient is not in both splits \\\\\n"
      ]
    },
    {
      "cell_type": "code",
      "metadata": {
        "id": "7hy0GCrxfqtH"
      },
      "source": [
        "groups_all = X['patient_uid']\n",
        "groups_all.nunique()"
      ],
      "execution_count": null,
      "outputs": []
    },
    {
      "cell_type": "code",
      "metadata": {
        "id": "-CbdM2UIgHU2"
      },
      "source": [
        "## \n",
        "train_idx, test_idx = next(GroupShuffleSplit(train_size=.8, random_state=42).split(X, y, groups_all))"
      ],
      "execution_count": null,
      "outputs": []
    },
    {
      "cell_type": "code",
      "metadata": {
        "id": "Y4YhEfFuiE_2"
      },
      "source": [
        "X_train = np.take(X, train_idx, axis=0)\n",
        "y_train = np.take(y, train_idx, axis=0)\n",
        "groups_X_train = X_train['patient_uid']\n",
        "\n",
        "X_test = np.take(X, test_idx, axis=0)\n",
        "y_test = np.take(y, test_idx, axis=0)"
      ],
      "execution_count": null,
      "outputs": []
    },
    {
      "cell_type": "code",
      "metadata": {
        "id": "LBaPqYb5zata"
      },
      "source": [
        "# taking the patients (groups) apart in case is needed later on\n",
        "groups_X_test = X_test['patient_uid']\n",
        "X_test = X_test.iloc[:,1:]"
      ],
      "execution_count": null,
      "outputs": []
    },
    {
      "cell_type": "code",
      "metadata": {
        "id": "RWcL5qxja-p_"
      },
      "source": [
        "X_train.shape, groups_X_train.nunique()"
      ],
      "execution_count": null,
      "outputs": []
    },
    {
      "cell_type": "code",
      "metadata": {
        "id": "wO3vUwfEfHfz"
      },
      "source": [
        "X_test.shape, groups_X_test.nunique()"
      ],
      "execution_count": null,
      "outputs": []
    },
    {
      "cell_type": "markdown",
      "metadata": {
        "id": "aXLAtUdC35fG"
      },
      "source": [
        "## Scaling"
      ]
    },
    {
      "cell_type": "code",
      "metadata": {
        "id": "-rkKphHE34OQ"
      },
      "source": [
        "# Remark: Scaling in training set and apply fit in both train and test\n"
      ],
      "execution_count": null,
      "outputs": []
    },
    {
      "cell_type": "code",
      "metadata": {
        "id": "xpNPNXku38uv"
      },
      "source": [
        "# cols to scale, although we can apply it in all\n",
        "col_names = ['age', 'edss0','AH-L',\t'AH-R',\t'APB-L',\t'APB-R', 'diff_AH-L', 'diff_AH-R', 'diff_APB-L', 'diff_APB-R']\n",
        "features = X_train[col_names]\n",
        "# scaler contains the scaling function \n",
        "scaler = StandardScaler().fit(features.values)\n",
        "\n",
        "X_train_scaled = scaler.transform(X_train[col_names].values)\n",
        "X_test_scaled  = scaler.transform(X_test[col_names].values)\n",
        "\n",
        "X_train[col_names] = X_train_scaled\n",
        "X_test[col_names] = X_test_scaled\n"
      ],
      "execution_count": null,
      "outputs": []
    },
    {
      "cell_type": "code",
      "metadata": {
        "id": "iCO5DCjXfZ7L"
      },
      "source": [
        "Counter(y_train), Counter(y_test)"
      ],
      "execution_count": null,
      "outputs": []
    },
    {
      "cell_type": "markdown",
      "metadata": {
        "id": "9-tOq7N_4FzE"
      },
      "source": [
        "## Oversampling"
      ]
    },
    {
      "cell_type": "code",
      "metadata": {
        "id": "62Qw5ON3fNuQ"
      },
      "source": [
        "def func(X, y, sampling_strategy, random_state):\n",
        "  return RandomOverSampler(\n",
        "      sampling_strategy=sampling_strategy,\n",
        "      random_state=random_state).fit_resample(X, y)\n",
        "\n",
        "sampler = FunctionSampler(func=func,\n",
        "                          kw_args={'sampling_strategy': 'auto',\n",
        "                                   'random_state': 42})\n",
        "X_train_overSampled, y_train_overSampled = sampler.fit_resample(X_train, y_train)"
      ],
      "execution_count": null,
      "outputs": []
    },
    {
      "cell_type": "code",
      "metadata": {
        "id": "of9ctEcNfNfy"
      },
      "source": [
        "# RandomOverSampler returns numpy ndarray, transform to dataframe \n",
        "X_train_overSampled = pd.DataFrame(X_train_overSampled)\n",
        "X_train_overSampled.columns =  cols\n",
        "X_train_overSampled['sex_Male'] = X_train_overSampled['sex_Male'].astype(int)\n",
        "X_train_overSampled['patient_uid'] = X_train_overSampled['patient_uid'].astype(int)\n",
        "\n",
        "groups_X_train_overSampled = X_train_overSampled['patient_uid']"
      ],
      "execution_count": null,
      "outputs": []
    },
    {
      "cell_type": "code",
      "metadata": {
        "id": "CGTFcLF0ePmC"
      },
      "source": [
        "# In case we want to try, split the train set into train and calibration, for both oversampled and non-oversampled\n",
        "\n",
        "train_idx_1, test_idx_1 = next(GroupShuffleSplit(train_size=.50, random_state=42).split(X_train, y_train, groups_X_train))\n",
        "X_train_cali = np.take(X_train, train_idx_1, axis=0)\n",
        "y_train_cali = np.take(y_train, train_idx_1, axis=0)\n",
        "X_calib = np.take(X_train, test_idx_1, axis=0)\n",
        "y_calib = np.take(y_train, test_idx_1, axis=0)\n",
        "groups_X_train_cali = X_train_cali['patient_uid']\n",
        "groups_X_calib = X_calib['patient_uid']\n",
        "X_train_cali = X_train_cali.iloc[:,1:]\n",
        "X_calib = X_calib.iloc[:,1:]\n",
        "\n",
        "# with oversampled train data\n",
        "train_idx_2, test_idx_2 = next(GroupShuffleSplit(train_size=.50, random_state=42).split(X_train_overSampled, y_train_overSampled, groups_X_train_overSampled))\n",
        "X_train_2 = np.take(X_train_overSampled, train_idx_2, axis=0)\n",
        "y_train_2 = np.take(y_train_overSampled, train_idx_2, axis=0)\n",
        "X_calib_2 = np.take(X_train_overSampled, test_idx_2, axis=0)\n",
        "y_calib_2 = np.take(y_train_overSampled, test_idx_2, axis=0)\n",
        "groups_X_train_2 = X_train_2['patient_uid']\n",
        "groups_X_calib_2 = X_calib_2['patient_uid']\n",
        "X_train_2 = X_train_2.iloc[:,1:]\n",
        "X_calib_2 = X_calib_2.iloc[:,1:]\n",
        "\n",
        "groups_X_train = X_train['patient_uid']\n",
        "X_train = X_train.iloc[:,1:]\n",
        "\n",
        "groups_X_train_overSampled = X_train_overSampled['patient_uid']\n",
        "X_train_overSampled = X_train_overSampled.iloc[:,1:]\n",
        "\n"
      ],
      "execution_count": null,
      "outputs": []
    },
    {
      "cell_type": "markdown",
      "metadata": {
        "id": "LUk5r7QmpxgM"
      },
      "source": [
        "# dummy classifier"
      ]
    },
    {
      "cell_type": "code",
      "metadata": {
        "id": "BlKCX8_mpzrl"
      },
      "source": [
        "clf_dummy = DummyClassifier(strategy='most_frequent', random_state=42)\n",
        "clf_dummy.fit(X_train, y_train)"
      ],
      "execution_count": null,
      "outputs": []
    },
    {
      "cell_type": "code",
      "metadata": {
        "id": "E9hplIkCpzuo"
      },
      "source": [
        "y_pred_dummy = clf_dummy.predict(X_test)\n",
        "proba_dummy = clf_dummy.predict_proba(X_test)"
      ],
      "execution_count": null,
      "outputs": []
    },
    {
      "cell_type": "code",
      "metadata": {
        "id": "cOz1Hrj7ZeEZ"
      },
      "source": [
        "ece = expected_calibration_error(y_test,proba_dummy[:,1],20)\n"
      ],
      "execution_count": null,
      "outputs": []
    },
    {
      "cell_type": "code",
      "metadata": {
        "id": "Jx1kc4hfpzyL"
      },
      "source": [
        "print(\"\\tscore: %1.3f\" % clf_dummy.score(X_test, y_test))\n",
        "print(\"\\tF1: %1.3f (best is 1, worst is 0)\" % f1_score(y_test, y_pred_dummy))\n",
        "print(\"\\tPrecision: %1.3f (best is 1, worst is 0)\" % precision_score(y_test, y_pred_dummy))\n",
        "print(\"\\tRecall: %1.3f (best is 1, worst is 0)\" % recall_score(y_test, y_pred_dummy))\n",
        "print(\"\\tbal_acc: %1.3f (best is 1, worst is 0)\" % balanced_accuracy_score(y_test, y_pred_dummy))\n",
        "print(\"\\tauc: %1.3f\" % roc_auc_score(y_test, proba_dummy[:,1]))\n",
        "print(\"\\tlog_loss: %1.3f\" % log_loss(y_test, proba_dummy))\n",
        "print(\"\\tBrier: %1.3f (smaller the better)\" % brier_score_loss(y_test, proba_dummy[:,1]))\n",
        "print(\"\\tECE: %1.3f (smaller the better)\" % expected_calibration_error(y_test, proba_dummy[:,1],10))"
      ],
      "execution_count": null,
      "outputs": []
    },
    {
      "cell_type": "code",
      "metadata": {
        "id": "kW1LfNHUqbar"
      },
      "source": [
        "reliability(\"Dummy classifier\", y_test, proba_dummy,10)"
      ],
      "execution_count": null,
      "outputs": []
    },
    {
      "cell_type": "markdown",
      "metadata": {
        "id": "NSt3bqNYcHfB"
      },
      "source": [
        "# Gradient Boosting"
      ]
    },
    {
      "cell_type": "markdown",
      "metadata": {
        "id": "_fGj9YNq7pWc"
      },
      "source": [
        "## Tunning Gradient Boosting"
      ]
    },
    {
      "cell_type": "code",
      "metadata": {
        "id": "rpPT5OLkdC_h"
      },
      "source": [
        "# learning rate shrinks the contribution of each tree by learning_rate.\n",
        "learning_rate = [1, 0.5, 0.25, 0.1, 0.05, 0.01]\n",
        "# Number of trees in random forest\n",
        "n_estimators = [int(x) for x in np.linspace(start = 100, stop = 2000, num = 15)]\n",
        "# Number of features to consider at every split\n",
        "max_features = ['auto', 'sqrt']\n",
        "# Maximum number of levels in tree\n",
        "# max_depth = np.linspace(1, 32, 32, endpoint=True)\n",
        "max_depth = [int(x) for x in np.linspace(1, 32, 32)]\n",
        "max_depth.append(None)\n",
        "# Minimum number of samples required to split a node\n",
        "# min_samples_split = [2, 5, 10]\n",
        "min_samples_split = np.linspace(0.1, 1.0, 10, endpoint=True)\n",
        "# Minimum number of samples required at each leaf node\n",
        "# min_samples_leaf = [1, 2, 4]\n",
        "min_samples_leaf = np.linspace(0.1, 0.5, 5, endpoint=True)\n",
        "# Create the random grid\n",
        "random_grid = {'learning_rate': learning_rate,\n",
        "               'n_estimators': n_estimators,\n",
        "               'max_features': max_features,\n",
        "               'max_depth': max_depth,\n",
        "               'min_samples_split': min_samples_split,\n",
        "               'min_samples_leaf': min_samples_leaf}\n",
        "\n",
        "cv = GroupKFold(n_splits=5)"
      ],
      "execution_count": null,
      "outputs": []
    },
    {
      "cell_type": "code",
      "metadata": {
        "id": "t6A9ZdPvcKHL"
      },
      "source": [
        "# #############################################\n",
        "# ##### Execution takes around 18 minutes #####\n",
        "# #############################################\n",
        "\n",
        "# Model_GB = GradientBoostingClassifier(random_state=42)\n",
        "# clf_GB = RandomizedSearchCV(estimator = Model_GB, param_distributions = random_grid, n_iter = 100, cv = cv, scoring = 'brier_score_loss', verbose=2, random_state=42, n_jobs = -1)\n",
        "# # # Fit the random search model\n",
        "# clf_GB.fit(X_train, y_train, groups_X_train)\n",
        "\n",
        "# print(clf_GB.best_score_)\n",
        "# print(clf_GB.best_params_)"
      ],
      "execution_count": null,
      "outputs": []
    },
    {
      "cell_type": "code",
      "metadata": {
        "id": "tv4BXEW5s6xY"
      },
      "source": [
        "best_params_GB = {'n_estimators': 235, 'min_samples_split': 0.8, 'min_samples_leaf': 0.4, 'max_features': 'sqrt', 'max_depth': 25, 'learning_rate': 0.01}\n",
        "# best_params_GB = clf_GB.best_params_"
      ],
      "execution_count": null,
      "outputs": []
    },
    {
      "cell_type": "code",
      "metadata": {
        "colab": {
          "base_uri": "https://localhost:8080/"
        },
        "id": "d8Thtgm7s6xi",
        "outputId": "66ff3aa7-3e4e-46fa-e6c5-bdd0894cabc2"
      },
      "source": [
        "# Fit model with best parameters\n",
        "Model_GB = GradientBoostingClassifier(random_state=42)\n",
        "Model_GB.set_params(**best_params_GB)"
      ],
      "execution_count": null,
      "outputs": [
        {
          "output_type": "execute_result",
          "data": {
            "text/plain": [
              "GradientBoostingClassifier(ccp_alpha=0.0, criterion='friedman_mse', init=None,\n",
              "                           learning_rate=0.01, loss='deviance', max_depth=25,\n",
              "                           max_features='sqrt', max_leaf_nodes=None,\n",
              "                           min_impurity_decrease=0.0, min_impurity_split=None,\n",
              "                           min_samples_leaf=0.4, min_samples_split=0.8,\n",
              "                           min_weight_fraction_leaf=0.0, n_estimators=235,\n",
              "                           n_iter_no_change=None, presort='deprecated',\n",
              "                           random_state=42, subsample=1.0, tol=0.0001,\n",
              "                           validation_fraction=0.1, verbose=0,\n",
              "                           warm_start=False)"
            ]
          },
          "metadata": {
            "tags": []
          },
          "execution_count": 41
        }
      ]
    },
    {
      "cell_type": "code",
      "metadata": {
        "id": "N1b-LzlKjR15"
      },
      "source": [
        "auc_gb,logloss_gb,brier_gb,ece_gb,prop_train_gb,prop_test,auc_iso,logloss_iso_gb,brier_iso_gb,ece_iso_gb,auc_sig_gb,logloss_sig_gb,brier_sig_gb,ece_sig_gb = iterate_models(Model_GB,100,0.2)"
      ],
      "execution_count": null,
      "outputs": []
    },
    {
      "cell_type": "code",
      "metadata": {
        "colab": {
          "base_uri": "https://localhost:8080/"
        },
        "id": "WoAl2zWKlMnp",
        "outputId": "c333b648-ecaf-4b1a-ce23-e0ccefdff319"
      },
      "source": [
        "# np.mean(auc_gb)\n",
        "auc_gb"
      ],
      "execution_count": null,
      "outputs": [
        {
          "output_type": "execute_result",
          "data": {
            "text/plain": [
              "array([0.64505936, 0.66703495, 0.63063789, 0.60037813, 0.71688144,\n",
              "       0.65432373, 0.56767936, 0.72876201, 0.60556888, 0.66199428,\n",
              "       0.66843726, 0.67836949, 0.6508658 , 0.63160173, 0.65249145,\n",
              "       0.614421  , 0.68810764, 0.63033234, 0.7111749 , 0.6222363 ,\n",
              "       0.54320847, 0.57563978, 0.7175853 , 0.72567135, 0.62075703,\n",
              "       0.67038074, 0.60674541, 0.70762809, 0.64768923, 0.63418079,\n",
              "       0.64412133, 0.58265583, 0.66088932, 0.49788071, 0.570199  ,\n",
              "       0.5679446 , 0.60867782, 0.61298715, 0.60180234, 0.62162439,\n",
              "       0.71061288, 0.59836951, 0.65637423, 0.60958005, 0.60651209,\n",
              "       0.66351719, 0.65942391, 0.70611455, 0.6860886 , 0.60909011,\n",
              "       0.63684371, 0.59020147, 0.68418676, 0.63856646, 0.68229167,\n",
              "       0.65126931, 0.62673288, 0.64606809, 0.64247567, 0.60997293,\n",
              "       0.57560494, 0.59981083, 0.65108429, 0.67862853, 0.71961806,\n",
              "       0.66637827, 0.63557273, 0.52678877, 0.61945721, 0.62406799,\n",
              "       0.62186028, 0.6443081 , 0.60845209, 0.62241285, 0.58898755,\n",
              "       0.59501808, 0.59723328, 0.61126828, 0.66167767, 0.61660508,\n",
              "       0.71448989, 0.67161509, 0.6646438 , 0.62054335, 0.60600343,\n",
              "       0.62068255, 0.61694372, 0.65221343, 0.68909399, 0.5620305 ,\n",
              "       0.52915878, 0.63318331, 0.67361702, 0.69855898, 0.69327242,\n",
              "       0.73336602, 0.63614664, 0.62514328, 0.62567218, 0.70271583])"
            ]
          },
          "metadata": {
            "tags": []
          },
          "execution_count": 43
        }
      ]
    },
    {
      "cell_type": "code",
      "metadata": {
        "colab": {
          "base_uri": "https://localhost:8080/"
        },
        "id": "1qk-V_ErN4Rq",
        "outputId": "95855552-5276-4455-80c5-96635963c126"
      },
      "source": [
        "auc_iso"
      ],
      "execution_count": null,
      "outputs": [
        {
          "output_type": "execute_result",
          "data": {
            "text/plain": [
              "array([0.66150421, 0.67061738, 0.63186211, 0.57801047, 0.7162049 ,\n",
              "       0.63177067, 0.58020729, 0.74303587, 0.60131226, 0.6512478 ,\n",
              "       0.69188459, 0.67935569, 0.64641311, 0.62065553, 0.66478691,\n",
              "       0.60622294, 0.69137731, 0.64409722, 0.71102383, 0.61995565,\n",
              "       0.53509974, 0.58916424, 0.72312628, 0.7222715 , 0.63250329,\n",
              "       0.65881859, 0.62296588, 0.71491077, 0.65133355, 0.63871648,\n",
              "       0.64551559, 0.5938634 , 0.65364908, 0.48657065, 0.57502488,\n",
              "       0.56247491, 0.61554024, 0.61543563, 0.59989602, 0.63947422,\n",
              "       0.70844875, 0.62420365, 0.65540353, 0.62122703, 0.60859524,\n",
              "       0.65713313, 0.66670829, 0.70743034, 0.67684318, 0.62140603,\n",
              "       0.64017094, 0.58964184, 0.66365594, 0.6438455 , 0.65734954,\n",
              "       0.65771853, 0.62259087, 0.64232199, 0.64039877, 0.6132029 ,\n",
              "       0.59469136, 0.61143469, 0.65256751, 0.69710814, 0.72841435,\n",
              "       0.66709925, 0.62887031, 0.52213854, 0.62768458, 0.61282067,\n",
              "       0.60102695, 0.64348319, 0.60257126, 0.63978369, 0.59194728,\n",
              "       0.60753984, 0.60217984, 0.60556668, 0.65279991, 0.61495442,\n",
              "       0.72149846, 0.6571325 , 0.66103782, 0.62496947, 0.60918892,\n",
              "       0.62013284, 0.61799358, 0.64291996, 0.66009358, 0.5639654 ,\n",
              "       0.54383681, 0.6320581 , 0.66859043, 0.69109058, 0.69750515,\n",
              "       0.72440118, 0.64576202, 0.62727198, 0.62647531, 0.7122545 ])"
            ]
          },
          "metadata": {
            "tags": []
          },
          "execution_count": 44
        }
      ]
    },
    {
      "cell_type": "code",
      "metadata": {
        "colab": {
          "base_uri": "https://localhost:8080/"
        },
        "id": "fi1XY_7CN4WK",
        "outputId": "8b944393-4b66-4e4b-a16d-ac5225b9f2ec"
      },
      "source": [
        "auc_sig_gb"
      ],
      "execution_count": null,
      "outputs": [
        {
          "output_type": "execute_result",
          "data": {
            "text/plain": [
              "array([0.66224627, 0.66984733, 0.63566366, 0.58833624, 0.72193943,\n",
              "       0.64130504, 0.58569866, 0.73470657, 0.60262923, 0.65317172,\n",
              "       0.68465552, 0.66472715, 0.64140383, 0.61648114, 0.6631922 ,\n",
              "       0.61501623, 0.6817419 , 0.64053199, 0.713851  , 0.61362053,\n",
              "       0.5405817 , 0.57720549, 0.72787985, 0.70527223, 0.62421048,\n",
              "       0.65629899, 0.61805774, 0.70584341, 0.65603067, 0.62717832,\n",
              "       0.64580014, 0.5866979 , 0.66616913, 0.49128498, 0.55681592,\n",
              "       0.57108089, 0.59891732, 0.63101918, 0.59566251, 0.62131751,\n",
              "       0.7042287 , 0.62236799, 0.65489507, 0.61206802, 0.60039851,\n",
              "       0.65617552, 0.66670829, 0.69692982, 0.68093477, 0.61364832,\n",
              "       0.63470696, 0.60286935, 0.67206281, 0.6312873 , 0.66487269,\n",
              "       0.66088153, 0.61906171, 0.64843563, 0.64419653, 0.59846807,\n",
              "       0.57708642, 0.6132268 , 0.6633081 , 0.6924711 , 0.71964699,\n",
              "       0.66130738, 0.63704463, 0.53198106, 0.6255476 , 0.61888664,\n",
              "       0.60658687, 0.64840689, 0.60199176, 0.63517351, 0.58686547,\n",
              "       0.60141288, 0.60295536, 0.60667653, 0.6517471 , 0.61970929,\n",
              "       0.70511763, 0.65730174, 0.664292  , 0.61202686, 0.59024749,\n",
              "       0.62677508, 0.61606882, 0.65611258, 0.67238276, 0.5534942 ,\n",
              "       0.53464331, 0.62860577, 0.67571809, 0.68587227, 0.700215  ,\n",
              "       0.72911706, 0.63972708, 0.61752907, 0.61470773, 0.70304828])"
            ]
          },
          "metadata": {
            "tags": []
          },
          "execution_count": 45
        }
      ]
    },
    {
      "cell_type": "code",
      "metadata": {
        "id": "zYSuHat4lP_e"
      },
      "source": [
        "xxxx = np.array([0.62363466, 0.60864734, 0.58155895, 0.6510472 , 0.5646533 ,\n",
        "       0.6114505 , 0.63602785, 0.63726656, 0.597318  , 0.63595879,\n",
        "       0.59561671, 0.62935596, 0.64173954, 0.60397648, 0.63289683,\n",
        "       0.62240391, 0.6422959 , 0.61363135, 0.6352066 , 0.60632258,\n",
        "       0.6315532 , 0.529654  , 0.60188249, 0.64770036, 0.62068486,\n",
        "       0.60823389, 0.60862565, 0.56947386, 0.64827423, 0.61470714,\n",
        "       0.5397693 , 0.62648557, 0.63939732, 0.63277758, 0.63960158,\n",
        "       0.6071587 , 0.62430453, 0.62658485, 0.60719778, 0.62480615,\n",
        "       0.63198078, 0.60858107, 0.58417089, 0.61764233, 0.63516894,\n",
        "       0.63039404, 0.62459419, 0.60900401, 0.61866166, 0.6261739 ,\n",
        "       0.62684566, 0.58598462, 0.61007119, 0.65670784, 0.52148824,\n",
        "       0.61332623, 0.63634951, 0.63071563, 0.63461311, 0.6228628 ,\n",
        "       0.5794488 , 0.63173152, 0.64299791, 0.63575601, 0.64702958,\n",
        "       0.66283064, 0.63055825, 0.59898191, 0.59735801, 0.64092   ,\n",
        "       0.61480658, 0.62438889, 0.62103226, 0.63765133, 0.62680826,\n",
        "       0.61006226, 0.6348314 , 0.62454755, 0.63906094, 0.64079077,\n",
        "       0.62658223, 0.62064185, 0.62729029, 0.6325209 , 0.62243156,\n",
        "       0.63694798, 0.62407831, 0.63631933, 0.65062499, 0.62508973,\n",
        "       0.63010916, 0.62576209, 0.61406711, 0.63168632, 0.61812927,\n",
        "       0.6487796 , 0.42937596, 0.620663  , 0.63331484, 0.60854854])"
      ],
      "execution_count": null,
      "outputs": []
    },
    {
      "cell_type": "code",
      "metadata": {
        "id": "-4-QObaPlVE_"
      },
      "source": [
        "xxxx"
      ],
      "execution_count": null,
      "outputs": []
    },
    {
      "cell_type": "code",
      "metadata": {
        "id": "34LEGP0oPV9H"
      },
      "source": [
        "for size in [0.2,0.3,0.5,0.8]:\n",
        "  auc,logloss,brier,ece,prop_train,prop_test,auc_iso,logloss_iso,brier_iso,ece_iso,auc_sig,logloss_sig,brier_sig,ece_sig = iterate_models(Model_GB,1000,size)\n",
        "  print('*'*70)\n",
        "\n",
        "  print(\"\\tTest Set Size: %.2f\\n\\tMean AUC: %1.3f(%1.3f) \\n\\tMean log_loss: %1.3f(%1.3f)\\n\\tMean Brier: %1.3f(%1.3f) \\n\\tMean ECE: %1.3f(%1.3f)\" % (size,\n",
        "                                                                                                                           auc.mean(),auc.std(),\n",
        "                                                                                                                           logloss.mean(),logloss.std(),\n",
        "                                                                                                                           brier.mean(),brier.std(),\n",
        "                                                                                                                           ece.mean(),ece.std()) )\n",
        "  print(\"\\n\")\n",
        "  print(\"\\tAUC(min): %1.3f      \\tAUC(max): %1.3f\"    % (auc.min(),auc.max()))\n",
        "  print(\"\\tlog_loss(min): %1.3f  \\tlog_loss(max): %1.3f\" % (logloss.min(),logloss.max()))\n",
        "  print(\"\\tBrier(min): %1.3f    \\tBrier(max): %1.3f\"   % (brier.min(),brier.max()))\n",
        "  print(\"\\tECE(min): %1.3f       \\tECE(max): %1.3f\"      % (ece.min(),ece.max()))\n",
        "  print(\"\\tProp train: %.2f \\tProp test: %.2f\" % (prop_train.mean(), prop_test.mean()))  \n",
        "  print(\"\\nIsotonic Calibration\")\n",
        "  print(\"\\tMean AUC: %1.3f(%1.3f) \\n\\tMean log_loss: %1.3f(%1.3f)\\n\\tMean Brier: %1.3f(%1.3f) \\n\\tMean ECE: %1.3f(%1.3f)\" % (auc_iso.mean(),auc_iso.std(),\n",
        "                                                                                                                           logloss_iso.mean(),logloss_iso.std(),\n",
        "                                                                                                                           brier_iso.mean(),brier_iso.std(),\n",
        "                                                                                                                           ece_iso.mean(),ece_iso.std()) )\n",
        "  print(\"\\nSigmoid Calibration\")\n",
        "  print(\"\\tMean AUC: %1.3f(%1.3f) \\n\\tMean log_loss: %1.3f(%1.3f)\\n\\tMean Brier: %1.3f(%1.3f) \\n\\tMean ECE: %1.3f(%1.3f)\" % (auc_sig.mean(),auc_sig.std(),\n",
        "                                                                                                                           logloss_sig.mean(),logloss_sig.std(),\n",
        "                                                                                                                           brier_sig.mean(),brier_sig.std(),\n",
        "                                                                                                                           ece_sig.mean(),ece_sig.std()) )"
      ],
      "execution_count": null,
      "outputs": []
    },
    {
      "cell_type": "code",
      "metadata": {
        "id": "Du7Ho4ZZPWoo"
      },
      "source": [
        "clf_GB = Model_GB.fit(X_train, y_train)\n",
        "\n",
        "y_pred_GB = clf_GB.predict(X_test)\n",
        "proba_GB_uncalibrated = clf_GB.predict_proba(X_test)"
      ],
      "execution_count": null,
      "outputs": []
    },
    {
      "cell_type": "code",
      "metadata": {
        "id": "RGa3tdm_s6xi"
      },
      "source": [
        "print(\"\\tscore: %1.3f\" % clf_GB.score(X_test, y_test))\n",
        "print(\"\\tF1: %1.3f\" % f1_score(y_test, y_pred_GB))\n",
        "print(\"\\tPrecision: %1.3f\" % precision_score(y_test, y_pred_GB))\n",
        "print(\"\\tRecall: %1.3f\" % recall_score(y_test, y_pred_GB))\n",
        "print(\"\\tbal_acc: %1.3f\" % balanced_accuracy_score(y_test, y_pred_GB))\n",
        "print(\"\\tauc: %1.3f\" % roc_auc_score(y_test, proba_GB_uncalibrated[:,1]))\n",
        "print(\"\\tlog_loss: %1.3f\" % log_loss(y_test, proba_GB_uncalibrated))\n",
        "print(\"\\tBrier: %1.3f\" % brier_score_loss(y_test, proba_GB_uncalibrated[:,1]))"
      ],
      "execution_count": null,
      "outputs": []
    },
    {
      "cell_type": "markdown",
      "metadata": {
        "id": "1enfNxWk7vns"
      },
      "source": [
        "## Reliability plots"
      ]
    },
    {
      "cell_type": "code",
      "metadata": {
        "id": "Yh_yO0eXs6xj"
      },
      "source": [
        "reliability(\"Grandient Boosting\",y_test, proba_GB_uncalibrated, 10, 'quantile')"
      ],
      "execution_count": null,
      "outputs": []
    },
    {
      "cell_type": "code",
      "metadata": {
        "id": "sxtADtpds6xk"
      },
      "source": [
        "# first column is the average predicted probability, second is the empirical probability, and last the number of observations\n",
        "# pd.concat([pd.DataFrame(rd['pred_probs']),pd.DataFrame(rd['emp_probs']),pd.DataFrame(rd['bin_counts'])], axis=1, join=\"inner\")"
      ],
      "execution_count": null,
      "outputs": []
    },
    {
      "cell_type": "markdown",
      "metadata": {
        "id": "t5O8OINf7nkW"
      },
      "source": [
        "## Isotonic\n"
      ]
    },
    {
      "cell_type": "code",
      "metadata": {
        "id": "V4bks4Kfznu3"
      },
      "source": [
        "# Fit model with best parameters\n",
        "Model_GB_cali = GradientBoostingClassifier(random_state=42)\n",
        "Model_GB_cali.set_params(**best_params_GB)"
      ],
      "execution_count": null,
      "outputs": []
    },
    {
      "cell_type": "code",
      "metadata": {
        "id": "vGeF4lPuznvC"
      },
      "source": [
        "# Calibrated with Isotonic Calibration \n",
        "\n",
        "# Using CV from calibration - with oversampled train data\n",
        "clf_GB_iso = CalibratedClassifierCV(base_estimator=Model_GB_cali, cv=4, method='isotonic')\n",
        "clf_GB_iso.fit(X_train, y_train)\n",
        "\n",
        "###############################################\n",
        "y_pred_GB_iso = clf_GB_iso.predict(X_test)\n",
        "proba_GB_iso = clf_GB_iso.predict_proba(X_test)"
      ],
      "execution_count": null,
      "outputs": []
    },
    {
      "cell_type": "code",
      "metadata": {
        "id": "7ZGkv9ngznvD"
      },
      "source": [
        "print(\"\\tscore: %1.3f\" % clf_GB_iso.score(X_test, y_test))\n",
        "print(\"\\tF1: %1.3f\" % f1_score(y_test, y_pred_GB_iso))\n",
        "print(\"\\tPrecision: %1.3f\" % precision_score(y_test, y_pred_GB_iso))\n",
        "print(\"\\tRecall: %1.3f\" % recall_score(y_test, y_pred_GB_iso))\n",
        "print(\"\\tbal_acc: %1.3f\" % balanced_accuracy_score(y_test, y_pred_GB_iso))\n",
        "print(\"\\tauc: %1.3f\" % roc_auc_score(y_test, proba_GB_iso[:,1]))\n",
        "print(\"\\tlog_loss: %1.3f\" % log_loss(y_test, proba_GB_iso))\n",
        "print(\"\\tBrier: %1.3f\" % brier_score_loss(y_test, proba_GB_iso[:,1]))"
      ],
      "execution_count": null,
      "outputs": []
    },
    {
      "cell_type": "code",
      "metadata": {
        "id": "JL8xsd9nznvE"
      },
      "source": [
        "reliability(\"Gradient Boosting\",y_test, proba_GB_iso, 10, 'quantile')"
      ],
      "execution_count": null,
      "outputs": []
    },
    {
      "cell_type": "code",
      "metadata": {
        "id": "WP3Ww_rNznvE"
      },
      "source": [
        "# first column is the average predicted probability, second is the empirical, and last the number of observations\n",
        "# pd.concat([pd.DataFrame(rd['pred_probs']),pd.DataFrame(rd['emp_probs']),pd.DataFrame(rd['bin_counts'])], axis=1, join=\"inner\")"
      ],
      "execution_count": null,
      "outputs": []
    },
    {
      "cell_type": "markdown",
      "metadata": {
        "id": "-86tJDmXjBlX"
      },
      "source": [
        "## Platt Scaling\n"
      ]
    },
    {
      "cell_type": "code",
      "metadata": {
        "id": "yrTICJWMjDyZ"
      },
      "source": [
        "# Calibrated with Sigmnoid Calibration \n",
        "\n",
        "# Using CV from calibration - with train data\n",
        "clf_GB_sigmoid = CalibratedClassifierCV(base_estimator=Model_GB_cali, cv=4, method='sigmoid')\n",
        "clf_GB_sigmoid.fit(X_train, y_train)\n",
        "\n",
        "###############################################\n",
        "y_pred_GB_sigmoid = clf_GB_sigmoid.predict(X_test)\n",
        "proba_GB_sigmoid = clf_GB_sigmoid.predict_proba(X_test)"
      ],
      "execution_count": null,
      "outputs": []
    },
    {
      "cell_type": "code",
      "metadata": {
        "id": "a963ZKqPjD2E"
      },
      "source": [
        "print(\"\\tscore: %1.3f\" % clf_GB_sigmoid.score(X_test, y_test))\n",
        "print(\"\\tF1: %1.3f\" % f1_score(y_test, y_pred_GB_sigmoid))\n",
        "print(\"\\tPrecision: %1.3f\" % precision_score(y_test, y_pred_GB_sigmoid))\n",
        "print(\"\\tRecall: %1.3f\" % recall_score(y_test, y_pred_GB_sigmoid))\n",
        "print(\"\\tbal_acc: %1.3f\" % balanced_accuracy_score(y_test, y_pred_GB_sigmoid))\n",
        "print(\"\\tauc: %1.3f\" % roc_auc_score(y_test, proba_GB_sigmoid[:,1]))\n",
        "print(\"\\tlog_loss: %1.3f\" % log_loss(y_test, proba_GB_sigmoid))\n",
        "print(\"\\tBrier: %1.3f\" % brier_score_loss(y_test, proba_GB_sigmoid[:,1]))"
      ],
      "execution_count": null,
      "outputs": []
    },
    {
      "cell_type": "code",
      "metadata": {
        "id": "0MfOFY0akiad"
      },
      "source": [
        "reliability(\"GB Calibrated (training)\", y_train, clf_GB_sigmoid.predict_proba(X_train), 10, 'quantile')"
      ],
      "execution_count": null,
      "outputs": []
    },
    {
      "cell_type": "code",
      "metadata": {
        "id": "m2-pkLWxkiy9"
      },
      "source": [
        "reliability(\"GB uncalibrated\", y_test, proba_GB_uncalibrated, 10, 'quantile')"
      ],
      "execution_count": null,
      "outputs": []
    },
    {
      "cell_type": "code",
      "metadata": {
        "id": "gAB3cj7Ok_0P"
      },
      "source": [
        "reliability(\"GB Calibrated Isotonic\", y_test, proba_GB_iso, 10,'quantile')"
      ],
      "execution_count": null,
      "outputs": []
    },
    {
      "cell_type": "code",
      "metadata": {
        "id": "7g63-nhFjD6Q"
      },
      "source": [
        "reliability(\"GB Calibrated Sigmoid\", y_test, proba_GB_sigmoid, 10, 'quantile')"
      ],
      "execution_count": null,
      "outputs": []
    },
    {
      "cell_type": "markdown",
      "metadata": {
        "id": "y9lqLPL4y7Wa"
      },
      "source": [
        "# AdaBoost"
      ]
    },
    {
      "cell_type": "markdown",
      "metadata": {
        "id": "8MjWAE8V7xpW"
      },
      "source": [
        "## GridSearch CV"
      ]
    },
    {
      "cell_type": "code",
      "metadata": {
        "id": "CFqBLcUL5G7O"
      },
      "source": [
        "# p_grid = {  \n",
        "#     'n_estimators': [int(x) for x in np.linspace(start = 100, stop = 2000, num = 15)],\n",
        "#     'learning_rate':[1, 0.5, 0.25, 0.1, 0.05, 0.01]\n",
        "#     }\n",
        "\n",
        "# cv = GroupKFold(n_splits=4)\n",
        "\n",
        "# Model_Ada = AdaBoostClassifier(random_state=42)\n",
        "\n",
        "# clf_Ada = RandomizedSearchCV(estimator = Model_Ada, param_distributions = p_grid, n_iter = 100, cv = cv, scoring = 'brier_score_loss', verbose=2, random_state=42, n_jobs = -1)\n",
        "# clf_Ada.fit(X_train, y_train, groups_X_train)\n",
        "\n",
        "# print(clf_Ada.best_score_)\n",
        "# print(clf_Ada.best_params_)"
      ],
      "execution_count": null,
      "outputs": []
    },
    {
      "cell_type": "code",
      "metadata": {
        "id": "JC4i8-b4s_OU"
      },
      "source": [
        "best_para_ada = {'n_estimators': 100, 'learning_rate': 0.01}\n",
        "# best_para_ada = clf_Ada.best_params_"
      ],
      "execution_count": null,
      "outputs": []
    },
    {
      "cell_type": "code",
      "metadata": {
        "colab": {
          "base_uri": "https://localhost:8080/"
        },
        "id": "8ZXHcNR75HOQ",
        "outputId": "ca5272a6-fea8-4fe9-90b6-980ddacfda68"
      },
      "source": [
        "# Fit model with best parameters\n",
        "Model_Ada_refit = AdaBoostClassifier(random_state=42)\n",
        "Model_Ada_refit.set_params(**best_para_ada)"
      ],
      "execution_count": null,
      "outputs": [
        {
          "output_type": "execute_result",
          "data": {
            "text/plain": [
              "AdaBoostClassifier(algorithm='SAMME.R', base_estimator=None, learning_rate=0.01,\n",
              "                   n_estimators=100, random_state=42)"
            ]
          },
          "metadata": {
            "tags": []
          },
          "execution_count": 47
        }
      ]
    },
    {
      "cell_type": "code",
      "metadata": {
        "id": "vJkIY6_7jf17"
      },
      "source": [
        "auc_ada,logloss_ada,brier_ada,ece_ada,prop_train,prop_test,auc_iso_ada,logloss_iso_ada,brier_iso_ada,ece_iso_ada,auc_sig_ada,logloss_sig_ada,brier_sig_ada,ece_sig_ada = iterate_models(Model_Ada_refit,100,0.2)"
      ],
      "execution_count": null,
      "outputs": []
    },
    {
      "cell_type": "code",
      "metadata": {
        "colab": {
          "base_uri": "https://localhost:8080/"
        },
        "id": "sOOlV3pxltug",
        "outputId": "f0520395-c2ad-4262-deaf-efa148ae4c0d"
      },
      "source": [
        "# np.mean(auc_ada)\n",
        "auc_ada"
      ],
      "execution_count": null,
      "outputs": [
        {
          "output_type": "execute_result",
          "data": {
            "text/plain": [
              "array([0.6316361 , 0.66607763, 0.74116821, 0.64682895, 0.6153808 ,\n",
              "       0.63583112, 0.60101756, 0.60981781, 0.6275652 , 0.62007266,\n",
              "       0.56290541, 0.7555641 , 0.64953456, 0.71506215, 0.60082849,\n",
              "       0.67329545, 0.71048268, 0.66572398, 0.62278337, 0.66294171,\n",
              "       0.55151908, 0.68791667, 0.75826972, 0.59352774, 0.60853678,\n",
              "       0.63321789, 0.63313802, 0.59767662, 0.65168773, 0.59811098,\n",
              "       0.70542124, 0.62326416, 0.60899394, 0.61898396, 0.62442283,\n",
              "       0.60643179, 0.56829151, 0.64700346, 0.56448718, 0.62587246,\n",
              "       0.52921671, 0.63829787, 0.64794847, 0.6240432 , 0.70163951,\n",
              "       0.59935153, 0.60467073, 0.58067292, 0.64086673, 0.66825157,\n",
              "       0.71904509, 0.57171047, 0.62036943, 0.70149597, 0.62015993,\n",
              "       0.69298084, 0.71537627, 0.59833993, 0.65371448, 0.5447103 ,\n",
              "       0.67363865, 0.57149123, 0.60888278, 0.57995975, 0.57087071,\n",
              "       0.61430446, 0.68688218, 0.61337964, 0.64926522, 0.46517918,\n",
              "       0.64297245, 0.6355    , 0.67407016, 0.6633658 , 0.56055758,\n",
              "       0.68202873, 0.59780532, 0.65805048, 0.60276149, 0.62348715,\n",
              "       0.50578656, 0.61967815, 0.61904166, 0.55115995, 0.60193295,\n",
              "       0.60516465, 0.61486486, 0.57865639, 0.63278689, 0.60135708,\n",
              "       0.51222916, 0.61617434, 0.63507748, 0.63926509, 0.66271503,\n",
              "       0.66747594, 0.63191313, 0.65606061, 0.63313609, 0.70098895])"
            ]
          },
          "metadata": {
            "tags": []
          },
          "execution_count": 49
        }
      ]
    },
    {
      "cell_type": "code",
      "metadata": {
        "colab": {
          "base_uri": "https://localhost:8080/"
        },
        "id": "7zWXE5VqOEwx",
        "outputId": "6edeed94-fdfe-4c13-beb5-56717047319e"
      },
      "source": [
        "auc_iso_ada"
      ],
      "execution_count": null,
      "outputs": [
        {
          "output_type": "execute_result",
          "data": {
            "text/plain": [
              "array([0.65415058, 0.70216394, 0.72779506, 0.64986559, 0.6556201 ,\n",
              "       0.6331786 , 0.5915004 , 0.60634278, 0.63989764, 0.63633061,\n",
              "       0.58740991, 0.72066667, 0.66198752, 0.73084725, 0.63268993,\n",
              "       0.69211648, 0.71161109, 0.67027458, 0.62739396, 0.68689218,\n",
              "       0.55667098, 0.70019231, 0.75330378, 0.59803224, 0.63514318,\n",
              "       0.64239538, 0.6266276 , 0.6185633 , 0.65595257, 0.61062574,\n",
              "       0.70998098, 0.63096167, 0.61898182, 0.61868687, 0.63137342,\n",
              "       0.62380973, 0.58778958, 0.65222539, 0.56378205, 0.6247224 ,\n",
              "       0.52958225, 0.65920763, 0.67014424, 0.63597043, 0.7195298 ,\n",
              "       0.61181281, 0.63440673, 0.57981249, 0.65605778, 0.69793711,\n",
              "       0.69596817, 0.57444271, 0.61619433, 0.70659762, 0.62352694,\n",
              "       0.70419584, 0.70712237, 0.59501429, 0.66389935, 0.5301976 ,\n",
              "       0.68332012, 0.58722222, 0.63247863, 0.62642045, 0.58073879,\n",
              "       0.61183727, 0.7013759 , 0.62068861, 0.6694221 , 0.48751755,\n",
              "       0.64844617, 0.60089474, 0.64747488, 0.67104978, 0.56094545,\n",
              "       0.68346526, 0.62937047, 0.69437192, 0.60361681, 0.6171318 ,\n",
              "       0.50893971, 0.61942405, 0.62805743, 0.58412698, 0.6448807 ,\n",
              "       0.6159138 , 0.61524407, 0.59957   , 0.6371357 , 0.62324656,\n",
              "       0.50356225, 0.64434013, 0.57972154, 0.66409449, 0.6942904 ,\n",
              "       0.6656495 , 0.65312723, 0.67363215, 0.63058559, 0.7109075 ])"
            ]
          },
          "metadata": {
            "tags": []
          },
          "execution_count": 50
        }
      ]
    },
    {
      "cell_type": "code",
      "metadata": {
        "colab": {
          "base_uri": "https://localhost:8080/"
        },
        "id": "2JMfPmdaOEz0",
        "outputId": "08037766-f625-4e4d-fb10-7261849b2a47"
      },
      "source": [
        "auc_sig_ada"
      ],
      "execution_count": null,
      "outputs": [
        {
          "output_type": "execute_result",
          "data": {
            "text/plain": [
              "array([0.65120656, 0.70017981, 0.74616118, 0.65447033, 0.6361831 ,\n",
              "       0.64030725, 0.61438547, 0.58383941, 0.6463807 , 0.6373297 ,\n",
              "       0.58193694, 0.74530769, 0.65569915, 0.73636033, 0.61794906,\n",
              "       0.69155421, 0.73008014, 0.68269231, 0.6414385 , 0.68495923,\n",
              "       0.5549635 , 0.69913462, 0.74714766, 0.63100996, 0.64569913,\n",
              "       0.64683983, 0.64485677, 0.62102892, 0.68146357, 0.60847107,\n",
              "       0.70720633, 0.62269205, 0.60700606, 0.61388394, 0.60924452,\n",
              "       0.61894044, 0.56925676, 0.64172081, 0.57291667, 0.65367227,\n",
              "       0.52749347, 0.66307354, 0.64591794, 0.61460627, 0.73437822,\n",
              "       0.61091754, 0.63669858, 0.58082127, 0.67665424, 0.6841761 ,\n",
              "       0.70676393, 0.55896001, 0.60323887, 0.69884925, 0.62450898,\n",
              "       0.67863394, 0.70123227, 0.63297054, 0.65123245, 0.53855171,\n",
              "       0.68636003, 0.55491228, 0.63910256, 0.61467211, 0.58287599,\n",
              "       0.60351706, 0.71106065, 0.61951072, 0.65705987, 0.48798565,\n",
              "       0.64473817, 0.61255263, 0.65730213, 0.67245671, 0.56036364,\n",
              "       0.67971269, 0.61786397, 0.69590949, 0.58960573, 0.62450953,\n",
              "       0.49885655, 0.6133258 , 0.63323316, 0.56703297, 0.64025974,\n",
              "       0.63354241, 0.59387066, 0.58527392, 0.6367714 , 0.59881255,\n",
              "       0.50976864, 0.6108694 , 0.62569055, 0.66322835, 0.6921684 ,\n",
              "       0.66244209, 0.65211844, 0.68510101, 0.65652418, 0.7216114 ])"
            ]
          },
          "metadata": {
            "tags": []
          },
          "execution_count": 51
        }
      ]
    },
    {
      "cell_type": "code",
      "metadata": {
        "id": "6OCGwDB6QEmN"
      },
      "source": [
        "for size in [0.2,0.3,0.5,0.8]:\n",
        "  auc,logloss,brier,ece,prop_train,prop_test,auc_iso,logloss_iso,brier_iso,ece_iso,auc_sig,logloss_sig,brier_sig,ece_sig = iterate_models(Model_Ada_refit,1000,size)\n",
        "  print('*'*70)\n",
        "\n",
        "  print(\"\\tTest Set Size: %.2f\\n\\tMean AUC: %1.3f(%1.3f) \\n\\tMean log_loss: %1.3f(%1.3f)\\n\\tMean Brier: %1.3f(%1.3f) \\n\\tMean ECE: %1.3f(%1.3f)\" % (size,\n",
        "                                                                                                                           auc.mean(),auc.std(),\n",
        "                                                                                                                           logloss.mean(),logloss.std(),\n",
        "                                                                                                                           brier.mean(),brier.std(),\n",
        "                                                                                                                           ece.mean(),ece.std()) )\n",
        "  print(\"\\n\")\n",
        "  print(\"\\tAUC(min): %1.3f      \\tAUC(max): %1.3f\"    % (auc.min(),auc.max()))\n",
        "  print(\"\\tlog_loss(min): %1.3f  \\tlog_loss(max): %1.3f\" % (logloss.min(),logloss.max()))\n",
        "  print(\"\\tBrier(min): %1.3f    \\tBrier(max): %1.3f\"   % (brier.min(),brier.max()))\n",
        "  print(\"\\tECE(min): %1.3f       \\tECE(max): %1.3f\"      % (ece.min(),ece.max()))\n",
        "  print(\"\\tProp train: %.2f \\tProp test: %.2f\" % (prop_train.mean(), prop_test.mean()))  \n",
        "  print(\"\\nIsotonic Calibration\")\n",
        "  print(\"\\tMean AUC: %1.3f(%1.3f) \\n\\tMean log_loss: %1.3f(%1.3f)\\n\\tMean Brier: %1.3f(%1.3f) \\n\\tMean ECE: %1.3f(%1.3f)\" % (auc_iso.mean(),auc_iso.std(),\n",
        "                                                                                                                           logloss_iso.mean(),logloss_iso.std(),\n",
        "                                                                                                                           brier_iso.mean(),brier_iso.std(),\n",
        "                                                                                                                           ece_iso.mean(),ece_iso.std()) )\n",
        "  print(\"\\nSigmoid Calibration\")\n",
        "  print(\"\\tMean AUC: %1.3f(%1.3f) \\n\\tMean log_loss: %1.3f(%1.3f)\\n\\tMean Brier: %1.3f(%1.3f) \\n\\tMean ECE: %1.3f(%1.3f)\" % (auc_sig.mean(),auc_sig.std(),\n",
        "                                                                                                                           logloss_sig.mean(),logloss_sig.std(),\n",
        "                                                                                                                           brier_sig.mean(),brier_sig.std(),\n",
        "                                                                                                                           ece_sig.mean(),ece_sig.std()) )"
      ],
      "execution_count": null,
      "outputs": []
    },
    {
      "cell_type": "code",
      "metadata": {
        "id": "UT2jiwnDQE4z"
      },
      "source": [
        "clf_Ada_refit = Model_Ada_refit.fit(X_train, y_train)\n",
        "\n",
        "y_pred_Ada_refit = clf_Ada_refit.predict(X_test)\n",
        "proba_Ada_uncalibrated_refit = clf_Ada_refit.predict_proba(X_test)"
      ],
      "execution_count": null,
      "outputs": []
    },
    {
      "cell_type": "code",
      "metadata": {
        "id": "OO5v2w7CtK9h"
      },
      "source": [
        "print(\"\\tscore: %1.3f\" % clf_Ada_refit.score(X_test, y_test))\n",
        "print(\"\\tF1: %1.3f\" % f1_score(y_test, y_pred_Ada_refit))\n",
        "print(\"\\tPrecision: %1.3f\" % precision_score(y_test, y_pred_Ada_refit))\n",
        "print(\"\\tRecall: %1.3f\" % recall_score(y_test, y_pred_Ada_refit))\n",
        "print(\"\\tbal_acc: %1.3f\" % balanced_accuracy_score(y_test, y_pred_Ada_refit))\n",
        "print(\"\\tauc: %1.3f\" % roc_auc_score(y_test, proba_Ada_uncalibrated_refit[:,1]))\n",
        "print(\"\\tlog_loss: %1.3f\" % log_loss(y_test, proba_Ada_uncalibrated_refit))\n",
        "print(\"\\tBrier: %1.3f\" % brier_score_loss(y_test, proba_Ada_uncalibrated_refit[:,1]))"
      ],
      "execution_count": null,
      "outputs": []
    },
    {
      "cell_type": "code",
      "metadata": {
        "id": "4qWhIjU9t-jr"
      },
      "source": [
        "reliability(\"ADA\",y_test, proba_Ada_uncalibrated_refit, 10, 'quantile')"
      ],
      "execution_count": null,
      "outputs": []
    },
    {
      "cell_type": "markdown",
      "metadata": {
        "id": "rVmc1IZ071ja"
      },
      "source": [
        "## Isotonic"
      ]
    },
    {
      "cell_type": "code",
      "metadata": {
        "id": "kDW84bSx7O7d"
      },
      "source": [
        "# Fit model with best parameters\n",
        "Model_Ada_cali = AdaBoostClassifier(random_state=42)\n",
        "Model_Ada_cali.set_params(**best_para_ada)"
      ],
      "execution_count": null,
      "outputs": []
    },
    {
      "cell_type": "code",
      "metadata": {
        "id": "VA05gepg7O7s"
      },
      "source": [
        "# Calibrated with Isotonic Calibration \n",
        "clf_Ada_iso = CalibratedClassifierCV(base_estimator=Model_Ada_cali, cv=4, method='isotonic')\n",
        "\n",
        "clf_Ada_iso.fit(X_train, y_train)\n",
        "\n",
        "y_pred_Ada_iso = clf_Ada_iso.predict(X_test)\n",
        "proba_Ada_iso = clf_Ada_iso.predict_proba(X_test)"
      ],
      "execution_count": null,
      "outputs": []
    },
    {
      "cell_type": "code",
      "metadata": {
        "id": "1C_4rOJp7O7t"
      },
      "source": [
        "print(\"\\tscore: %1.3f\" % clf_Ada_iso.score(X_test, y_test))\n",
        "print(\"\\tF1: %1.3f\" % f1_score(y_test, y_pred_Ada_iso))\n",
        "print(\"\\tPrecision: %1.3f\" % precision_score(y_test, y_pred_Ada_iso))\n",
        "print(\"\\tRecall: %1.3f\" % recall_score(y_test, y_pred_Ada_iso))\n",
        "print(\"\\tbal_acc: %1.3f\" % balanced_accuracy_score(y_test, y_pred_Ada_iso))\n",
        "print(\"\\tauc: %1.3f\" % roc_auc_score(y_test, proba_Ada_iso[:,1]))\n",
        "print(\"\\tlog_loss: %1.3f\" % log_loss(y_test, proba_Ada_iso))\n",
        "print(\"\\tBrier: %1.3f\" % brier_score_loss(y_test, proba_Ada_iso[:,1]))"
      ],
      "execution_count": null,
      "outputs": []
    },
    {
      "cell_type": "code",
      "metadata": {
        "id": "GTn0GB-Ztzbb"
      },
      "source": [
        "reliability(\"ADA Calibrated (training)\", y_train, clf_Ada_iso.predict_proba(X_train), 10,'quantile')"
      ],
      "execution_count": null,
      "outputs": []
    },
    {
      "cell_type": "code",
      "metadata": {
        "id": "s7ye9Bc0vcQf"
      },
      "source": [
        "reliability(\"ADA (Isotonic)\",y_test, proba_Ada_iso, 10, 'quantile')"
      ],
      "execution_count": null,
      "outputs": []
    },
    {
      "cell_type": "markdown",
      "metadata": {
        "id": "v1nUAi9x8BLC"
      },
      "source": [
        "## Platt"
      ]
    },
    {
      "cell_type": "code",
      "metadata": {
        "id": "jOSToQJ78EgO"
      },
      "source": [
        "# Calibrated with sigmoid calibration\n",
        "clf_Ada_sigmoid = CalibratedClassifierCV(base_estimator=Model_Ada_cali, cv=4, method='sigmoid')\n",
        "\n",
        "clf_Ada_sigmoid.fit(X_train, y_train)\n",
        "\n",
        "y_pred_Ada_sigmoid = clf_Ada_sigmoid.predict(X_test)\n",
        "proba_Ada_sigmoid = clf_Ada_sigmoid.predict_proba(X_test)"
      ],
      "execution_count": null,
      "outputs": []
    },
    {
      "cell_type": "code",
      "metadata": {
        "id": "eC-4BVX98EgP"
      },
      "source": [
        "print(\"\\tscore: %1.3f\" % clf_Ada_sigmoid.score(X_test, y_test))\n",
        "print(\"\\tF1: %1.3f\" % f1_score(y_test, y_pred_Ada_sigmoid))\n",
        "print(\"\\tPrecision: %1.3f\" % precision_score(y_test, y_pred_Ada_sigmoid))\n",
        "print(\"\\tRecall: %1.3f\" % recall_score(y_test, y_pred_Ada_sigmoid))\n",
        "print(\"\\tbal_acc: %1.3f\" % balanced_accuracy_score(y_test, y_pred_Ada_sigmoid))\n",
        "print(\"\\tauc: %1.3f\" % roc_auc_score(y_test, proba_Ada_sigmoid[:,1]))\n",
        "print(\"\\tlog_loss: %1.3f\" % log_loss(y_test, proba_Ada_sigmoid))\n",
        "print(\"\\tBrier: %1.3f\" % brier_score_loss(y_test, proba_Ada_sigmoid[:,1]))"
      ],
      "execution_count": null,
      "outputs": []
    },
    {
      "cell_type": "code",
      "metadata": {
        "id": "Us_qIDvfuKS2"
      },
      "source": [
        "reliability(\"ADA Calibrated Platt (training)\",y_train, clf_Ada_sigmoid.predict_proba(X_train), 10,'quantile')"
      ],
      "execution_count": null,
      "outputs": []
    },
    {
      "cell_type": "code",
      "metadata": {
        "id": "ewJbPzqvv1GC"
      },
      "source": [
        "reliability(\"ADA (Platt)\", y_test, proba_Ada_sigmoid, 10)"
      ],
      "execution_count": null,
      "outputs": []
    },
    {
      "cell_type": "markdown",
      "metadata": {
        "id": "-h6KiRvz9F-F"
      },
      "source": [
        "# Non-linear SVM"
      ]
    },
    {
      "cell_type": "markdown",
      "metadata": {
        "id": "PnkFmGF_QoOI"
      },
      "source": [
        "## Normal"
      ]
    },
    {
      "cell_type": "markdown",
      "metadata": {
        "id": "KuwCH2YmxrQ3"
      },
      "source": [
        "###tuning svm"
      ]
    },
    {
      "cell_type": "code",
      "metadata": {
        "id": "1sDfNbHPx05W"
      },
      "source": [
        "p_grid = {\n",
        "            'nu': [0.1, 0.25, 0.5, 1.0, ],\n",
        "            'kernel': ['linear', 'rbf', 'sigmoid',],\n",
        "            'gamma': ['auto', 'scale']\n",
        "         }\n",
        "\n",
        "cv = GroupKFold(n_splits=4)\n",
        "\n",
        "Model_NuSVM = NuSVC(random_state=42, probability=True)\n",
        "\n",
        "clf_NuSVM = RandomizedSearchCV(estimator = Model_NuSVM, param_distributions = p_grid, n_iter = 100, cv = cv, scoring = 'brier_score_loss', verbose=2, random_state=42, n_jobs = -1)\n",
        "\n",
        "clf_NuSVM.fit(X_train, y_train, groups_X_train)\n",
        "\n",
        "print(clf_NuSVM.best_score_)\n",
        "print(clf_NuSVM.best_params_)"
      ],
      "execution_count": null,
      "outputs": []
    },
    {
      "cell_type": "code",
      "metadata": {
        "id": "FMfhjtRmu30b"
      },
      "source": [
        "best_para_SVM = {'nu': 0.1, 'kernel': 'linear', 'gamma': 'auto'}\n",
        "# best_para_SVM = clf_NuSVM.best_params_"
      ],
      "execution_count": null,
      "outputs": []
    },
    {
      "cell_type": "code",
      "metadata": {
        "colab": {
          "base_uri": "https://localhost:8080/"
        },
        "id": "QRfUjoTVx05X",
        "outputId": "5a0631e3-26f7-4b3f-df6f-999ab8cc7fca"
      },
      "source": [
        "# Fit model with best parameters\n",
        "Model_NuSVM_refit = NuSVC(random_state=42, probability=True)\n",
        "Model_NuSVM_refit.set_params(**best_para_SVM)"
      ],
      "execution_count": null,
      "outputs": [
        {
          "output_type": "execute_result",
          "data": {
            "text/plain": [
              "NuSVC(break_ties=False, cache_size=200, class_weight=None, coef0=0.0,\n",
              "      decision_function_shape='ovr', degree=3, gamma='auto', kernel='linear',\n",
              "      max_iter=-1, nu=0.1, probability=True, random_state=42, shrinking=True,\n",
              "      tol=0.001, verbose=False)"
            ]
          },
          "metadata": {
            "tags": []
          },
          "execution_count": 41
        }
      ]
    },
    {
      "cell_type": "code",
      "metadata": {
        "id": "tSLDQbR3XNIG"
      },
      "source": [
        "auc_svm,logloss,brier,ece,prop_train,prop_test,auc_iso,logloss_iso,brier_iso,ece_iso,auc_sig,logloss_sig,brier_sig,ece_sig = iterate_models(Model_NuSVM_refit,100,0.2)"
      ],
      "execution_count": null,
      "outputs": []
    },
    {
      "cell_type": "code",
      "metadata": {
        "id": "MlFRt7sdONhY"
      },
      "source": [
        "auc_iso"
      ],
      "execution_count": null,
      "outputs": []
    },
    {
      "cell_type": "code",
      "metadata": {
        "id": "xK-M-IdgONqA"
      },
      "source": [
        "auc_sig"
      ],
      "execution_count": null,
      "outputs": []
    },
    {
      "cell_type": "code",
      "metadata": {
        "id": "J8W2v2pXONtl"
      },
      "source": [
        "auc_svm"
      ],
      "execution_count": null,
      "outputs": []
    },
    {
      "cell_type": "code",
      "metadata": {
        "id": "4l69MB6uQ8Jh",
        "colab": {
          "base_uri": "https://localhost:8080/",
          "height": 231
        },
        "outputId": "37944b8a-3646-4912-c07c-e69cb3b6025f"
      },
      "source": [
        "# %%timeit\n",
        "\n",
        "for size in [0.2,0.3,0.5,0.8]:\n",
        "  auc,logloss,brier,ece,prop_train,prop_test,auc_iso,logloss_iso,brier_iso,ece_iso,auc_sig,logloss_sig,brier_sig,ece_sig = iterate_models(Model_NuSVM_refit,10,size)\n",
        "  print('*'*70)\n",
        "\n",
        "  print(\"\\tTest Set Size: %.2f\\n\\tMean AUC: %1.3f(%1.3f) \\n\\tMean log_loss: %1.3f(%1.3f)\\n\\tMean Brier: %1.3f(%1.3f) \\n\\tMean ECE: %1.3f(%1.3f)\" % (size,\n",
        "                                                                                                                           auc.mean(),auc.std(),\n",
        "                                                                                                                           logloss.mean(),logloss.std(),\n",
        "                                                                                                                           brier.mean(),brier.std(),\n",
        "                                                                                                                           ece.mean(),ece.std()) )\n",
        "  print(\"\\n\")\n",
        "  print(\"\\tAUC(min): %1.3f      \\tAUC(max): %1.3f\"    % (auc.min(),auc.max()))\n",
        "  print(\"\\tlog_loss(min): %1.3f  \\tlog_loss(max): %1.3f\" % (logloss.min(),logloss.max()))\n",
        "  print(\"\\tBrier(min): %1.3f    \\tBrier(max): %1.3f\"   % (brier.min(),brier.max()))\n",
        "  print(\"\\tECE(min): %1.3f       \\tECE(max): %1.3f\"      % (ece.min(),ece.max()))\n",
        "  print(\"\\tProp train: %.2f \\tProp test: %.2f\" % (prop_train.mean(), prop_test.mean()))  \n",
        "  print(\"\\nIsotonic Calibration\")\n",
        "  print(\"\\tMean AUC: %1.3f(%1.3f) \\n\\tMean log_loss: %1.3f(%1.3f)\\n\\tMean Brier: %1.3f(%1.3f) \\n\\tMean ECE: %1.3f(%1.3f)\" % (auc_iso.mean(),auc_iso.std(),\n",
        "                                                                                                                           logloss_iso.mean(),logloss_iso.std(),\n",
        "                                                                                                                           brier_iso.mean(),brier_iso.std(),\n",
        "                                                                                                                           ece_iso.mean(),ece_iso.std()) )\n",
        "  print(\"\\nSigmoid Calibration\")\n",
        "  print(\"\\tMean AUC: %1.3f(%1.3f) \\n\\tMean log_loss: %1.3f(%1.3f)\\n\\tMean Brier: %1.3f(%1.3f) \\n\\tMean ECE: %1.3f(%1.3f)\" % (auc_sig.mean(),auc_sig.std(),\n",
        "                                                                                                                           logloss_sig.mean(),logloss_sig.std(),\n",
        "                                                                                                                           brier_sig.mean(),brier_sig.std(),\n",
        "                                                                                                                           ece_sig.mean(),ece_sig.std()) )"
      ],
      "execution_count": null,
      "outputs": [
        {
          "output_type": "error",
          "ename": "NameError",
          "evalue": "ignored",
          "traceback": [
            "\u001b[0;31m---------------------------------------------------------------------------\u001b[0m",
            "\u001b[0;31mNameError\u001b[0m                                 Traceback (most recent call last)",
            "\u001b[0;32m<ipython-input-1-7676c6cbdecc>\u001b[0m in \u001b[0;36m<module>\u001b[0;34m()\u001b[0m\n\u001b[1;32m      2\u001b[0m \u001b[0;34m\u001b[0m\u001b[0m\n\u001b[1;32m      3\u001b[0m \u001b[0;32mfor\u001b[0m \u001b[0msize\u001b[0m \u001b[0;32min\u001b[0m \u001b[0;34m[\u001b[0m\u001b[0;36m0.2\u001b[0m\u001b[0;34m,\u001b[0m\u001b[0;36m0.3\u001b[0m\u001b[0;34m,\u001b[0m\u001b[0;36m0.5\u001b[0m\u001b[0;34m,\u001b[0m\u001b[0;36m0.8\u001b[0m\u001b[0;34m]\u001b[0m\u001b[0;34m:\u001b[0m\u001b[0;34m\u001b[0m\u001b[0;34m\u001b[0m\u001b[0m\n\u001b[0;32m----> 4\u001b[0;31m   \u001b[0mauc\u001b[0m\u001b[0;34m,\u001b[0m\u001b[0mlogloss\u001b[0m\u001b[0;34m,\u001b[0m\u001b[0mbrier\u001b[0m\u001b[0;34m,\u001b[0m\u001b[0mece\u001b[0m\u001b[0;34m,\u001b[0m\u001b[0mprop_train\u001b[0m\u001b[0;34m,\u001b[0m\u001b[0mprop_test\u001b[0m\u001b[0;34m,\u001b[0m\u001b[0mauc_iso\u001b[0m\u001b[0;34m,\u001b[0m\u001b[0mlogloss_iso\u001b[0m\u001b[0;34m,\u001b[0m\u001b[0mbrier_iso\u001b[0m\u001b[0;34m,\u001b[0m\u001b[0mece_iso\u001b[0m\u001b[0;34m,\u001b[0m\u001b[0mauc_sig\u001b[0m\u001b[0;34m,\u001b[0m\u001b[0mlogloss_sig\u001b[0m\u001b[0;34m,\u001b[0m\u001b[0mbrier_sig\u001b[0m\u001b[0;34m,\u001b[0m\u001b[0mece_sig\u001b[0m \u001b[0;34m=\u001b[0m \u001b[0miterate_models\u001b[0m\u001b[0;34m(\u001b[0m\u001b[0mModel_NuSVM_refit\u001b[0m\u001b[0;34m,\u001b[0m\u001b[0;36m10\u001b[0m\u001b[0;34m,\u001b[0m\u001b[0msize\u001b[0m\u001b[0;34m)\u001b[0m\u001b[0;34m\u001b[0m\u001b[0;34m\u001b[0m\u001b[0m\n\u001b[0m\u001b[1;32m      5\u001b[0m   \u001b[0mprint\u001b[0m\u001b[0;34m(\u001b[0m\u001b[0;34m'*'\u001b[0m\u001b[0;34m*\u001b[0m\u001b[0;36m70\u001b[0m\u001b[0;34m)\u001b[0m\u001b[0;34m\u001b[0m\u001b[0;34m\u001b[0m\u001b[0m\n\u001b[1;32m      6\u001b[0m \u001b[0;34m\u001b[0m\u001b[0m\n",
            "\u001b[0;31mNameError\u001b[0m: name 'iterate_models' is not defined"
          ]
        }
      ]
    },
    {
      "cell_type": "code",
      "metadata": {
        "id": "K_AHA7CEQ6O5"
      },
      "source": [
        "clf_NuSVM_refit = Model_NuSVM_refit.fit(X_train, y_train)\n",
        "\n",
        "y_pred_NuSVM_refit = clf_NuSVM_refit.predict(X_test)\n",
        "proba_NuSVM_uncalibrated_refit = clf_NuSVM_refit.predict_proba(X_test)"
      ],
      "execution_count": null,
      "outputs": []
    },
    {
      "cell_type": "code",
      "metadata": {
        "id": "E2JUin3RvgMj"
      },
      "source": [
        "print(\"\\tscore: %1.3f\" % clf_NuSVM_refit.score(X_test, y_test))\n",
        "print(\"\\tF1: %1.3f\" % f1_score(y_test, y_pred_NuSVM_refit))\n",
        "print(\"\\tPrecision: %1.3f\" % precision_score(y_test, y_pred_NuSVM_refit))\n",
        "print(\"\\tRecall: %1.3f\" % recall_score(y_test, y_pred_NuSVM_refit))\n",
        "print(\"\\tbal_acc: %1.3f\" % balanced_accuracy_score(y_test, y_pred_NuSVM_refit))\n",
        "print(\"\\tauc: %1.3f\" % roc_auc_score(y_test, proba_NuSVM_uncalibrated_refit[:,1]))\n",
        "print(\"\\tlog_loss: %1.3f\" % log_loss(y_test, proba_NuSVM_uncalibrated_refit))\n",
        "print(\"\\tBrier: %1.3f\" % brier_score_loss(y_test, proba_NuSVM_uncalibrated_refit[:,1]))"
      ],
      "execution_count": null,
      "outputs": []
    },
    {
      "cell_type": "code",
      "metadata": {
        "id": "T0x7qSZBxvLY"
      },
      "source": [
        "reliability(\"NuSVM (tunned)\", y_test, proba_NuSVM_uncalibrated_refit, 10,'quantile')\n"
      ],
      "execution_count": null,
      "outputs": []
    },
    {
      "cell_type": "markdown",
      "metadata": {
        "id": "AyDtJEQT8cCv"
      },
      "source": [
        "### Isotonic"
      ]
    },
    {
      "cell_type": "code",
      "metadata": {
        "id": "CUD-HyBx8hWA"
      },
      "source": [
        "# Fit model with best parameters\n",
        "Model_NuSVM_cali = NuSVC(random_state=42, probability=True)\n",
        "Model_NuSVM_cali.set_params(**best_para_SVM)"
      ],
      "execution_count": null,
      "outputs": []
    },
    {
      "cell_type": "code",
      "metadata": {
        "id": "rOxaf4Sf-Xh2"
      },
      "source": [
        "# Calibrated with Isotonic Calibration \n",
        "clf_NuSVM_iso = CalibratedClassifierCV(base_estimator=Model_NuSVM_cali, cv=4, method='isotonic')\n",
        "\n",
        "clf_NuSVM_iso.fit(X_train, y_train)\n",
        "\n",
        "y_pred_NuSVM_iso = clf_NuSVM_iso.predict(X_test)\n",
        "proba_NuSVM_iso = clf_NuSVM_iso.predict_proba(X_test)"
      ],
      "execution_count": null,
      "outputs": []
    },
    {
      "cell_type": "code",
      "metadata": {
        "id": "SOj8ZCi7-Xh2"
      },
      "source": [
        "Counter(y_pred_NuSVM_iso)"
      ],
      "execution_count": null,
      "outputs": []
    },
    {
      "cell_type": "code",
      "metadata": {
        "id": "r-gxf-mo-Xh3"
      },
      "source": [
        "print(\"\\tscore: %1.3f\" % clf_NuSVM_iso.score(X_test, y_test))\n",
        "print(\"\\tF1: %1.3f\" % f1_score(y_test, y_pred_NuSVM_iso))\n",
        "print(\"\\tPrecision: %1.3f\" % precision_score(y_test, y_pred_NuSVM_iso))\n",
        "print(\"\\tRecall: %1.3f\" % recall_score(y_test, y_pred_NuSVM_iso))\n",
        "print(\"\\tbal_acc: %1.3f\" % balanced_accuracy_score(y_test, y_pred_NuSVM_iso))\n",
        "print(\"\\tauc: %1.3f\" % roc_auc_score(y_test, proba_NuSVM_iso[:,1]))\n",
        "print(\"\\tlog_loss: %1.3f\" % log_loss(y_test, proba_NuSVM_iso))\n",
        "print(\"\\tBrier: %1.3f\" % brier_score_loss(y_test, proba_NuSVM_iso[:,1]))"
      ],
      "execution_count": null,
      "outputs": []
    },
    {
      "cell_type": "code",
      "metadata": {
        "id": "_DI3jE42v9S2"
      },
      "source": [
        "reliability(\"NuSVM Uncalibrated\", y_test, proba_NuSVM_uncalibrated_refit, 10,'quantile')"
      ],
      "execution_count": null,
      "outputs": []
    },
    {
      "cell_type": "code",
      "metadata": {
        "id": "C1G7iZ9EvxaT"
      },
      "source": [
        "reliability(\"SVM Calibrated Isotonic (training)\",y_train, clf_NuSVM_iso.predict_proba(X_train), 10, 'quantile')"
      ],
      "execution_count": null,
      "outputs": []
    },
    {
      "cell_type": "code",
      "metadata": {
        "id": "Ofcdt1FHwEBu"
      },
      "source": [
        "reliability(\"NuSVM Calibrated Isotonic\", y_test, proba_NuSVM_iso, 10, 'quantile')"
      ],
      "execution_count": null,
      "outputs": []
    },
    {
      "cell_type": "markdown",
      "metadata": {
        "id": "Kb0fuMZB9iIF"
      },
      "source": [
        "### Sigmoid (Platt)"
      ]
    },
    {
      "cell_type": "code",
      "metadata": {
        "id": "k95tOi3r-_dw"
      },
      "source": [
        "# Calibrated with sigmoid calibration\n",
        "clf_SVM_sigmoid = CalibratedClassifierCV(base_estimator=Model_NuSVM_cali, cv=4, method='sigmoid')\n",
        "\n",
        "clf_SVM_sigmoid.fit(X_train, y_train)\n",
        "\n",
        "y_pred_SVM_sigmoid = clf_SVM_sigmoid.predict(X_test)\n",
        "proba_SVM_sigmoid = clf_SVM_sigmoid.predict_proba(X_test)"
      ],
      "execution_count": null,
      "outputs": []
    },
    {
      "cell_type": "code",
      "metadata": {
        "id": "rmPQdXMX-_dw"
      },
      "source": [
        "print(\"\\tscore: %1.3f\" % clf_SVM_sigmoid.score(X_test, y_test))\n",
        "print(\"\\tF1: %1.3f\" % f1_score(y_test, y_pred_SVM_sigmoid))\n",
        "print(\"\\tPrecision: %1.3f\" % precision_score(y_test, y_pred_SVM_sigmoid))\n",
        "print(\"\\tRecall: %1.3f\" % recall_score(y_test, y_pred_SVM_sigmoid))\n",
        "print(\"\\tbal_acc: %1.3f\" % balanced_accuracy_score(y_test, y_pred_SVM_sigmoid))\n",
        "print(\"\\tauc: %1.3f\" % roc_auc_score(y_test, proba_SVM_sigmoid[:,1]))\n",
        "print(\"\\tlog_loss: %1.3f\" % log_loss(y_test, proba_SVM_sigmoid))\n",
        "print(\"\\tBrier: %1.3f\" % brier_score_loss(y_test, proba_SVM_sigmoid[:,1]))"
      ],
      "execution_count": null,
      "outputs": []
    },
    {
      "cell_type": "code",
      "metadata": {
        "id": "QkgClT2gwY46"
      },
      "source": [
        "reliability(\"NuSVM Uncalibrated\", y_test, proba_NuSVM_uncalibrated_refit, 10,'quantile')"
      ],
      "execution_count": null,
      "outputs": []
    },
    {
      "cell_type": "code",
      "metadata": {
        "id": "cgjvmwRKwY47"
      },
      "source": [
        "reliability(\"SVM Calibrated Platt (training)\", y_train, clf_SVM_sigmoid.predict_proba(X_train), 10,'quantile')"
      ],
      "execution_count": null,
      "outputs": []
    },
    {
      "cell_type": "code",
      "metadata": {
        "id": "6DEqj2uWwY48"
      },
      "source": [
        "reliability(\"NuSVM Calibrated Platt\", y_test, proba_SVM_sigmoid, 10,'quantile')"
      ],
      "execution_count": null,
      "outputs": []
    },
    {
      "cell_type": "markdown",
      "metadata": {
        "id": "Hz0cEDP-RPsQ"
      },
      "source": [
        "## weighted"
      ]
    },
    {
      "cell_type": "markdown",
      "metadata": {
        "id": "gtA4E5p2RPsQ"
      },
      "source": [
        "###tuning svm"
      ]
    },
    {
      "cell_type": "code",
      "metadata": {
        "id": "7pipk3QIRPsR"
      },
      "source": [
        "p_grid = {\n",
        "            'nu': [0.1, 0.25, 0.5, 1.0, ],\n",
        "            'kernel': ['linear', 'rbf', 'sigmoid',],\n",
        "            'gamma': ['auto', 'scale']\n",
        "         }\n",
        "\n",
        "cv = GroupKFold(n_splits=4)\n",
        "\n",
        "Model_NuSVM = NuSVC(random_state=42, probability=True, class_weight='balanced')\n",
        "\n",
        "clf_NuSVM = RandomizedSearchCV(estimator = Model_NuSVM, param_distributions = p_grid, n_iter = 100, cv = cv, scoring = 'brier_score_loss', verbose=2, random_state=42, n_jobs = -1)\n",
        "\n",
        "clf_NuSVM.fit(X_train, y_train, groups_X_train)\n",
        "\n",
        "print(clf_NuSVM.best_score_)\n",
        "print(clf_NuSVM.best_params_)"
      ],
      "execution_count": null,
      "outputs": []
    },
    {
      "cell_type": "code",
      "metadata": {
        "id": "WFQt1RJTRPsS"
      },
      "source": [
        "best_para_SVM = {'nu': 0.1, 'kernel': 'linear', 'gamma': 'auto'}\n",
        "\n",
        "\n",
        "# best_para_SVM = clf_NuSVM.best_params_"
      ],
      "execution_count": null,
      "outputs": []
    },
    {
      "cell_type": "code",
      "metadata": {
        "id": "okof9z0aRPsS"
      },
      "source": [
        "# Fit model with best parameters\n",
        "Model_NuSVM_refit = NuSVC(random_state=42, probability=True, class_weight='balanced')\n",
        "Model_NuSVM_refit.set_params(**best_para_SVM)"
      ],
      "execution_count": null,
      "outputs": []
    },
    {
      "cell_type": "code",
      "metadata": {
        "id": "CaP4CBxzhRsm"
      },
      "source": [
        "auc_svm,logloss,brier,ece,prop_train,prop_test,auc_iso,logloss_iso,brier_iso,ece_iso,auc_sig,logloss_sig,brier_sig,ece_sig = iterate_models(Model_NuSVM_refit,100,0.2)"
      ],
      "execution_count": null,
      "outputs": []
    },
    {
      "cell_type": "code",
      "metadata": {
        "id": "f62psN8ZhWNM"
      },
      "source": [
        "auc_svm"
      ],
      "execution_count": null,
      "outputs": []
    },
    {
      "cell_type": "code",
      "metadata": {
        "id": "c6VotcE3hWYP"
      },
      "source": [
        "auc_iso"
      ],
      "execution_count": null,
      "outputs": []
    },
    {
      "cell_type": "code",
      "metadata": {
        "id": "Fxi_2tThhWb6"
      },
      "source": [
        "auc_sig"
      ],
      "execution_count": null,
      "outputs": []
    },
    {
      "cell_type": "code",
      "metadata": {
        "id": "e5KGlNcVRPsS"
      },
      "source": [
        "for size in [0.2,0.3,0.5,0.8]:\n",
        "  auc,logloss,brier,ece,prop_train,prop_test,auc_iso,logloss_iso,brier_iso,ece_iso,auc_sig,logloss_sig,brier_sig,ece_sig = iterate_models(Model_NuSVM_refit,10,size)\n",
        "  print('*'*70)\n",
        "\n",
        "  print(\"\\tTest Set Size: %.2f\\n\\tMean AUC: %1.3f(%1.3f) \\n\\tMean log_loss: %1.3f(%1.3f)\\n\\tMean Brier: %1.3f(%1.3f) \\n\\tMean ECE: %1.3f(%1.3f)\" % (size,\n",
        "                                                                                                                           auc.mean(),auc.std(),\n",
        "                                                                                                                           logloss.mean(),logloss.std(),\n",
        "                                                                                                                           brier.mean(),brier.std(),\n",
        "                                                                                                                           ece.mean(),ece.std()) )\n",
        "  print(\"\\n\")\n",
        "  print(\"\\tAUC(min): %1.3f      \\tAUC(max): %1.3f\"    % (auc.min(),auc.max()))\n",
        "  print(\"\\tlog_loss(min): %1.3f  \\tlog_loss(max): %1.3f\" % (logloss.min(),logloss.max()))\n",
        "  print(\"\\tBrier(min): %1.3f    \\tBrier(max): %1.3f\"   % (brier.min(),brier.max()))\n",
        "  print(\"\\tECE(min): %1.3f       \\tECE(max): %1.3f\"      % (ece.min(),ece.max()))\n",
        "  print(\"\\tProp train: %.2f \\tProp test: %.2f\" % (prop_train.mean(), prop_test.mean()))  \n",
        "  print(\"\\nIsotonic Calibration\")\n",
        "  print(\"\\tMean AUC: %1.3f(%1.3f) \\n\\tMean log_loss: %1.3f(%1.3f)\\n\\tMean Brier: %1.3f(%1.3f) \\n\\tMean ECE: %1.3f(%1.3f)\" % (auc_iso.mean(),auc_iso.std(),\n",
        "                                                                                                                           logloss_iso.mean(),logloss_iso.std(),\n",
        "                                                                                                                           brier_iso.mean(),brier_iso.std(),\n",
        "                                                                                                                           ece_iso.mean(),ece_iso.std()) )\n",
        "  print(\"\\nSigmoid Calibration\")\n",
        "  print(\"\\tMean AUC: %1.3f(%1.3f) \\n\\tMean log_loss: %1.3f(%1.3f)\\n\\tMean Brier: %1.3f(%1.3f) \\n\\tMean ECE: %1.3f(%1.3f)\" % (auc_sig.mean(),auc_sig.std(),\n",
        "                                                                                                                           logloss_sig.mean(),logloss_sig.std(),\n",
        "                                                                                                                           brier_sig.mean(),brier_sig.std(),\n",
        "                                                                                                                           ece_sig.mean(),ece_sig.std()) )"
      ],
      "execution_count": null,
      "outputs": []
    },
    {
      "cell_type": "code",
      "metadata": {
        "id": "Yn7L49grRPsS"
      },
      "source": [
        "clf_NuSVM_refit = Model_NuSVM_refit.fit(X_train, y_train)\n",
        "\n",
        "y_pred_NuSVM_refit = clf_NuSVM_refit.predict(X_test)\n",
        "proba_NuSVM_uncalibrated_refit = clf_NuSVM_refit.predict_proba(X_test)"
      ],
      "execution_count": null,
      "outputs": []
    },
    {
      "cell_type": "code",
      "metadata": {
        "id": "6HZLZH9ERPsT"
      },
      "source": [
        "print(\"\\tscore: %1.3f\" % clf_NuSVM_refit.score(X_test, y_test))\n",
        "print(\"\\tF1: %1.3f\" % f1_score(y_test, y_pred_NuSVM_refit))\n",
        "print(\"\\tPrecision: %1.3f\" % precision_score(y_test, y_pred_NuSVM_refit))\n",
        "print(\"\\tRecall: %1.3f\" % recall_score(y_test, y_pred_NuSVM_refit))\n",
        "print(\"\\tbal_acc: %1.3f\" % balanced_accuracy_score(y_test, y_pred_NuSVM_refit))\n",
        "print(\"\\tauc: %1.3f\" % roc_auc_score(y_test, proba_NuSVM_uncalibrated_refit[:,1]))\n",
        "print(\"\\tlog_loss: %1.3f\" % log_loss(y_test, proba_NuSVM_uncalibrated_refit))\n",
        "print(\"\\tBrier: %1.3f\" % brier_score_loss(y_test, proba_NuSVM_uncalibrated_refit[:,1]))"
      ],
      "execution_count": null,
      "outputs": []
    },
    {
      "cell_type": "code",
      "metadata": {
        "id": "IuCc3Uc7RPsT"
      },
      "source": [
        "reliability(\"NuSVM (tunned)\", y_test, proba_NuSVM_uncalibrated_refit, 10)"
      ],
      "execution_count": null,
      "outputs": []
    },
    {
      "cell_type": "markdown",
      "metadata": {
        "id": "5XXJIQsaRPsU"
      },
      "source": [
        "### Isotonic"
      ]
    },
    {
      "cell_type": "code",
      "metadata": {
        "id": "FIR56gYVRPsU"
      },
      "source": [
        "# Fit model with best parameters\n",
        "Model_NuSVM_cali = NuSVC(random_state=42, probability=True)\n",
        "Model_NuSVM_cali.set_params(**best_para_SVM)"
      ],
      "execution_count": null,
      "outputs": []
    },
    {
      "cell_type": "code",
      "metadata": {
        "id": "Bh3fkB38RPsV"
      },
      "source": [
        "# Calibrated with Isotonic Calibration \n",
        "clf_NuSVM_iso = CalibratedClassifierCV(base_estimator=Model_NuSVM_cali, cv=4, method='isotonic')\n",
        "\n",
        "clf_NuSVM_iso.fit(X_train, y_train)\n",
        "\n",
        "y_pred_NuSVM_iso = clf_NuSVM_iso.predict(X_test)\n",
        "proba_NuSVM_iso = clf_NuSVM_iso.predict_proba(X_test)"
      ],
      "execution_count": null,
      "outputs": []
    },
    {
      "cell_type": "code",
      "metadata": {
        "id": "3ONtTQ1_RPsV"
      },
      "source": [
        "Counter(y_pred_NuSVM_iso)"
      ],
      "execution_count": null,
      "outputs": []
    },
    {
      "cell_type": "code",
      "metadata": {
        "id": "6O2xu0kURPsV"
      },
      "source": [
        "print(\"\\tscore: %1.3f\" % clf_NuSVM_iso.score(X_test, y_test))\n",
        "print(\"\\tF1: %1.3f\" % f1_score(y_test, y_pred_NuSVM_iso))\n",
        "print(\"\\tPrecision: %1.3f\" % precision_score(y_test, y_pred_NuSVM_iso))\n",
        "print(\"\\tRecall: %1.3f\" % recall_score(y_test, y_pred_NuSVM_iso))\n",
        "print(\"\\tbal_acc: %1.3f\" % balanced_accuracy_score(y_test, y_pred_NuSVM_iso))\n",
        "print(\"\\tauc: %1.3f\" % roc_auc_score(y_test, proba_NuSVM_iso[:,1]))\n",
        "print(\"\\tlog_loss: %1.3f\" % log_loss(y_test, proba_NuSVM_iso))\n",
        "print(\"\\tBrier: %1.3f\" % brier_score_loss(y_test, proba_NuSVM_iso[:,1]))"
      ],
      "execution_count": null,
      "outputs": []
    },
    {
      "cell_type": "code",
      "metadata": {
        "id": "7HK3iMNJRPsV"
      },
      "source": [
        "reliability(\"NuSVM Uncalibrated\", y_test, proba_NuSVM_uncalibrated_refit, 10)"
      ],
      "execution_count": null,
      "outputs": []
    },
    {
      "cell_type": "code",
      "metadata": {
        "id": "JwDHHMdwRPsW"
      },
      "source": [
        "reliability(\"SVM Calibrated Isotonic (training)\", y_train, clf_NuSVM_iso.predict_proba(X_train), 10)"
      ],
      "execution_count": null,
      "outputs": []
    },
    {
      "cell_type": "code",
      "metadata": {
        "id": "4_ZS1gMERPsW"
      },
      "source": [
        "reliability(\"NuSVM Calibrated Isotonic\", y_test, proba_NuSVM_iso, 10)"
      ],
      "execution_count": null,
      "outputs": []
    },
    {
      "cell_type": "markdown",
      "metadata": {
        "id": "sSFPvEGsRPsW"
      },
      "source": [
        "### Sigmoid (Platt)"
      ]
    },
    {
      "cell_type": "code",
      "metadata": {
        "id": "hspZaEibRPsX"
      },
      "source": [
        "# Calibrated with sigmoid calibration\n",
        "clf_SVM_sigmoid = CalibratedClassifierCV(base_estimator=Model_NuSVM_cali, cv=4, method='sigmoid')\n",
        "\n",
        "clf_SVM_sigmoid.fit(X_train, y_train)\n",
        "\n",
        "y_pred_SVM_sigmoid = clf_SVM_sigmoid.predict(X_test)\n",
        "proba_SVM_sigmoid = clf_SVM_sigmoid.predict_proba(X_test)"
      ],
      "execution_count": null,
      "outputs": []
    },
    {
      "cell_type": "code",
      "metadata": {
        "id": "vsWgQvkBRPsX"
      },
      "source": [
        "print(\"\\tscore: %1.3f\" % clf_SVM_sigmoid.score(X_test, y_test))\n",
        "print(\"\\tF1: %1.3f\" % f1_score(y_test, y_pred_SVM_sigmoid))\n",
        "print(\"\\tPrecision: %1.3f\" % precision_score(y_test, y_pred_SVM_sigmoid))\n",
        "print(\"\\tRecall: %1.3f\" % recall_score(y_test, y_pred_SVM_sigmoid))\n",
        "print(\"\\tbal_acc: %1.3f\" % balanced_accuracy_score(y_test, y_pred_SVM_sigmoid))\n",
        "print(\"\\tauc: %1.3f\" % roc_auc_score(y_test, proba_SVM_sigmoid[:,1]))\n",
        "print(\"\\tlog_loss: %1.3f\" % log_loss(y_test, proba_SVM_sigmoid))\n",
        "print(\"\\tBrier: %1.3f\" % brier_score_loss(y_test, proba_SVM_sigmoid[:,1]))"
      ],
      "execution_count": null,
      "outputs": []
    },
    {
      "cell_type": "code",
      "metadata": {
        "id": "59AQ95cCRPsX"
      },
      "source": [
        "reliability(\"NuSVM Uncalibrated\", y_test,  proba_NuSVM_uncalibrated_refit, 10)"
      ],
      "execution_count": null,
      "outputs": []
    },
    {
      "cell_type": "code",
      "metadata": {
        "id": "PfhyijX4RPsX"
      },
      "source": [
        "reliability(\"SVM Calibrated Platt (training)\", y_train, clf_SVM_sigmoid.predict_proba(X_train), 10)"
      ],
      "execution_count": null,
      "outputs": []
    },
    {
      "cell_type": "code",
      "metadata": {
        "id": "LBo6pJV6RPsY"
      },
      "source": [
        "reliability(\"NuSVM Calibrated Platt\",y_test, proba_SVM_sigmoid, 10)"
      ],
      "execution_count": null,
      "outputs": []
    },
    {
      "cell_type": "markdown",
      "metadata": {
        "id": "4t8YzlsOwvrI"
      },
      "source": [
        "# Results"
      ]
    },
    {
      "cell_type": "code",
      "metadata": {
        "id": "hJ1s3-0Wwx1Y"
      },
      "source": [
        "def plot_calibration_curve(est, name, fig_index):\n",
        "    \"\"\"Plot calibration curve for est w/o and with calibration. \"\"\"\n",
        "    # Calibrated with isotonic calibration\n",
        "    isotonic = CalibratedClassifierCV(est, cv=4, method='isotonic')\n",
        "\n",
        "    # Calibrated with sigmoid calibration\n",
        "    sigmoid = CalibratedClassifierCV(est, cv=4, method='sigmoid')\n",
        "\n",
        "    fig = plt.figure(fig_index, figsize=(10, 10))\n",
        "    ax1 = plt.subplot2grid((3, 1), (0, 0), rowspan=2)\n",
        "    ax2 = plt.subplot2grid((3, 1), (2, 0))\n",
        "\n",
        "    ax1.plot([0, 1], [0, 1], \"k:\", label=\"Perfectly calibrated\")\n",
        "\n",
        "    for clf, name in [(est, name),\n",
        "                      (isotonic, name + ' + Isotonic'),\n",
        "                      (sigmoid, name + ' + Sigmoid')]:\n",
        "        \n",
        "        clf.fit(X_train, y_train)\n",
        "        y_pred = clf.predict(X_test)\n",
        "        prob_pos = clf.predict_proba(X_test)[:, 1]\n",
        "\n",
        "        # clf_score = brier_score_loss(y_test, prob_pos, pos_label=y.max())\n",
        "        clf_score = expected_calibration_error(y_test, prob_pos,13)\n",
        "        fraction_of_positives, mean_predicted_value = \\\n",
        "            calibration_curve(y_test, prob_pos, n_bins=13, strategy='quantile')\n",
        "\n",
        "        ax1.plot(mean_predicted_value, fraction_of_positives, \"s-\",\n",
        "                 label=\"%s (%1.3f)\" % (name, clf_score))\n",
        "\n",
        "        ax2.hist(prob_pos, range=(0, 1), bins=13, label=name,\n",
        "                 histtype=\"step\", lw=2)\n",
        "\n",
        "    ax1.set_ylabel(\"Fraction of positives\")\n",
        "    ax1.set_ylim([-0.05, 1.05])\n",
        "    ax1.legend(loc=\"lower right\")\n",
        "    ax1.set_title('Calibration plots  (reliability curve)')\n",
        "\n",
        "    ax2.set_xlabel(\"Mean predicted value\")\n",
        "    ax2.set_ylabel(\"Count\")\n",
        "    ax2.legend(loc=\"upper center\", ncol=2)\n",
        "\n",
        "    plt.tight_layout()"
      ],
      "execution_count": null,
      "outputs": []
    },
    {
      "cell_type": "code",
      "metadata": {
        "id": "C-aadK5KG5WO"
      },
      "source": [
        "plot_calibration_curve(Model_GB, \"Gradient Boosting\", 1)\n",
        "plt.savefig('gb_calibration.png', bbox_inches = 'tight')\n",
        "files.download(\"gb_calibration.png\") "
      ],
      "execution_count": null,
      "outputs": []
    },
    {
      "cell_type": "code",
      "metadata": {
        "id": "B9TLerTxHWf4"
      },
      "source": [
        "plot_calibration_curve(Model_Ada_refit, \"ADA\", 1)\n",
        "plt.savefig('ada_calibration.png', bbox_inches = 'tight')\n",
        "files.download(\"ada_calibration.png\") "
      ],
      "execution_count": null,
      "outputs": []
    },
    {
      "cell_type": "code",
      "metadata": {
        "id": "-ZxtO6aUHdxo"
      },
      "source": [
        ""
      ],
      "execution_count": null,
      "outputs": []
    }
  ]
}